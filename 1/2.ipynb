{
 "cells": [
  {
   "cell_type": "code",
   "execution_count": 3,
   "metadata": {},
   "outputs": [
    {
     "ename": "",
     "evalue": "",
     "output_type": "error",
     "traceback": [
      "\u001b[1;31m在当前单元格或上一个单元格中执行代码时 Kernel 崩溃。请查看单元格中的代码，以确定故障的可能原因。有关详细信息，请单击 <a href='https://aka.ms/vscodeJupyterKernelCrash'>此处</a>。有关更多详细信息，请查看 Jupyter <a href='command:jupyter.viewOutput'>log</a>。"
     ]
    }
   ],
   "source": [
    "# 导入需要的包\n",
    "#coding=utf-8\n",
    "import json\n",
    "from PIL import Image, ImageDraw, ImageFont\n",
    "import string\n",
    "import os\n",
    "import warnings\n",
    "import requests\n",
    "#warnings.filterwarnings(\"ignore\")\n",
    "from lxml import etree\n",
    "import pymysql\n",
    "\n",
    "headers = {\n",
    "'User-Agent': 'Mozilla/5.0 (Windows NT 10.0; Win64; x64) AppleWebKit/537.36 (KHTML, like Gecko) Chrome/96.0.4664.93 Safari/537.36 Edg/96.0.1054.53'}\n",
    "\n",
    "\n",
    "\n",
    "\n",
    "# 背景尺寸\n",
    "#bg_size = (1080, 1920)\n",
    "# 生成一张尺寸为 750x1334 背景色为黄色的图片\n",
    "#bg = Image.new('RGB', bg_size, color=(255,255,0))\n",
    "\n",
    "#print(bg.size)\n",
    "#print(int(bg.size[0]/18))\n",
    "\n",
    "\n",
    "# 字体大小\n",
    "for i0 in range(1,10):\n",
    "    str0 = \"\"\n",
    "    list0 = []\n",
    "    bg = Image.open(\"7206.jpg\")  # .convert(\"RGBA\")\n",
    "    bg_size = bg.size\n",
    "    font_size = int(bg.size[0]/18)\n",
    "    # 文字内容\n",
    "    font = ImageFont.truetype(\"hwxw.ttf\", font_size)\n",
    "    draw = ImageDraw.Draw(bg)\n",
    "    url='https://www.gswen.com.cn/poetry/'+str(i0)+'.html'\n",
    "    r = requests.get(url, headers=headers)\n",
    "    r.encoding = 'utf-8'\n",
    "    r2 = etree.HTML(r.text)\n",
    "    #print(r.text)\n",
    "    #print(r2)\n",
    "    r5 = r2.xpath(\"//*[contains(@id,'viewbox')]/h1\")\n",
    "    if (r5 == []):\n",
    "        continue\n",
    "    print(r5[0].text)\n",
    "    list0.append(r5[0].text)\n",
    "\n",
    "\n",
    "    r5=r2.xpath(\"//*[contains(@id,'viewbox')]/div[1]/div[1]/a[1]/text()\")\n",
    "    print(r5[0])\n",
    "    r6=r2.xpath(\"//*[contains(@id,'viewbox')]/div[1]/div[1]/a[2]/text()\")\n",
    "    print(r6[0])\n",
    "    list0.append(r5[0]+'-'+r6[0])\n",
    "\n",
    "    r5=r2.xpath(\"//*[@class=\\\"conview conview_main show\\\"]/text()\")\n",
    "    if(r5==[]):\n",
    "        r5.append('')\n",
    "\n",
    "\n",
    "    for r6 in r5:\n",
    "        print(r6)\n",
    "        list0.append(r6.strip())#诗词\n",
    "\n",
    "    r5=r2.xpath(\"//*[contains(@id,'viewbox')]/dl[1]/dd[3]/p/span/text()\")\n",
    "\n",
    "\n",
    "    for r6 in r5:\n",
    "        str0=str0+r6#翻译\n",
    "    print(str0)\n",
    "    list0.append(str0)\n",
    "    r7=r2.xpath(\"//*[contains(@id,'viewbox')]/dl[1]/dd[5]/p/text()\")#解析\n",
    "    if(r7==[]):\n",
    "        r7.append('')\n",
    "    print(r7[0])\n",
    "    list0.append(r7[0])\n",
    "    print(list0)\n",
    "    url = f'https://api.gswen.com.cn/yuyin/out/gushi/{i0}.mp3'\n",
    "    response = requests.get(url)\n",
    "    with open(f'E:\\\\1\\\\1\\\\a-{str(i0)}.mp3', 'wb') as f:\n",
    "        f.write(response.content)\n",
    "    \n",
    "    db = pymysql.connect(host='152.69.193.99',\n",
    "                        port=3306,\n",
    "                        user='jk',\n",
    "                        password='11223344',\n",
    "                        database='jk')\n",
    "     # 使用 cursor() 方法创建一个游标对象 cursor\n",
    "    cursor = db.cursor()\n",
    "\n",
    "    # SQL 插入语句\n",
    "    a = i0\n",
    "    b = json.dumps(list0,ensure_ascii=False)\n",
    "    sql = \"INSERT INTO shi2(NO,WA) VALUES ('%s', '%s')\" % (a, b)\n",
    "    try:\n",
    "        # 执行sql语句\n",
    "        cursor.execute(sql)\n",
    "        # 提交到数据库执行\n",
    "        db.commit()\n",
    "        print('成功')\n",
    "    except:\n",
    "        # 如果发生错误则回滚\n",
    "        db.rollback()\n",
    "        print('失败')\n",
    "\n",
    "    # 关闭数据库连接\n",
    "    db.close()\n",
    "\n",
    "\n",
    "\n"
   ]
  },
  {
   "cell_type": "code",
   "execution_count": null,
   "metadata": {},
   "outputs": [],
   "source": []
  },
  {
   "cell_type": "code",
   "execution_count": 14,
   "metadata": {},
   "outputs": [
    {
     "data": {
      "text/plain": [
       "<_io.BufferedRandom name='52101.mp3'>"
      ]
     },
     "execution_count": 14,
     "metadata": {},
     "output_type": "execute_result"
    }
   ],
   "source": [
    "from pydub import AudioSegment\n",
    "\n",
    "# 加载第一段音乐\n",
    "audio1 = AudioSegment.from_file(\"1.mp3\")\n",
    "\n",
    "# 加载第二段音乐\n",
    "audio2 = AudioSegment.from_file(\"6.mp3\")\n",
    "\n",
    "# 在第一段音乐前面加上5秒静音\n",
    "silence_before = AudioSegment.silent(duration=2000)\n",
    "audio1_with_silence_before = silence_before + audio1\n",
    "\n",
    "# 在第一段音乐后面加上5秒静音\n",
    "silence_after = AudioSegment.silent(duration=5000)\n",
    "audio1_with_silence = audio1_with_silence_before + silence_after\n",
    "\n",
    "# 混合两段音乐\n",
    "mixed_audio = audio1_with_silence.overlay(audio2)\n",
    "\n",
    "# 保存混合后的音乐\n",
    "mixed_audio.export(\"52101.mp3\", format=\"mp3\")"
   ]
  },
  {
   "cell_type": "code",
   "execution_count": 16,
   "metadata": {},
   "outputs": [
    {
     "name": "stdout",
     "output_type": "stream",
     "text": [
      "Moviepy - Building video output52101.mp4.\n",
      "MoviePy - Writing audio in output52101TEMP_MPY_wvf_snd.mp3\n"
     ]
    },
    {
     "name": "stderr",
     "output_type": "stream",
     "text": [
      "                                                                    \r"
     ]
    },
    {
     "name": "stdout",
     "output_type": "stream",
     "text": [
      "MoviePy - Done.\n",
      "Moviepy - Writing video output52101.mp4\n",
      "\n"
     ]
    },
    {
     "name": "stderr",
     "output_type": "stream",
     "text": [
      "                                                               \r"
     ]
    },
    {
     "name": "stdout",
     "output_type": "stream",
     "text": [
      "Moviepy - Done !\n",
      "Moviepy - video ready output52101.mp4\n"
     ]
    }
   ],
   "source": [
    "from moviepy.editor import ImageClip, AudioFileClip, concatenate_videoclips\n",
    "\n",
    "# 打开图像和音乐文件\n",
    "image = ImageClip(\"7208.png\")\n",
    "music = AudioFileClip(\"52101.mp3\")\n",
    "\n",
    "# 将图像转换为视频片段，并设置持续时间为音乐的持续时间\n",
    "video = image.set_duration(music.duration).set_fps(12)\n",
    "\n",
    "# 将音乐和视频合并为一段视频\n",
    "final_video = concatenate_videoclips([video.set_audio(music)])\n",
    "\n",
    "# 保存最终的视频文件\n",
    "final_video.write_videofile(\"output52101.mp4\")"
   ]
  },
  {
   "cell_type": "code",
   "execution_count": 9,
   "metadata": {},
   "outputs": [
    {
     "name": "stdout",
     "output_type": "stream",
     "text": [
      "Title: 题春江渔父图, Author: 题春江渔父图\n",
      "Title: 鹧鸪天·谁伴闲人闲处闲, Author: 鹧鸪天·谁伴闲人闲处闲\n",
      "Title: 柳梢青·数声鶗鴂, Author: 柳梢青·数声鶗鴂\n",
      "Title: 雪, Author: 雪\n",
      "Title: 沁园春·梦孚若, Author: 沁园春·梦孚若\n",
      "Title: 送李少府时在客舍作, Author: 送李少府时在客舍作\n",
      "Title: 鸨羽, Author: 鸨羽\n",
      "Title: 风流子·枫林凋晚叶, Author: 风流子·枫林凋晚叶\n",
      "Title: 玄都坛歌寄元逸人, Author: 玄都坛歌寄元逸人\n",
      "Title: 感讽五首·其三, Author: 感讽五首·其三\n"
     ]
    },
    {
     "ename": "AttributeError",
     "evalue": "'NoneType' object has no attribute 'find'",
     "output_type": "error",
     "traceback": [
      "\u001b[1;31m---------------------------------------------------------------------------\u001b[0m",
      "\u001b[1;31mAttributeError\u001b[0m                            Traceback (most recent call last)",
      "Cell \u001b[1;32mIn[9], line 12\u001b[0m\n\u001b[0;32m     10\u001b[0m shiwens \u001b[39m=\u001b[39m soup\u001b[39m.\u001b[39mfind_all(\u001b[39m'\u001b[39m\u001b[39mdiv\u001b[39m\u001b[39m'\u001b[39m, class_\u001b[39m=\u001b[39m\u001b[39m'\u001b[39m\u001b[39msons\u001b[39m\u001b[39m'\u001b[39m)\n\u001b[0;32m     11\u001b[0m \u001b[39mfor\u001b[39;00m shiwen \u001b[39min\u001b[39;00m shiwens:\n\u001b[1;32m---> 12\u001b[0m     title \u001b[39m=\u001b[39m shiwen\u001b[39m.\u001b[39;49mfind(\u001b[39m'\u001b[39;49m\u001b[39mdiv\u001b[39;49m\u001b[39m'\u001b[39;49m, class_\u001b[39m=\u001b[39;49m\u001b[39m'\u001b[39;49m\u001b[39mcont\u001b[39;49m\u001b[39m'\u001b[39;49m)\u001b[39m.\u001b[39;49mfind(\u001b[39m'\u001b[39m\u001b[39mb\u001b[39m\u001b[39m'\u001b[39m)\u001b[39m.\u001b[39mtext\n\u001b[0;32m     13\u001b[0m     author \u001b[39m=\u001b[39m shiwen\u001b[39m.\u001b[39mfind(\u001b[39m'\u001b[39m\u001b[39mdiv\u001b[39m\u001b[39m'\u001b[39m, class_\u001b[39m=\u001b[39m\u001b[39m'\u001b[39m\u001b[39mcont\u001b[39m\u001b[39m'\u001b[39m)\u001b[39m.\u001b[39mfind(\u001b[39m'\u001b[39m\u001b[39mp\u001b[39m\u001b[39m'\u001b[39m)\u001b[39m.\u001b[39mfind(\u001b[39m'\u001b[39m\u001b[39ma\u001b[39m\u001b[39m'\u001b[39m)\u001b[39m.\u001b[39mtext\n\u001b[0;32m     14\u001b[0m     \u001b[39mprint\u001b[39m(\u001b[39mf\u001b[39m\u001b[39m'\u001b[39m\u001b[39mTitle: \u001b[39m\u001b[39m{\u001b[39;00mtitle\u001b[39m}\u001b[39;00m\u001b[39m, Author: \u001b[39m\u001b[39m{\u001b[39;00mauthor\u001b[39m}\u001b[39;00m\u001b[39m'\u001b[39m)\n",
      "\u001b[1;31mAttributeError\u001b[0m: 'NoneType' object has no attribute 'find'"
     ]
    },
    {
     "ename": "",
     "evalue": "",
     "output_type": "error",
     "traceback": [
      "\u001b[1;31m在当前单元格或上一个单元格中执行代码时 Kernel 崩溃。请查看单元格中的代码，以确定故障的可能原因。有关详细信息，请单击 <a href='https://aka.ms/vscodeJupyterKernelCrash'>此处</a>。有关更多详细信息，请查看 Jupyter <a href='command:jupyter.viewOutput'>log</a>。"
     ]
    }
   ],
   "source": [
    "import requests\n",
    "from bs4 import BeautifulSoup\n",
    "\n",
    "url = 'https://so.gushiwen.cn/shiwens/'\n",
    "response = requests.get(url)\n",
    "\n",
    "if response.status_code == 200:\n",
    "    html_content = response.text\n",
    "    soup = BeautifulSoup(html_content, 'html.parser')\n",
    "    shiwens = soup.find_all('div', class_='sons')\n",
    "    for shiwen in shiwens:\n",
    "        title = shiwen.find('div', class_='cont').find('b').text\n",
    "        author = shiwen.find('div', class_='cont').find('p').find('a').text\n",
    "        print(f'Title: {title}, Author: {author}')\n",
    "else:\n",
    "    print(f'Request failed with status code {response.status_code}')"
   ]
  },
  {
   "cell_type": "code",
   "execution_count": 6,
   "metadata": {},
   "outputs": [
    {
     "name": "stdout",
     "output_type": "stream",
     "text": [
      "Looking in indexes: https://pypi.tuna.tsinghua.edu.cn/simple\n",
      "Collecting webdavclient3\n",
      "  Downloading https://pypi.tuna.tsinghua.edu.cn/packages/be/40/dbb96e8196b32881b21fc88784caf9cabd60749d60807b1e3ffa76ca5e48/webdavclient3-3.14.6.tar.gz (23 kB)\n",
      "  Preparing metadata (setup.py): started\n",
      "  Preparing metadata (setup.py): finished with status 'done'\n",
      "Requirement already satisfied: requests in c:\\users\\guang\\anaconda3\\lib\\site-packages (from webdavclient3) (2.29.0)\n",
      "Requirement already satisfied: lxml in c:\\users\\guang\\anaconda3\\lib\\site-packages (from webdavclient3) (4.9.2)\n",
      "Requirement already satisfied: python-dateutil in c:\\users\\guang\\anaconda3\\lib\\site-packages (from webdavclient3) (2.8.2)\n",
      "Requirement already satisfied: six>=1.5 in c:\\users\\guang\\anaconda3\\lib\\site-packages (from python-dateutil->webdavclient3) (1.16.0)\n",
      "Requirement already satisfied: charset-normalizer<4,>=2 in c:\\users\\guang\\anaconda3\\lib\\site-packages (from requests->webdavclient3) (2.0.4)\n",
      "Requirement already satisfied: idna<4,>=2.5 in c:\\users\\guang\\anaconda3\\lib\\site-packages (from requests->webdavclient3) (3.4)\n",
      "Requirement already satisfied: certifi>=2017.4.17 in c:\\users\\guang\\anaconda3\\lib\\site-packages (from requests->webdavclient3) (2023.5.7)\n",
      "Requirement already satisfied: urllib3<1.27,>=1.21.1 in c:\\users\\guang\\anaconda3\\lib\\site-packages (from requests->webdavclient3) (1.26.15)\n",
      "Building wheels for collected packages: webdavclient3\n",
      "  Building wheel for webdavclient3 (setup.py): started\n",
      "  Building wheel for webdavclient3 (setup.py): finished with status 'done'\n",
      "  Created wheel for webdavclient3: filename=webdavclient3-3.14.6-py3-none-any.whl size=20919 sha256=325719c9aeec9c5b8a48c22f56e9d66514b00ee5592ac0c83e41fa381b02cdd6\n",
      "  Stored in directory: c:\\users\\guang\\appdata\\local\\pip\\cache\\wheels\\d2\\fe\\61\\e1232a4178c7de673f7464a2f271bc015548c70b3bd8fbcb95\n",
      "Successfully built webdavclient3\n",
      "Installing collected packages: webdavclient3\n",
      "Successfully installed webdavclient3-3.14.6\n",
      "Note: you may need to restart the kernel to use updated packages.\n"
     ]
    }
   ],
   "source": [
    "pip install webdavclient3 -i https://pypi.tuna.tsinghua.edu.cn/simple"
   ]
  },
  {
   "cell_type": "code",
   "execution_count": 44,
   "metadata": {},
   "outputs": [
    {
     "data": {
      "text/plain": [
       "'221 Goodbye'"
      ]
     },
     "execution_count": 44,
     "metadata": {},
     "output_type": "execute_result"
    },
    {
     "ename": "",
     "evalue": "",
     "output_type": "error",
     "traceback": [
      "\u001b[1;31m在当前单元格或上一个单元格中执行代码时 Kernel 崩溃。请查看单元格中的代码，以确定故障的可能原因。有关详细信息，请单击 <a href='https://aka.ms/vscodeJupyterKernelCrash'>此处</a>。有关更多详细信息，请查看 Jupyter <a href='command:jupyter.viewOutput'>log</a>。"
     ]
    }
   ],
   "source": [
    "\n",
    "import ftplib\n",
    "\n",
    "# 创建 FTP 连接\n",
    "ftp = ftplib.FTP()\n",
    "ftp.connect(host='61.191.56.236', port=27517)\n",
    "ftp.login(user='sp001', passwd='112233')\n",
    "\n",
    "# 设置 FTP 工作目录\n",
    "#ftp.cwd('/path/to/ftp/directory')\n",
    "\n",
    "# 打开本地视频文件并上传到 FTP 服务器\n",
    "with open('5.mp3', 'rb') as f:\n",
    "    ftp.storbinary(f\"STOR {'5.mp3'}\", f)\n",
    "\n",
    "# 关闭 FTP 连接\n",
    "ftp.quit()"
   ]
  },
  {
   "cell_type": "markdown",
   "metadata": {},
   "source": []
  },
  {
   "cell_type": "code",
   "execution_count": 9,
   "metadata": {},
   "outputs": [
    {
     "ename": "TypeError",
     "evalue": "upload() got an unexpected keyword argument 'callback'",
     "output_type": "error",
     "traceback": [
      "\u001b[1;31m---------------------------------------------------------------------------\u001b[0m",
      "\u001b[1;31mTypeError\u001b[0m                                 Traceback (most recent call last)",
      "Cell \u001b[1;32mIn[9], line 20\u001b[0m\n\u001b[0;32m     18\u001b[0m \u001b[39m# 将文件上传到服务器，并指定回调函数\u001b[39;00m\n\u001b[0;32m     19\u001b[0m \u001b[39mwith\u001b[39;00m \u001b[39mopen\u001b[39m(local_path, \u001b[39m\"\u001b[39m\u001b[39mrb\u001b[39m\u001b[39m\"\u001b[39m) \u001b[39mas\u001b[39;00m f:\n\u001b[1;32m---> 20\u001b[0m     client\u001b[39m.\u001b[39;49mupload(remote_path, f, callback\u001b[39m=\u001b[39;49mon_complete)\n",
      "\u001b[1;31mTypeError\u001b[0m: upload() got an unexpected keyword argument 'callback'"
     ]
    }
   ],
   "source": []
  },
  {
   "cell_type": "code",
   "execution_count": 37,
   "metadata": {},
   "outputs": [
    {
     "ename": "TypeError",
     "evalue": "stat: path should be string, bytes, os.PathLike or integer, not BufferedReader",
     "output_type": "error",
     "traceback": [
      "\u001b[1;31m---------------------------------------------------------------------------\u001b[0m",
      "\u001b[1;31mTypeError\u001b[0m                                 Traceback (most recent call last)",
      "Cell \u001b[1;32mIn[37], line 17\u001b[0m\n\u001b[0;32m      9\u001b[0m \u001b[39m#client.download_sync(remote_path='52101a.mp3', local_path='52101b.mp3')\u001b[39;00m\n\u001b[0;32m     10\u001b[0m \u001b[39m#client.upload_sync(remote_path='52101a1.mp3', local_path='52101.mp3')\u001b[39;00m\n\u001b[0;32m     11\u001b[0m \u001b[39m#client.upload('52101a.mp3', '52101.mp3')\u001b[39;00m\n\u001b[1;32m   (...)\u001b[0m\n\u001b[0;32m     14\u001b[0m \u001b[39m# local_path = \"52101.mp3\"\u001b[39;00m\n\u001b[0;32m     15\u001b[0m \u001b[39m# remote_path = \"52101.mp3\"\u001b[39;00m\n\u001b[0;32m     16\u001b[0m \u001b[39mwith\u001b[39;00m \u001b[39mopen\u001b[39m(\u001b[39m\"\u001b[39m\u001b[39m52101.mp3\u001b[39m\u001b[39m\"\u001b[39m, \u001b[39m\"\u001b[39m\u001b[39mrb\u001b[39m\u001b[39m\"\u001b[39m) \u001b[39mas\u001b[39;00m f:\n\u001b[1;32m---> 17\u001b[0m      future \u001b[39m=\u001b[39m client\u001b[39m.\u001b[39;49mupload(\u001b[39m\"\u001b[39;49m\u001b[39m52101.mp3\u001b[39;49m\u001b[39m\"\u001b[39;49m, f)\n",
      "File \u001b[1;32mc:\\Users\\guang\\anaconda3\\lib\\site-packages\\webdav3\\client.py:558\u001b[0m, in \u001b[0;36mClient.upload\u001b[1;34m(self, remote_path, local_path, progress, progress_args)\u001b[0m\n\u001b[0;32m    543\u001b[0m \u001b[39mdef\u001b[39;00m \u001b[39mupload\u001b[39m(\u001b[39mself\u001b[39m, remote_path, local_path, progress\u001b[39m=\u001b[39m\u001b[39mNone\u001b[39;00m, progress_args\u001b[39m=\u001b[39m()):\n\u001b[0;32m    544\u001b[0m \u001b[39m    \u001b[39m\u001b[39m\"\"\"Uploads resource to remote path on WebDAV server.\u001b[39;00m\n\u001b[0;32m    545\u001b[0m \u001b[39m    In case resource is directory it will upload all nested files and directories.\u001b[39;00m\n\u001b[0;32m    546\u001b[0m \u001b[39m    More information you can find by link http://webdav.org/specs/rfc4918.html#METHOD_PUT\u001b[39;00m\n\u001b[1;32m   (...)\u001b[0m\n\u001b[0;32m    556\u001b[0m \u001b[39m            object or a Client instance in order to edit the message with the updated progress status.\u001b[39;00m\n\u001b[0;32m    557\u001b[0m \u001b[39m    \"\"\"\u001b[39;00m\n\u001b[1;32m--> 558\u001b[0m     \u001b[39mif\u001b[39;00m os\u001b[39m.\u001b[39;49mpath\u001b[39m.\u001b[39;49misdir(local_path):\n\u001b[0;32m    559\u001b[0m         \u001b[39mself\u001b[39m\u001b[39m.\u001b[39mupload_directory(local_path\u001b[39m=\u001b[39mlocal_path, remote_path\u001b[39m=\u001b[39mremote_path, progress\u001b[39m=\u001b[39mprogress,\n\u001b[0;32m    560\u001b[0m                               progress_args\u001b[39m=\u001b[39mprogress_args)\n\u001b[0;32m    561\u001b[0m     \u001b[39melse\u001b[39;00m:\n",
      "File \u001b[1;32mc:\\Users\\guang\\anaconda3\\lib\\genericpath.py:42\u001b[0m, in \u001b[0;36misdir\u001b[1;34m(s)\u001b[0m\n\u001b[0;32m     40\u001b[0m \u001b[39m\u001b[39m\u001b[39m\"\"\"Return true if the pathname refers to an existing directory.\"\"\"\u001b[39;00m\n\u001b[0;32m     41\u001b[0m \u001b[39mtry\u001b[39;00m:\n\u001b[1;32m---> 42\u001b[0m     st \u001b[39m=\u001b[39m os\u001b[39m.\u001b[39;49mstat(s)\n\u001b[0;32m     43\u001b[0m \u001b[39mexcept\u001b[39;00m (\u001b[39mOSError\u001b[39;00m, \u001b[39mValueError\u001b[39;00m):\n\u001b[0;32m     44\u001b[0m     \u001b[39mreturn\u001b[39;00m \u001b[39mFalse\u001b[39;00m\n",
      "\u001b[1;31mTypeError\u001b[0m: stat: path should be string, bytes, os.PathLike or integer, not BufferedReader"
     ]
    }
   ],
   "source": [
    "from webdav3.client import Client\n",
    "\n",
    "options = {\n",
    " 'webdav_hostname': \"http://dav1.qwxyx.xyz\",\n",
    " 'webdav_login':    \"sp001\",\n",
    " 'webdav_password': \"112233\"\n",
    "}\n",
    "client = Client(options)\n",
    "#client.download_sync(remote_path='52101a.mp3', local_path='52101b.mp3')\n",
    "#client.upload_sync(remote_path='52101a1.mp3', local_path='52101.mp3')\n",
    "#client.upload('52101a.mp3', '52101.mp3')\n",
    "\n",
    "# 将文件上传到服务器，并获取上传结果\n",
    "# local_path = \"52101.mp3\"\n",
    "# remote_path = \"52101.mp3\"\n",
    "with open(\"52101.mp3\", \"rb\") as f:\n",
    "     future = client.upload(\"52101.mp3\", f)\n",
    "#future = client.upload(\"52101b.mp3\", \"52101.mp3\")\n",
    "# 检查上传结果\n",
    "# print(future.result())"
   ]
  },
  {
   "cell_type": "code",
   "execution_count": 4,
   "metadata": {},
   "outputs": [
    {
     "name": "stdout",
     "output_type": "stream",
     "text": [
      "Music upload failed!\n"
     ]
    }
   ],
   "source": [
    "import requests \n",
    "from base64 import b64encode\n",
    "import os\n",
    "\n",
    "music_path = '52101.mp3'\n",
    "url = 'http://dav1.qwxyx.xyz/52101c2.mp3' \n",
    "files = {'file': open(music_path, 'rb')}\n",
    "headers = {\n",
    "    'Authorization': 'Basic ' + b64encode(b'sp001:112233').decode(\"ascii\")\n",
    "}\n",
    "\n",
    "r = requests.put(url, files=files, headers=headers)\n",
    "if r.status_code == 201:\n",
    "    print('Music upload successful!')\n",
    "else: \n",
    "    print('Music upload failed!')"
   ]
  },
  {
   "cell_type": "code",
   "execution_count": 2,
   "metadata": {},
   "outputs": [
    {
     "name": "stdout",
     "output_type": "stream",
     "text": [
      "名句：\n",
      " 兵之利钝是常事，贵因败以为成耳。\n",
      "引用：\n",
      " 百战奇略·第六卷·败战\n",
      "注释：\n",
      " 解释：战的胜败乃是兵家常事，但可贵的是从失败中汲取教训而转败为胜。\n"
     ]
    }
   ],
   "source": [
    "import requests\n",
    "from lxml import etree\n",
    "\n",
    "# 请求页面内容\n",
    "url = 'https://so.gushiwen.cn/mingju/juv_7052b5ad9482.aspx'\n",
    "response = requests.get(url)\n",
    "\n",
    "# 解析页面内容\n",
    "html = etree.HTML(response.content)\n",
    "mingju = html.xpath('/html/body/div[2]/div[1]/div[2]/div[1]/h1/text()')[0].strip()\n",
    "yinyong=html.xpath('/html/body/div[2]/div[1]/div[2]/div[1]/p/a/text()')[0].strip()\n",
    "\n",
    "zhushi = html.xpath('/html/body/div[2]/div[1]/div[2]/div[1]/div/p/text()')[0].strip()\n",
    "\n",
    "# 输出结果\n",
    "print('名句：\\n', mingju)\n",
    "print('引用：\\n', yinyong)\n",
    "print('注释：\\n', zhushi)"
   ]
  },
  {
   "cell_type": "code",
   "execution_count": 28,
   "metadata": {},
   "outputs": [
    {
     "ename": "IndexError",
     "evalue": "list index out of range",
     "output_type": "error",
     "traceback": [
      "\u001b[1;31m---------------------------------------------------------------------------\u001b[0m",
      "\u001b[1;31mIndexError\u001b[0m                                Traceback (most recent call last)",
      "Cell \u001b[1;32mIn[28], line 7\u001b[0m\n\u001b[0;32m      5\u001b[0m response \u001b[39m=\u001b[39m requests\u001b[39m.\u001b[39mget(url)\n\u001b[0;32m      6\u001b[0m html \u001b[39m=\u001b[39m etree\u001b[39m.\u001b[39mHTML(response\u001b[39m.\u001b[39mcontent)\n\u001b[1;32m----> 7\u001b[0m url \u001b[39m=\u001b[39m html\u001b[39m.\u001b[39;49mxpath(\u001b[39m'\u001b[39;49m\u001b[39m/html/body/div[2]/div[1]/div[2]/div[3]/div/audio/@src\u001b[39;49m\u001b[39m'\u001b[39;49m)[\u001b[39m0\u001b[39;49m]\n\u001b[0;32m      9\u001b[0m \u001b[39m# 获取音乐文件的URL\u001b[39;00m\n\u001b[0;32m     10\u001b[0m url\n",
      "\u001b[1;31mIndexError\u001b[0m: list index out of range"
     ]
    }
   ],
   "source": [
    "import requests\n",
    "from lxml import etree\n",
    "# 请求页面内容\n",
    "url = 'https://so.gushiwen.cn/shiwenv_b3ca66e9081a.aspx'\n",
    "response = requests.get(url)\n",
    "html = etree.HTML(response.content)\n",
    "url = html.xpath('/html/body/div[2]/div[1]/div[2]/div[3]/div/audio/@src')[0]\n",
    "\n",
    "# 获取音乐文件的URL\n",
    "url\n",
    "\n",
    "# 下载音乐文件\n",
    "# response = requests.get(music_url)\n",
    "# with open('music.mp3', 'wb') as f:\n",
    "#     f.write(response.content)\n",
    "\n",
    "# print('音乐下载完成！')"
   ]
  },
  {
   "cell_type": "code",
   "execution_count": null,
   "metadata": {},
   "outputs": [],
   "source": [
    "pip install Pillow -i https://pypi.tuna.tsinghua.edu.cn/simple"
   ]
  },
  {
   "cell_type": "code",
   "execution_count": 2,
   "metadata": {},
   "outputs": [
    {
     "name": "stdout",
     "output_type": "stream",
     "text": [
      "[<b>虞美人·韶华争肯偎人住</b>, <b>寻诗两绝句</b>, <b>东门之池</b>, <b>秦女休行</b>, <b>红豆词四首·其四</b>, <b>咏萍</b>, <b>临江仙·探梅</b>, <b>初见嵩山</b>, <b>采桑子·何人解赏西湖好</b>, <b>秃秃记</b>]\n"
     ]
    }
   ],
   "source": [
    "import requests\n",
    "from bs4 import BeautifulSoup\n",
    "\n",
    "url = 'https://so.gushiwen.cn/shiwens/'\n",
    "response = requests.get(url)\n",
    "soup = BeautifulSoup(response.text, 'html.parser')\n",
    "\n",
    "titles = soup.find_all('b')\n",
    "print(titles)"
   ]
  }
 ],
 "metadata": {
  "kernelspec": {
   "display_name": "base",
   "language": "python",
   "name": "python3"
  },
  "language_info": {
   "codemirror_mode": {
    "name": "ipython",
    "version": 3
   },
   "file_extension": ".py",
   "mimetype": "text/x-python",
   "name": "python",
   "nbconvert_exporter": "python",
   "pygments_lexer": "ipython3",
   "version": "3.11.6"
  },
  "orig_nbformat": 4
 },
 "nbformat": 4,
 "nbformat_minor": 2
}
