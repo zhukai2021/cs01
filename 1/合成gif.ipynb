{
 "cells": [
  {
   "cell_type": "code",
   "execution_count": 5,
   "metadata": {},
   "outputs": [],
   "source": [
    "from PIL import Image\n",
    "import glob\n",
    "\n",
    "def create_gif(filenames, output_path, duration):\n",
    "    images = []\n",
    "    for filename in filenames:\n",
    "        img = Image.open(filename)\n",
    "        images.append(img)\n",
    "\n",
    "    images[0].save(output_path, save_all=True, append_images=images[1:], loop=0, transparency=0, disposal=2,duration=duration)\n",
    "\n",
    "# 获取所有图片的文件路径\n",
    "image_files = glob.glob(\"D:/1/121/0/*.png\")  # 将 \"path_to_images/*.png\" 替换为您的实际图片文件路径\n",
    "\n",
    "# 调用函数创建 GIF\n",
    "create_gif(image_files, \"a1.gif\", duration=1000)  # 将 \"output.gif\" 替换为您想要生成的 GIF 的文件路径"
   ]
  },
  {
   "cell_type": "code",
   "execution_count": 2,
   "metadata": {},
   "outputs": [],
   "source": [
    "from PIL import Image\n",
    "from PIL import ImageSequence\n",
    "def write_gif3(gif):\n",
    "    frames = []\n",
    "    img = Image.open(gif)\n",
    "    mask = Image.new(\"RGBA\", img.size, (255, 255, 255, 0))\n",
    "    for frame in ImageSequence.Iterator(img):\n",
    "        f = frame.copy().convert(\"RGBA\")\n",
    "        frames.append(Image.alpha_composite(mask, f))\n",
    "\n",
    "    img = Image.new(\"RGBA\", frame.size, (255, 255, 255, 0))\n",
    "    img.save(\"a2.gif\", save_all=True, append_images=frames, loop=0, transparency=0, disposal=2,duration=3000)\n",
    "\n",
    "write_gif3('a1.gif')"
   ]
  }
 ],
 "metadata": {
  "kernelspec": {
   "display_name": "base",
   "language": "python",
   "name": "python3"
  },
  "language_info": {
   "codemirror_mode": {
    "name": "ipython",
    "version": 3
   },
   "file_extension": ".py",
   "mimetype": "text/x-python",
   "name": "python",
   "nbconvert_exporter": "python",
   "pygments_lexer": "ipython3",
   "version": "3.11.5"
  }
 },
 "nbformat": 4,
 "nbformat_minor": 2
}
