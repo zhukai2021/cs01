{
 "cells": [
  {
   "cell_type": "code",
   "execution_count": 6,
   "metadata": {},
   "outputs": [],
   "source": [
    "from PIL import Image\n",
    "import glob\n",
    "\n",
    "def create_gif(filenames, output_path, duration):\n",
    "    images = []\n",
    "    for filename in filenames:\n",
    "        img = Image.open(filename)\n",
    "        images.append(img)\n",
    "\n",
    "    images[0].save(output_path, save_all=True, append_images=images[1:], loop=1, transparency=0, disposal=2,duration=duration)\n",
    "\n",
    "# 获取所有图片的文件路径\n",
    "image_files = glob.glob(\"D:/1/121/0/*.png\")  # 将 \"path_to_images/*.png\" 替换为您的实际图片文件路径\n",
    "\n",
    "# 调用函数创建 GIF\n",
    "create_gif(image_files, \"a1.gif\", duration=3000)  # 将 \"output.gif\" 替换为您想要生成的 GIF 的文件路径"
   ]
  },
  {
   "cell_type": "code",
   "execution_count": 12,
   "metadata": {},
   "outputs": [
    {
     "name": "stdout",
     "output_type": "stream",
     "text": [
      "[['d:/x1/2-5/1.png', 'd:/x1/2-5/2.png', 'd:/x1/2-5/3.png', 'd:/x1/2-5/4.png', 'd:/x1/2-5/5.png'], ['d:/x1/2-5/6.png', 'd:/x1/2-5/7.png', 'd:/x1/2-5/8.png', 'd:/x1/2-5/9.png', 'd:/x1/2-5/10.png'], ['d:/x1/2-5/11.png', 'd:/x1/2-5/12.png', 'd:/x1/2-5/13.png', 'd:/x1/2-5/14.png', 'd:/x1/2-5/15.png'], ['d:/x1/2-5/16.png', 'd:/x1/2-5/17.png', 'd:/x1/2-5/18.png', 'd:/x1/2-5/19.png', 'd:/x1/2-5/20.png'], ['d:/x1/2-5/21.png', 'd:/x1/2-5/22.png', 'd:/x1/2-5/23.png', 'd:/x1/2-5/24.png', 'd:/x1/2-5/25.png'], ['d:/x1/2-5/26.png', 'd:/x1/2-5/27.png', 'd:/x1/2-5/28.png', 'd:/x1/2-5/29.png', 'd:/x1/2-5/30.png'], ['d:/x1/2-5/31.png', 'd:/x1/2-5/32.png', 'd:/x1/2-5/33.png', 'd:/x1/2-5/34.png', 'd:/x1/2-5/35.png'], ['d:/x1/2-5/36.png', 'd:/x1/2-5/37.png', 'd:/x1/2-5/38.png', 'd:/x1/2-5/39.png', 'd:/x1/2-5/40.png'], ['d:/x1/2-5/41.png', 'd:/x1/2-5/42.png', 'd:/x1/2-5/43.png', 'd:/x1/2-5/44.png', 'd:/x1/2-5/45.png'], ['d:/x1/2-5/46.png', 'd:/x1/2-5/47.png', 'd:/x1/2-5/48.png', 'd:/x1/2-5/49.png', 'd:/x1/2-5/50.png'], ['d:/x1/2-5/51.png', 'd:/x1/2-5/52.png', 'd:/x1/2-5/53.png', 'd:/x1/2-5/54.png', 'd:/x1/2-5/55.png']]\n"
     ]
    }
   ],
   "source": [
    "import csv  \n",
    "import os\n",
    "  \n",
    "# 打开CSV文件并读取数据  \n",
    "with open('8-2.csv', 'r') as file:  \n",
    "    reader = csv.reader(file)  \n",
    "    data = [row for row in reader]  \n",
    "  \n",
    "# 打印列表  \n",
    "#print(data)\n",
    "#len(data)\n",
    "pic1=[]\n",
    "sz1=[]\n",
    "pic0 = 'd:/x1/2-5/'\n",
    "for i0,i in enumerate(range(1, len(data), 5)): \n",
    "    str0='' \n",
    "    pic2=[]\n",
    "    \n",
    "    for i1,j in enumerate(data[i:i+5]):\n",
    "        str0+=str(i1+1)+','+j[1]+\"\\n\"\n",
    "        pic2.append(pic0+str(i+i1)+'.png')\n",
    "    #print(str0)\n",
    "    sz2=[str(i0+1),(str0)]\n",
    "    sz1.append(sz2)\n",
    "    pic1.append(pic2)\n",
    "    \n",
    "    #print(pic2)\n",
    "print(pic1)\n",
    "from PIL import Image\n",
    "import glob\n",
    "\n",
    "\n",
    "def create_gif(filenames, output_path, duration):\n",
    "    images = []\n",
    "    for filename in filenames:\n",
    "        img = Image.open(filename)\n",
    "        images.append(img)\n",
    "\n",
    "    images[0].save(output_path, save_all=True, append_images=images[1:], loop=1, transparency=0, disposal=2,duration=duration)\n",
    "\n",
    "# 获取所有图片的文件路径\n",
    "#image_files = glob.glob(\"D:/1/121/0/*.png\")  # 将 \"path_to_images/*.png\" 替换为您的实际图片文件路径\n",
    "\n",
    "# 调用函数创建 GIF\n",
    "\n",
    "for i2,j2 in enumerate(pic1):\n",
    "    create_gif(j2, f\"d:/x1/2-5/1/a{str(i2+1)}.gif\", duration=3000)  # 将 \"output.gif\" 替换为您想要生成的 GIF 的文件路径\n",
    "\n",
    "    \n",
    "    \n",
    "   \n",
    "\n"
   ]
  }
 ],
 "metadata": {
  "kernelspec": {
   "display_name": "base",
   "language": "python",
   "name": "python3"
  },
  "language_info": {
   "codemirror_mode": {
    "name": "ipython",
    "version": 3
   },
   "file_extension": ".py",
   "mimetype": "text/x-python",
   "name": "python",
   "nbconvert_exporter": "python",
   "pygments_lexer": "ipython3",
   "version": "3.11.5"
  }
 },
 "nbformat": 4,
 "nbformat_minor": 2
}
