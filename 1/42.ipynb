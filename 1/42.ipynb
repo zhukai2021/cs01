{
 "cells": [
  {
   "cell_type": "code",
   "execution_count": 26,
   "metadata": {},
   "outputs": [
    {
     "name": "stderr",
     "output_type": "stream",
     "text": [
      "Exception managing chrome: error sending request for url (https://googlechromelabs.github.io/chrome-for-testing/known-good-versions-with-downloads.json): error trying to connect: 远程主机强迫关闭了一个现有的连接。 (os error 10054)\n"
     ]
    }
   ],
   "source": [
    "from selenium.webdriver import Chrome\n",
    "from lxml import etree\n",
    "import time\n",
    "import json\n",
    "from selenium.webdriver.common.by import By\n",
    "from selenium import webdriver\n",
    "import re\n",
    "from bs4 import BeautifulSoup\n",
    "import csv\n",
    "from selenium.webdriver.common.keys import Keys\n",
    "import requests\n",
    "import json\n",
    "import csv\n",
    "from urllib import parse\n",
    "\n",
    "options = webdriver.ChromeOptions()\n",
    "# options.add_argument('--headless')# 无界面\n",
    "# options.add_argument('--disable-gpu')#禁用GPU\n",
    "# options.add_experimental_option('excludeSwitches', ['enable-automation'])# 设置为开发者模式\n",
    "# options.add_argument(\"--disable-blink-features=AutomationControlled\")#防止检测\n",
    "options.add_experimental_option(\"debuggerAddress\", \"127.0.0.1:9527\")\n",
    "web = webdriver.Chrome(options=options)\n",
    "headers = {\n",
    "    'User-Agent': \"Mozilla/5.0 (Linux; Android 6.0; Nexus 5 Build/MRA58N) AppleWebKit/537.36 (KHTML, like Gecko) Chrome/98.0.4758.80 Mobile Safari/537.36 Edg/98.0.1108.43\"\n",
    "}\n",
    "\n",
    "\n",
    "# 点击图片上传按钮\n",
    "web.find_element(By.CLASS_NAME, 'soutu-btn').click()\n",
    "time.sleep(5)\n",
    "# 找到上传图片元素\n",
    "upload_pic_input = web.find_element(By.CLASS_NAME, 'upload-pic')\n",
    "# 直接上传\n",
    "upload_pic_input.send_keys(r'D:/1/9242.png')\n",
    "\n",
    "time.sleep(5)"
   ]
  },
  {
   "cell_type": "code",
   "execution_count": 1,
   "metadata": {},
   "outputs": [],
   "source": [
    "from selenium.webdriver import Chrome\n",
    "from lxml import etree\n",
    "import time\n",
    "import json\n",
    "from selenium.webdriver.common.by import By\n",
    "from selenium import webdriver\n",
    "import re\n",
    "from bs4 import BeautifulSoup\n",
    "import csv\n",
    "from selenium.webdriver.common.keys import Keys\n",
    "import requests\n",
    "import json\n",
    "import csv\n",
    "from urllib import parse\n",
    "\n",
    "options = webdriver.ChromeOptions()\n",
    "# options.add_argument('--headless')# 无界面\n",
    "# options.add_argument('--disable-gpu')#禁用GPU\n",
    "# options.add_experimental_option('excludeSwitches', ['enable-automation'])# 设置为开发者模式\n",
    "# options.add_argument(\"--disable-blink-features=AutomationControlled\")#防止检测\n",
    "options.add_experimental_option(\"debuggerAddress\", \"127.0.0.1:9527\")\n",
    "web = webdriver.Chrome(options=options)\n",
    "headers = {\n",
    "    'User-Agent': \"Mozilla/5.0 (Linux; Android 6.0; Nexus 5 Build/MRA58N) AppleWebKit/537.36 (KHTML, like Gecko) Chrome/98.0.4758.80 Mobile Safari/537.36 Edg/98.0.1108.43\"\n",
    "}\n",
    "\n",
    "def kuaishou(a1):\n",
    "    web.get('https://cp.kuaishou.com/article/publish/video')\n",
    "    time.sleep(15)\n",
    "    #找到上传图片元素\n",
    "    upload_pic_input = web.find_element(By.XPATH, '//*[@id=\"onvideo_creator_platform\"]/div/input')\n",
    "    #直接上传\n",
    "    upload_pic_input.send_keys(f'D:/1/1/a{str(a1)}.mp4')\n",
    "    time.sleep(15)\n",
    "    web.find_element(By.XPATH, '/html/body/div[1]/div[1]/div[1]/main/div/div/div[1]/div/div/haploid-html/haploid-body/div/div/div[4]/div/div[4]/div[2]/div[1]/div/div/div').send_keys(r'#诗词 #每天都有一个好心情 #每天学习一点点')\n",
    "    time.sleep(5)\n",
    "\n",
    "    web.find_element(By.XPATH, '/html/body/div[1]/div[1]/div[1]/main/div/div/div[1]/div/div/haploid-html/haploid-body/div/div/div[4]/div/div[4]/div[2]/div[8]/button[1]').click()\n",
    "\n",
    "    time.sleep(15)\n",
    "\n",
    "def douyin(a1):\n",
    "    web.get(\"https://creator.douyin.com/creator-micro/content/upload\")\n",
    "    time.sleep(15)\n",
    "    upload_pic_input = web.find_element(By.XPATH, '/html/body/div[1]/div/div[2]/div[3]/div/div/div/div[2]/div/div/div/div[3]/div/div[1]/div/div[1]/div/label/input')\n",
    "    upload_pic_input.send_keys(f'D:/1/1/a{str(a1)}.mp4')\n",
    "    time.sleep(15)\n",
    "    web.find_element(By.XPATH, '/html/body/div[1]/div/div[2]/div[3]/div/div/div/div[2]/div/div/div/div[2]/div[1]/div[2]/div/div/div/div[1]/div/div/div').send_keys('#诗词 #每天都有一个好心情 #每天学习一点点')\n",
    "    time.sleep(5)\n",
    "    web.find_element(By.XPATH, '/html/body/div[1]/div/div[2]/div[3]/div/div/div/div[2]/div/div/div/div[2]/div[1]/div[17]/button[1]').click()\n",
    "    time.sleep(15)\n",
    "\n",
    "\n",
    "\n",
    "kuaishou(172)\n",
    "douyin(172)\n"
   ]
  },
  {
   "cell_type": "code",
   "execution_count": 57,
   "metadata": {},
   "outputs": [
    {
     "name": "stdout",
     "output_type": "stream",
     "text": [
      "循环次数: 371\n",
      "文件不存在\n",
      "循环次数: 372\n",
      "文件不存在\n",
      "循环次数: 373\n",
      "文件不存在\n",
      "循环次数: 374\n",
      "文件不存在\n",
      "循环次数: 375\n",
      "文件不存在\n",
      "循环次数: 376\n",
      "文件不存在\n",
      "循环次数: 377\n",
      "文件不存在\n",
      "循环次数: 378\n",
      "文件不存在\n",
      "循环次数: 379\n",
      "文件不存在\n",
      "循环次数: 380\n",
      "文件不存在\n"
     ]
    }
   ],
   "source": [
    "import os\n",
    "def dg1(jg1):\n",
    "    background_image_path = f\"D:/31/a{jg1}.png\"\n",
    "    if os.path.exists(background_image_path):\n",
    "        print(\"文件存在\")\n",
    "    else:\n",
    "        print(\"文件不存在\")\n",
    "        jg1=jg1+1\n",
    "\n",
    "\n",
    "import os\n",
    "\n",
    "# 检查是否存在计数器文件\n",
    "counter_file = \"counter.txt\"\n",
    "if os.path.exists(counter_file):\n",
    "    # 如果文件存在，从文件中加载计数器的值\n",
    "    with open(counter_file, \"r\") as file:\n",
    "        counter = int(file.read())\n",
    "else:\n",
    "    # 如果文件不存在，初始化计数器为0\n",
    "    counter = 90\n",
    "\n",
    "# 执行循环操作\n",
    "for i in range(counter, counter+10):\n",
    "    print(\"循环次数:\", i)\n",
    "    dg1(i)\n",
    "    counter = i + 1\n",
    "\n",
    "    # 将计数器的值保存到文件\n",
    "    with open(counter_file, \"w\") as file:\n",
    "        file.write(str(counter))"
   ]
  },
  {
   "cell_type": "code",
   "execution_count": 18,
   "metadata": {},
   "outputs": [
    {
     "name": "stdout",
     "output_type": "stream",
     "text": [
      "循环次数: 0\n",
      "循环次数: 1\n",
      "循环次数: 2\n",
      "循环次数: 3\n",
      "循环次数: 4\n",
      "循环次数: 5\n",
      "循环次数: 6\n",
      "循环次数: 7\n",
      "循环次数: 8\n",
      "循环次数: 9\n"
     ]
    }
   ],
   "source": [
    "import os\n",
    "\n",
    "# 检查是否存在计数器文件\n",
    "counter_file = \"counter.txt\"\n",
    "if os.path.exists(counter_file):\n",
    "    # 如果文件存在，从文件中加载计数器的值\n",
    "    with open(counter_file, \"r\") as file:\n",
    "        counter = int(file.read())\n",
    "else:\n",
    "    # 如果文件不存在，初始化计数器为0\n",
    "    counter = 0\n",
    "\n",
    "# 执行循环操作\n",
    "for i in range(counter, 10):\n",
    "    print(\"循环次数:\", i)\n",
    "    # 在每次循环结束后，更新计数器的值并保存到文件\n",
    "    counter = i + 1\n",
    "\n",
    "    # 将计数器的值保存到文件\n",
    "    with open(counter_file, \"w\") as file:\n",
    "        file.write(str(counter))"
   ]
  },
  {
   "cell_type": "code",
   "execution_count": 96,
   "metadata": {},
   "outputs": [
    {
     "name": "stdout",
     "output_type": "stream",
     "text": [
      "文件不存在D:/1/a150.mp4\n",
      "文件不存在D:/1/a151.mp4\n",
      "文件不存在D:/1/a152.mp4\n",
      "文件存在\n"
     ]
    }
   ],
   "source": [
    "import os\n",
    "a=150\n",
    "def digui(a):\n",
    "    file_path = f'D:/1/a{a}.mp4'\n",
    "\n",
    "    if os.path.exists(file_path):\n",
    "        print(\"文件存在\")\n",
    "    else:\n",
    "        print(\"文件不存在\"+f'D:/1/a{a}.mp4')\n",
    "        a=a+1\n",
    "        digui(a)\n",
    "\n",
    "digui(a)"
   ]
  }
 ],
 "metadata": {
  "kernelspec": {
   "display_name": "Python 3",
   "language": "python",
   "name": "python3"
  },
  "language_info": {
   "codemirror_mode": {
    "name": "ipython",
    "version": 3
   },
   "file_extension": ".py",
   "mimetype": "text/x-python",
   "name": "python",
   "nbconvert_exporter": "python",
   "pygments_lexer": "ipython3",
   "version": "3.9.13"
  }
 },
 "nbformat": 4,
 "nbformat_minor": 2
}
