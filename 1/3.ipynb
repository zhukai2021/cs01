{
 "cells": [
  {
   "cell_type": "code",
   "execution_count": null,
   "metadata": {},
   "outputs": [
    {
     "name": "stdout",
     "output_type": "stream",
     "text": [
      "上传文件时出错：{\"messages\":[\"sha is missing\",\"sha is empty\"]}\n"
     ]
    }
   ],
   "source": [
    "\n"
   ]
  },
  {
   "cell_type": "code",
   "execution_count": null,
   "metadata": {},
   "outputs": [],
   "source": [
    "import requests\n",
    "\n",
    "# Gitee OAuth 需要的密钥\n",
    "client_id = 'your client id'\n",
    "client_secret = 'your client secret'\n",
    "\n",
    "# 获取 OAuth 访问令牌\n",
    "url = 'https://gitee.com/oauth/token'\n",
    "data = {\n",
    "    'grant_type': 'client_credentials',\n",
    "    'client_id': client_id,\n",
    "    'client_secret': client_secret\n",
    "}\n",
    "response = requests.post(url, data=data)\n",
    "access_token = response.json()['access_token']\n",
    "\n",
    "# 上传文件\n",
    "url = 'https://gitee.com/api/v5/repos/username/repo-name/contents/path/to/file'\n",
    "files = {'file': open('file.txt', 'rb')}\n",
    "headers = {\n",
    "    'Authorization': f'Bearer {access_token}'\n",
    "}\n",
    "data = {\n",
    "    'message': 'add file',\n",
    "    'access_token': access_token\n",
    "}\n",
    "response = requests.put(url, headers=headers, data=data, files=files)\n",
    "print(response.text)"
   ]
  },
  {
   "cell_type": "code",
   "execution_count": 1,
   "metadata": {},
   "outputs": [
    {
     "name": "stdout",
     "output_type": "stream",
     "text": [
      "{'id': '6', 'nr': '知之者不如好之者，好之者不如乐之者。', '作者': '《礼记》', '出处': '《礼记·学记》', '意思': '知道一件事情不如喜欢它的人，喜欢它的人不如享受它的人。'}\n",
      "1\n",
      "720 1296 0.5555555555555556 40.0\n",
      "2\n",
      "3\n",
      "保存成功 at {}\n",
      "{'id': '7', 'nr': '人之初，性本善。', '作者': '孟子', '出处': '《孟子·性善》', '意思': '人生来就有善良的本性。'}\n",
      "1\n",
      "2\n",
      "3\n",
      "保存成功 at {}\n",
      "{'id': '8', 'nr': '有朋自远方来，不亦乐乎。', '作者': '《论语》', '出处': '《论语·里仁》', '意思': '有朋自远方来，是一件非常快乐的事情。'}\n",
      "1\n",
      "720 864 0.8333333333333334 40.0\n",
      "2\n",
      "3\n",
      "保存成功 at {}\n",
      "{'id': '9', 'nr': '为中华之崛起而读书。', '作者': '严复', '出处': '《学习之道》', '意思': '读书是为了促进中华民族的崛起。'}\n",
      "1\n",
      "720 720 1.0 40.0\n",
      "2\n",
      "3\n",
      "保存成功 at {}\n",
      "{'id': '10', 'nr': '身正不怕影子斜。', '作者': '《论语》', '出处': '《论语·里仁》', '意思': '只要自己做事情正确，不怕别人对自己有误解。'}\n",
      "1\n",
      "2\n",
      "3\n",
      "保存成功 at {}\n",
      "{'id': '11', 'nr': '君子喻于义，小人喻于利。', '作者': '《礼记》', '出处': '《礼记·文王世子》', '意思': '君子明白道义，小人只关心自己的利益。'}\n",
      "1\n",
      "720 864 0.8333333333333334 40.0\n",
      "2\n",
      "3\n",
      "保存成功 at {}\n",
      "{'id': '12', 'nr': '不以成败论英雄。', '作者': '《史记》', '出处': '《史记·陈涉世家》', '意思': '不以胜负论英雄的伟大。'}\n",
      "1\n",
      "2\n",
      "3\n",
      "保存成功 at {}\n",
      "{'id': '13', 'nr': '学而时习之，不亦乐乎。', '作者': '《论语》', '出处': '《论语·学而》', '意思': '学习并不断地复习，是一件非常快乐的事情。'}\n",
      "1\n",
      "720 792 0.9090909090909091 40.0\n",
      "2\n",
      "3\n",
      "保存成功 at {}\n",
      "{'id': '14', 'nr': '人非生而知之者，孰能无惑。', '作者': '《礼记》', '出处': '《礼记·学记》', '意思': '人不是生来就知道一切的，谁能没有困惑呢。'}\n",
      "1\n",
      "720 936 0.7692307692307693 40.0\n",
      "2\n",
      "3\n",
      "保存成功 at {}\n",
      "{'id': '15', 'nr': '先天下之忧而忧，后天下之乐而乐。', '作者': '《庄子》', '出处': '《庄子·天下篇》', '意思': '提前担忧天下的问题，后来享受天下的乐趣。'}\n",
      "1\n",
      "720 1152 0.625 40.0\n",
      "2\n",
      "3\n",
      "保存成功 at {}\n",
      "{'id': '16', 'nr': '百川归海，何时复西归。', '作者': '辛弃疾', '出处': '《青玉案·元夕》', '意思': '百川流入大海，何时才能回到西方。'}\n",
      "1\n",
      "720 792 0.9090909090909091 40.0\n",
      "2\n",
      "3\n",
      "保存成功 at {}\n",
      "{'id': '17', 'nr': '天生我材必有用。', '作者': '李白', '出处': '《将进酒》', '意思': '天生我才必有所用。'}\n",
      "1\n",
      "2\n",
      "3\n",
      "保存成功 at {}\n",
      "{'id': '18', 'nr': '大音希声，大象无形。', '作者': '《易经》', '出处': '《易经·系辞下》', '意思': '伟大的声音是微弱的，伟大的形象是无形的。'}\n",
      "1\n",
      "720 720 1.0 40.0\n",
      "2\n",
      "3\n",
      "保存成功 at {}\n",
      "{'id': '19', 'nr': '有志者事竟成。', '作者': '《后汉书》', '出处': '《后汉书·班梦泽传》', '意思': '有决心的人最终会成功。'}\n",
      "1\n",
      "2\n",
      "3\n",
      "保存成功 at {}\n",
      "{'id': '20', 'nr': '好汉不提当年勇，只道是童话中人。', '作者': '陆游', '出处': '《钱塘湖春行》', '意思': '好汉不再提起当年的勇气，只当作是童话中的人物。'}\n",
      "1\n",
      "720 1152 0.625 40.0\n",
      "2\n",
      "3\n",
      "保存成功 at {}\n"
     ]
    }
   ],
   "source": [
    "# 导入需要的包\n",
    "#coding=utf-8\n",
    "import json\n",
    "from PIL import Image, ImageDraw, ImageFont\n",
    "import string\n",
    "import os\n",
    "import warnings\n",
    "import requests\n",
    "warnings.filterwarnings(\"ignore\")\n",
    "from lxml import etree\n",
    "import pymysql\n",
    "headers = {\n",
    "'User-Agent': 'Mozilla/5.0 (Windows NT 10.0; Win64; x64) AppleWebKit/537.36 (KHTML, like Gecko) Chrome/96.0.4664.93 Safari/537.36 Edg/96.0.1054.53'}\n",
    "\n",
    "import pymysql\n",
    "\n",
    "# 连接到数据库\n",
    "conn = pymysql.connect(\n",
    "        host='152.69.193.99',\n",
    "        user='jk',\n",
    "        password='11223344',\n",
    "        db='jk',\n",
    "        charset='utf8mb4',\n",
    "        cursorclass=pymysql.cursors.DictCursor\n",
    "    )\n",
    "\n",
    "# 创建一个游标对象以执行查询\n",
    "cursor = conn.cursor()\n",
    "\n",
    "\n",
    "mu0=['E:cs1.jpg','E:cs2.jpg','E:cs3.jpg']\n",
    "\n",
    "\n",
    "\n",
    "# 字体大小\n",
    "for i0 in range(6,21):\n",
    "    sql = f\"SELECT * FROM mj2 WHERE id = '{i0}'\"\n",
    "    cursor.execute(sql)\n",
    "\n",
    "    # 获取符合条件的行\n",
    "    row = cursor.fetchone()\n",
    "\n",
    "    # 打印结果\n",
    "    if row:\n",
    "        print(row)\n",
    "    else:\n",
    "        print(f\"没有找到值为 {value} 的行\")\n",
    "   \n",
    "    list0=list(row.values())\n",
    "    \n",
    "    bg = Image.open(mu0[i0%3])  # .convert(\"RGBA\")\n",
    "    bg_size = bg.size\n",
    "    font_size = int(bg.size[0]/18)\n",
    "    # 文字内容\n",
    "    font = ImageFont.truetype(\"hwxw.ttf\", font_size)\n",
    "    draw = ImageDraw.Draw(bg)\n",
    "    w1=0.13*bg.size[1]\n",
    "    for i1 in range(1,int(len(list0)-1)):\n",
    "        print(i1)\n",
    "        text_width = font.getsize(list0[i1])\n",
    "        if(i1==1):\n",
    "            font_size = int(bg.size[0] /10)\n",
    "            font = ImageFont.truetype(\"hwxw.ttf\", font_size)\n",
    "            text_width = font.getsize(list0[i1])\n",
    "        if(i1==2):\n",
    "            font_size = int(bg.size[0] / 24)\n",
    "            font = ImageFont.truetype(\"hwxw.ttf\", font_size)\n",
    "            text_width = font.getsize(str(list0[i1]))\n",
    "        if(i1==3):\n",
    "            font_size = int(bg.size[0] / 24)\n",
    "            font = ImageFont.truetype(\"hwxw.ttf\", font_size)\n",
    "            text_width = font.getsize(str(list0[i1]))\n",
    "\n",
    "\n",
    "\n",
    "        if (0.8*bg.size[0] < text_width[0]):\n",
    "            font_size = int(0.8*bg.size[0] / len(str(list0[i1])))\n",
    "            print(bg.size[0] ,text_width[0],bg.size[0] / text_width[0],bg.size[0]/18)\n",
    "            font = ImageFont.truetype(\"hwxw.ttf\", font_size)\n",
    "            text_width = font.getsize(str(list0[i1]))\n",
    "        # draw.text((int((bg_size[0]-text_width[0])/2)+1,w1+150+1), str(list0[i1]), (255,255,255), font=font)\n",
    "        # draw.text((int((bg_size[0]-text_width[0])/2)+1,w1+150-1), str(list0[i1]), (255,255,255),font=font)\n",
    "        # draw.text((int((bg_size[0]-text_width[0])/2)-1,w1+150+1), str(list0[i1]), (255,255,255),font=font)\n",
    "        # draw.text((int((bg_size[0]-text_width[0])/2)-1,w1+150-1), str(list0[i1]), (255,255,255),font=font)\n",
    "\n",
    "     \n",
    "\n",
    "        draw.text((int((bg_size[0]-text_width[0])/2),w1+150), str(list0[i1]),(0,0,0), font=font)\n",
    "\n",
    "        # font_size = int(bg.size[0] / 18)\n",
    "        # font = ImageFont.truetype(\"hwxw.ttf\", font_size)\n",
    "        w1 = w1 + 1.5 * text_width[1]\n",
    "        #img_path = os.path.join('.', 'output', 'center_text.jpg')\n",
    "\n",
    "        font_size = int(bg.size[0] / 20)\n",
    "        font = ImageFont.truetype(\"kt.ttf\", font_size)\n",
    "        t='        '+list0[-1]\n",
    "        j=''\n",
    "        j1=''\n",
    "        j2=1\n",
    "        for i in t:\n",
    "            j=j+i\n",
    "            #text_width =\n",
    "            if(font.getsize(j)[0]>0.75*bg_size[0]):\n",
    "                j1=j1+j+'\\n'\n",
    "                j=''\n",
    "                j2=j2+1\n",
    "        j1=j1+j\n",
    "\n",
    "\n",
    "        text_width = font.getsize(j1)\n",
    "        # draw.text(   (  0.075*bg_size[0]+1,1.03*5/3*(len(list0)+2)*text_width[1]+1  )    , j1, (255,255,255), font=font)\n",
    "        # draw.text(   (  0.075*bg_size[0]+1,1.03*5/3*(len(list0)+2)*text_width[1]-1  )    , j1, (255,255,255), font=font)\n",
    "        # draw.text(   (  0.075*bg_size[0]-1,1.03*5/3*(len(list0)+2)*text_width[1]+1  )    , j1, (255,255,255), font=font)\n",
    "        # draw.text(   (  0.075*bg_size[0]-1,1.03*5/3*(len(list0)+2)*text_width[1]-1  )    , j1, (255,255,255), font=font)\n",
    "        draw.text(    (  0.075*bg_size[0],1.03*5/3*(len(list0)+2)*text_width[1]  )    , j1,(0,0,0), font=font)\n",
    "\n",
    "    # 保存图片\n",
    "    bg.save('E:1\\/' +'b'+str(i0)+'.png')\n",
    "    #bg.show()\n",
    "    print('保存成功 at {}')\n",
    "\n",
    "   \n",
    "\n",
    "conn.close()\n",
    "\n"
   ]
  },
  {
   "cell_type": "code",
   "execution_count": 1,
   "metadata": {},
   "outputs": [
    {
     "ename": "ProgrammingError",
     "evalue": "(1146, \"Table 'jk.mj1' doesn't exist\")",
     "output_type": "error",
     "traceback": [
      "\u001b[1;31m---------------------------------------------------------------------------\u001b[0m",
      "\u001b[1;31mProgrammingError\u001b[0m                          Traceback (most recent call last)",
      "\u001b[1;32md:\\onedriver1t\\OneDrive - 356h31\\桌面\\cs01\\1\\3.ipynb 单元格 4\u001b[0m line \u001b[0;36m1\n\u001b[0;32m     <a href='vscode-notebook-cell:/d%3A/onedriver1t/OneDrive%20-%20356h31/%E6%A1%8C%E9%9D%A2/cs01/1/3.ipynb#W3sZmlsZQ%3D%3D?line=15'>16</a>\u001b[0m \u001b[39m# 执行查询\u001b[39;00m\n\u001b[0;32m     <a href='vscode-notebook-cell:/d%3A/onedriver1t/OneDrive%20-%20356h31/%E6%A1%8C%E9%9D%A2/cs01/1/3.ipynb#W3sZmlsZQ%3D%3D?line=16'>17</a>\u001b[0m sql \u001b[39m=\u001b[39m \u001b[39m\"\u001b[39m\u001b[39mSELECT * FROM mj1\u001b[39m\u001b[39m\"\u001b[39m\n\u001b[1;32m---> <a href='vscode-notebook-cell:/d%3A/onedriver1t/OneDrive%20-%20356h31/%E6%A1%8C%E9%9D%A2/cs01/1/3.ipynb#W3sZmlsZQ%3D%3D?line=17'>18</a>\u001b[0m cursor\u001b[39m.\u001b[39;49mexecute(sql)\n\u001b[0;32m     <a href='vscode-notebook-cell:/d%3A/onedriver1t/OneDrive%20-%20356h31/%E6%A1%8C%E9%9D%A2/cs01/1/3.ipynb#W3sZmlsZQ%3D%3D?line=19'>20</a>\u001b[0m \u001b[39m# 获取所有结果\u001b[39;00m\n\u001b[0;32m     <a href='vscode-notebook-cell:/d%3A/onedriver1t/OneDrive%20-%20356h31/%E6%A1%8C%E9%9D%A2/cs01/1/3.ipynb#W3sZmlsZQ%3D%3D?line=20'>21</a>\u001b[0m \u001b[39m# 获取第 n 行数据\u001b[39;00m\n\u001b[0;32m     <a href='vscode-notebook-cell:/d%3A/onedriver1t/OneDrive%20-%20356h31/%E6%A1%8C%E9%9D%A2/cs01/1/3.ipynb#W3sZmlsZQ%3D%3D?line=21'>22</a>\u001b[0m n \u001b[39m=\u001b[39m \u001b[39m3\u001b[39m  \u001b[39m# 替换为您想要获取的行数\u001b[39;00m\n",
      "File \u001b[1;32mc:\\Users\\guang\\anaconda3\\lib\\site-packages\\pymysql\\cursors.py:158\u001b[0m, in \u001b[0;36mCursor.execute\u001b[1;34m(self, query, args)\u001b[0m\n\u001b[0;32m    154\u001b[0m     \u001b[39mpass\u001b[39;00m\n\u001b[0;32m    156\u001b[0m query \u001b[39m=\u001b[39m \u001b[39mself\u001b[39m\u001b[39m.\u001b[39mmogrify(query, args)\n\u001b[1;32m--> 158\u001b[0m result \u001b[39m=\u001b[39m \u001b[39mself\u001b[39;49m\u001b[39m.\u001b[39;49m_query(query)\n\u001b[0;32m    159\u001b[0m \u001b[39mself\u001b[39m\u001b[39m.\u001b[39m_executed \u001b[39m=\u001b[39m query\n\u001b[0;32m    160\u001b[0m \u001b[39mreturn\u001b[39;00m result\n",
      "File \u001b[1;32mc:\\Users\\guang\\anaconda3\\lib\\site-packages\\pymysql\\cursors.py:325\u001b[0m, in \u001b[0;36mCursor._query\u001b[1;34m(self, q)\u001b[0m\n\u001b[0;32m    323\u001b[0m conn \u001b[39m=\u001b[39m \u001b[39mself\u001b[39m\u001b[39m.\u001b[39m_get_db()\n\u001b[0;32m    324\u001b[0m \u001b[39mself\u001b[39m\u001b[39m.\u001b[39m_clear_result()\n\u001b[1;32m--> 325\u001b[0m conn\u001b[39m.\u001b[39;49mquery(q)\n\u001b[0;32m    326\u001b[0m \u001b[39mself\u001b[39m\u001b[39m.\u001b[39m_do_get_result()\n\u001b[0;32m    327\u001b[0m \u001b[39mreturn\u001b[39;00m \u001b[39mself\u001b[39m\u001b[39m.\u001b[39mrowcount\n",
      "File \u001b[1;32mc:\\Users\\guang\\anaconda3\\lib\\site-packages\\pymysql\\connections.py:549\u001b[0m, in \u001b[0;36mConnection.query\u001b[1;34m(self, sql, unbuffered)\u001b[0m\n\u001b[0;32m    547\u001b[0m     sql \u001b[39m=\u001b[39m sql\u001b[39m.\u001b[39mencode(\u001b[39mself\u001b[39m\u001b[39m.\u001b[39mencoding, \u001b[39m\"\u001b[39m\u001b[39msurrogateescape\u001b[39m\u001b[39m\"\u001b[39m)\n\u001b[0;32m    548\u001b[0m \u001b[39mself\u001b[39m\u001b[39m.\u001b[39m_execute_command(COMMAND\u001b[39m.\u001b[39mCOM_QUERY, sql)\n\u001b[1;32m--> 549\u001b[0m \u001b[39mself\u001b[39m\u001b[39m.\u001b[39m_affected_rows \u001b[39m=\u001b[39m \u001b[39mself\u001b[39;49m\u001b[39m.\u001b[39;49m_read_query_result(unbuffered\u001b[39m=\u001b[39;49munbuffered)\n\u001b[0;32m    550\u001b[0m \u001b[39mreturn\u001b[39;00m \u001b[39mself\u001b[39m\u001b[39m.\u001b[39m_affected_rows\n",
      "File \u001b[1;32mc:\\Users\\guang\\anaconda3\\lib\\site-packages\\pymysql\\connections.py:779\u001b[0m, in \u001b[0;36mConnection._read_query_result\u001b[1;34m(self, unbuffered)\u001b[0m\n\u001b[0;32m    777\u001b[0m \u001b[39melse\u001b[39;00m:\n\u001b[0;32m    778\u001b[0m     result \u001b[39m=\u001b[39m MySQLResult(\u001b[39mself\u001b[39m)\n\u001b[1;32m--> 779\u001b[0m     result\u001b[39m.\u001b[39;49mread()\n\u001b[0;32m    780\u001b[0m \u001b[39mself\u001b[39m\u001b[39m.\u001b[39m_result \u001b[39m=\u001b[39m result\n\u001b[0;32m    781\u001b[0m \u001b[39mif\u001b[39;00m result\u001b[39m.\u001b[39mserver_status \u001b[39mis\u001b[39;00m \u001b[39mnot\u001b[39;00m \u001b[39mNone\u001b[39;00m:\n",
      "File \u001b[1;32mc:\\Users\\guang\\anaconda3\\lib\\site-packages\\pymysql\\connections.py:1157\u001b[0m, in \u001b[0;36mMySQLResult.read\u001b[1;34m(self)\u001b[0m\n\u001b[0;32m   1155\u001b[0m \u001b[39mdef\u001b[39;00m \u001b[39mread\u001b[39m(\u001b[39mself\u001b[39m):\n\u001b[0;32m   1156\u001b[0m     \u001b[39mtry\u001b[39;00m:\n\u001b[1;32m-> 1157\u001b[0m         first_packet \u001b[39m=\u001b[39m \u001b[39mself\u001b[39;49m\u001b[39m.\u001b[39;49mconnection\u001b[39m.\u001b[39;49m_read_packet()\n\u001b[0;32m   1159\u001b[0m         \u001b[39mif\u001b[39;00m first_packet\u001b[39m.\u001b[39mis_ok_packet():\n\u001b[0;32m   1160\u001b[0m             \u001b[39mself\u001b[39m\u001b[39m.\u001b[39m_read_ok_packet(first_packet)\n",
      "File \u001b[1;32mc:\\Users\\guang\\anaconda3\\lib\\site-packages\\pymysql\\connections.py:729\u001b[0m, in \u001b[0;36mConnection._read_packet\u001b[1;34m(self, packet_type)\u001b[0m\n\u001b[0;32m    727\u001b[0m     \u001b[39mif\u001b[39;00m \u001b[39mself\u001b[39m\u001b[39m.\u001b[39m_result \u001b[39mis\u001b[39;00m \u001b[39mnot\u001b[39;00m \u001b[39mNone\u001b[39;00m \u001b[39mand\u001b[39;00m \u001b[39mself\u001b[39m\u001b[39m.\u001b[39m_result\u001b[39m.\u001b[39munbuffered_active \u001b[39mis\u001b[39;00m \u001b[39mTrue\u001b[39;00m:\n\u001b[0;32m    728\u001b[0m         \u001b[39mself\u001b[39m\u001b[39m.\u001b[39m_result\u001b[39m.\u001b[39munbuffered_active \u001b[39m=\u001b[39m \u001b[39mFalse\u001b[39;00m\n\u001b[1;32m--> 729\u001b[0m     packet\u001b[39m.\u001b[39;49mraise_for_error()\n\u001b[0;32m    730\u001b[0m \u001b[39mreturn\u001b[39;00m packet\n",
      "File \u001b[1;32mc:\\Users\\guang\\anaconda3\\lib\\site-packages\\pymysql\\protocol.py:221\u001b[0m, in \u001b[0;36mMysqlPacket.raise_for_error\u001b[1;34m(self)\u001b[0m\n\u001b[0;32m    219\u001b[0m \u001b[39mif\u001b[39;00m DEBUG:\n\u001b[0;32m    220\u001b[0m     \u001b[39mprint\u001b[39m(\u001b[39m\"\u001b[39m\u001b[39merrno =\u001b[39m\u001b[39m\"\u001b[39m, errno)\n\u001b[1;32m--> 221\u001b[0m err\u001b[39m.\u001b[39;49mraise_mysql_exception(\u001b[39mself\u001b[39;49m\u001b[39m.\u001b[39;49m_data)\n",
      "File \u001b[1;32mc:\\Users\\guang\\anaconda3\\lib\\site-packages\\pymysql\\err.py:143\u001b[0m, in \u001b[0;36mraise_mysql_exception\u001b[1;34m(data)\u001b[0m\n\u001b[0;32m    141\u001b[0m \u001b[39mif\u001b[39;00m errorclass \u001b[39mis\u001b[39;00m \u001b[39mNone\u001b[39;00m:\n\u001b[0;32m    142\u001b[0m     errorclass \u001b[39m=\u001b[39m InternalError \u001b[39mif\u001b[39;00m errno \u001b[39m<\u001b[39m \u001b[39m1000\u001b[39m \u001b[39melse\u001b[39;00m OperationalError\n\u001b[1;32m--> 143\u001b[0m \u001b[39mraise\u001b[39;00m errorclass(errno, errval)\n",
      "\u001b[1;31mProgrammingError\u001b[0m: (1146, \"Table 'jk.mj1' doesn't exist\")"
     ]
    }
   ],
   "source": [
    "import pymysql\n",
    "\n",
    "# 连接到数据库\n",
    "conn = pymysql.connect(\n",
    "    host='152.69.193.99',\n",
    "    user='jk',\n",
    "    password='11223344',\n",
    "    db='jk',\n",
    "    charset='utf8mb4',\n",
    "    cursorclass=pymysql.cursors.DictCursor\n",
    ")\n",
    "\n",
    "# 创建一个游标对象以执行查询\n",
    "cursor = conn.cursor()\n",
    "\n",
    "# 执行查询\n",
    "sql = \"SELECT * FROM mj1\"\n",
    "cursor.execute(sql)\n",
    "\n",
    "# 获取所有结果\n",
    "# 获取第 n 行数据\n",
    "n = 3  # 替换为您想要获取的行数\n",
    "for i in range(n):\n",
    "    row = cursor.fetchone()\n",
    "    if not row:\n",
    "        print(f\"第 {n} 行不存在\")\n",
    "        break\n",
    "\n",
    "# 打印第 n 行的数据\n",
    "list0=list(row.values())\n",
    "print(list0)\n",
    "# 打印结果\n",
    "# for result in results:\n",
    "#     print(result.get('名句'), result. get('作者'))\n",
    "\n",
    "# 关闭连接\n",
    "conn.close()"
   ]
  },
  {
   "cell_type": "code",
   "execution_count": 1,
   "metadata": {},
   "outputs": [
    {
     "name": "stdout",
     "output_type": "stream",
     "text": [
      "{'id': '2', '名句': '春风得意马蹄疾，一日看尽长安花。', '作者': '杜甫', '出处': '《春望》', '意思': '春天来了，万物复苏，这匹马跑得非常快，一天之内游览了长安城所有的花景。'}\n"
     ]
    }
   ],
   "source": [
    "import pymysql\n",
    "\n",
    "# 连接到数据库\n",
    "conn = pymysql.connect(\n",
    "    host='152.69.193.99',\n",
    "    user='jk',\n",
    "    password='11223344',\n",
    "    db='jk',\n",
    "    charset='utf8mb4',\n",
    "    cursorclass=pymysql.cursors.DictCursor\n",
    ")\n",
    "\n",
    "# 创建一个游标对象以执行查询\n",
    "cursor = conn.cursor()\n",
    "\n",
    "# 执行查询\n",
    "value = '2'  # 替换为您想要查找的值\n",
    "sql = f\"SELECT * FROM mj2 WHERE id = '{value}'\"\n",
    "cursor.execute(sql)\n",
    "\n",
    "# 获取符合条件的行\n",
    "row = cursor.fetchone()\n",
    "\n",
    "# 打印结果\n",
    "if row:\n",
    "    print(row)\n",
    "else:\n",
    "    print(f\"没有找到值为 {value} 的行\")\n",
    "\n",
    "# 关闭连接\n",
    "conn.close()"
   ]
  },
  {
   "cell_type": "code",
   "execution_count": 3,
   "metadata": {},
   "outputs": [
    {
     "name": "stderr",
     "output_type": "stream",
     "text": [
      "C:\\Users\\guang\\AppData\\Local\\Temp\\ipykernel_53404\\406174780.py:21: DeprecationWarning: multiline_textsize is deprecated and will be removed in Pillow 10 (2023-07-01). Use multiline_textbbox instead.\n",
      "  text_size = draw.multiline_textsize(text, font=font)\n"
     ]
    }
   ],
   "source": [
    "from PIL import Image, ImageDraw, ImageFont\n",
    "\n",
    "# 定义图片大小和背景颜色\n",
    "image_width = 800\n",
    "image_height = 800\n",
    "background_color = (255, 255, 255)\n",
    "\n",
    "# 创建一张空白图片\n",
    "image = Image.new('RGB', (image_width, image_height), color=background_color)\n",
    "\n",
    "# 定义字体和字号\n",
    "font = ImageFont.truetype('kt.ttf', size=64)\n",
    "\n",
    "# 定义文本内容\n",
    "text = '床前明月光，\\n疑是地上霜。\\n举头望明月，\\n低头思故乡。'\n",
    "\n",
    "# 创建一个绘图对象\n",
    "draw = ImageDraw.Draw(image)\n",
    "\n",
    "# 计算文本大小，以便进行居中排版\n",
    "text_size = draw.multiline_textsize(text, font=font)\n",
    "text_x = (image_width - text_size[0]) // 2\n",
    "text_y = (image_height - text_size[1]) // 2\n",
    "\n",
    "# 绘制文本\n",
    "draw.multiline_text((text_x, text_y), text, fill=(0, 0, 0), font=font, align='center')\n",
    "\n",
    "# 保存图片\n",
    "image.save('poem.png')"
   ]
  },
  {
   "cell_type": "markdown",
   "metadata": {},
   "source": []
  },
  {
   "cell_type": "code",
   "execution_count": 14,
   "metadata": {},
   "outputs": [
    {
     "name": "stdout",
     "output_type": "stream",
     "text": [
      "E:1.jpg\n",
      "E:2.jpg\n",
      "E:3.jpg\n",
      "E:1.jpg\n",
      "E:2.jpg\n",
      "E:3.jpg\n",
      "E:1.jpg\n",
      "E:2.jpg\n",
      "E:3.jpg\n",
      "E:1.jpg\n"
     ]
    }
   ],
   "source": [
    "mu0=['E:1.jpg','E:2.jpg','E:3.jpg']\n",
    "#求余数\n",
    "def mod(a,b):\n",
    "    return a - b * int(a / b)  \n",
    "mod(6,4)\n",
    "for i in range(10):\n",
    "    print(mu0[i%3])"
   ]
  },
  {
   "cell_type": "code",
   "execution_count": 3,
   "metadata": {},
   "outputs": [
    {
     "name": "stdout",
     "output_type": "stream",
     "text": [
      "Moviepy - Building video b1.mp4.\n",
      "MoviePy - Writing audio in b1TEMP_MPY_wvf_snd.mp3\n"
     ]
    },
    {
     "name": "stderr",
     "output_type": "stream",
     "text": [
      "                                                                    \r"
     ]
    },
    {
     "name": "stdout",
     "output_type": "stream",
     "text": [
      "MoviePy - Done.\n",
      "Moviepy - Writing video b1.mp4\n",
      "\n"
     ]
    },
    {
     "name": "stderr",
     "output_type": "stream",
     "text": [
      "                                                  \r"
     ]
    },
    {
     "name": "stdout",
     "output_type": "stream",
     "text": [
      "Moviepy - Done !\n",
      "Moviepy - video ready b1.mp4\n",
      "Moviepy - Building video b2.mp4.\n",
      "MoviePy - Writing audio in b2TEMP_MPY_wvf_snd.mp3\n"
     ]
    },
    {
     "name": "stderr",
     "output_type": "stream",
     "text": [
      "                                                                    \r"
     ]
    },
    {
     "name": "stdout",
     "output_type": "stream",
     "text": [
      "MoviePy - Done.\n",
      "Moviepy - Writing video b2.mp4\n",
      "\n"
     ]
    },
    {
     "name": "stderr",
     "output_type": "stream",
     "text": [
      "                                                  \r"
     ]
    },
    {
     "name": "stdout",
     "output_type": "stream",
     "text": [
      "Moviepy - Done !\n",
      "Moviepy - video ready b2.mp4\n",
      "Moviepy - Building video b3.mp4.\n",
      "MoviePy - Writing audio in b3TEMP_MPY_wvf_snd.mp3\n"
     ]
    },
    {
     "name": "stderr",
     "output_type": "stream",
     "text": [
      "                                                                    \r"
     ]
    },
    {
     "name": "stdout",
     "output_type": "stream",
     "text": [
      "MoviePy - Done.\n",
      "Moviepy - Writing video b3.mp4\n",
      "\n"
     ]
    },
    {
     "name": "stderr",
     "output_type": "stream",
     "text": [
      "                                                  \r"
     ]
    },
    {
     "name": "stdout",
     "output_type": "stream",
     "text": [
      "Moviepy - Done !\n",
      "Moviepy - video ready b3.mp4\n",
      "Moviepy - Building video b4.mp4.\n",
      "MoviePy - Writing audio in b4TEMP_MPY_wvf_snd.mp3\n"
     ]
    },
    {
     "name": "stderr",
     "output_type": "stream",
     "text": [
      "                                                                    \r"
     ]
    },
    {
     "name": "stdout",
     "output_type": "stream",
     "text": [
      "MoviePy - Done.\n",
      "Moviepy - Writing video b4.mp4\n",
      "\n"
     ]
    },
    {
     "name": "stderr",
     "output_type": "stream",
     "text": [
      "                                                  \r"
     ]
    },
    {
     "name": "stdout",
     "output_type": "stream",
     "text": [
      "Moviepy - Done !\n",
      "Moviepy - video ready b4.mp4\n",
      "Moviepy - Building video b5.mp4.\n",
      "MoviePy - Writing audio in b5TEMP_MPY_wvf_snd.mp3\n"
     ]
    },
    {
     "name": "stderr",
     "output_type": "stream",
     "text": [
      "                                                                    \r"
     ]
    },
    {
     "name": "stdout",
     "output_type": "stream",
     "text": [
      "MoviePy - Done.\n",
      "Moviepy - Writing video b5.mp4\n",
      "\n"
     ]
    },
    {
     "name": "stderr",
     "output_type": "stream",
     "text": [
      "                                                  \r"
     ]
    },
    {
     "name": "stdout",
     "output_type": "stream",
     "text": [
      "Moviepy - Done !\n",
      "Moviepy - video ready b5.mp4\n"
     ]
    }
   ],
   "source": [
    "import cv2\n",
    "import moviepy.editor as mp\n",
    "\n",
    "for i in range(1, 6):\n",
    "    # 读入图片\n",
    "    img = cv2.imread(f'E:/b{i}.png')\n",
    "\n",
    "    # 获取图片尺寸\n",
    "    height, width, layers = img.shape\n",
    "\n",
    "    # 设置视频编解码器\n",
    "    fourcc = cv2.VideoWriter_fourcc(*'mp4v')\n",
    "\n",
    "    # 创建视频对象\n",
    "    video = cv2.VideoWriter('output.mp4', fourcc, 30, (width,height))\n",
    "\n",
    "    # 写入图片帧到视频\n",
    "    video.write(img)\n",
    "\n",
    "    # 释放视频对象\n",
    "    video.release()\n",
    "\n",
    "    # 读入音频\n",
    "    audio = mp.AudioFileClip('62.mp3')\n",
    "\n",
    "    # 读入视频\n",
    "    video = mp.VideoFileClip('output.mp4')\n",
    "\n",
    "    # 添加音频到视频\n",
    "    video = video.set_audio(audio)\n",
    "\n",
    "    # 保存最终视频\n",
    "    video.write_videofile(f'b{i}.mp4')"
   ]
  },
  {
   "cell_type": "code",
   "execution_count": 1,
   "metadata": {},
   "outputs": [
    {
     "ename": "NameError",
     "evalue": "name 'np' is not defined",
     "output_type": "error",
     "traceback": [
      "\u001b[1;31m---------------------------------------------------------------------------\u001b[0m",
      "\u001b[1;31mNameError\u001b[0m                                 Traceback (most recent call last)",
      "Cell \u001b[1;32mIn[1], line 35\u001b[0m\n\u001b[0;32m     32\u001b[0m draw\u001b[39m.\u001b[39mtext((\u001b[39m10\u001b[39m, \u001b[39m10\u001b[39m), text[:i\u001b[39m+\u001b[39m\u001b[39m1\u001b[39m], font\u001b[39m=\u001b[39mfont, fill\u001b[39m=\u001b[39m\u001b[39m'\u001b[39m\u001b[39mwhite\u001b[39m\u001b[39m'\u001b[39m)\n\u001b[0;32m     34\u001b[0m \u001b[39m# 将图片转换为OpenCV格式并写入视频\u001b[39;00m\n\u001b[1;32m---> 35\u001b[0m img_cv \u001b[39m=\u001b[39m cv2\u001b[39m.\u001b[39mcvtColor(np\u001b[39m.\u001b[39marray(img), cv2\u001b[39m.\u001b[39mCOLOR_RGB2BGR)\n\u001b[0;32m     36\u001b[0m video_writer\u001b[39m.\u001b[39mwrite(img_cv)\n\u001b[0;32m     38\u001b[0m \u001b[39m# 等待一段时间，控制绘制速度\u001b[39;00m\n",
      "\u001b[1;31mNameError\u001b[0m: name 'np' is not defined"
     ]
    }
   ],
   "source": [
    "import cv2\n",
    "from PIL import Image, ImageDraw, ImageFont\n",
    "import time\n",
    "\n",
    "# 设置视频参数\n",
    "FPS = 10\n",
    "VIDEO_WIDTH = 640\n",
    "VIDEO_HEIGHT = 480\n",
    "VIDEO_FILENAME = 'text_video.mp4'\n",
    "\n",
    "# 设置字体和字号\n",
    "FONT_FILENAME = 'arial.ttf'\n",
    "FONT_SIZE = 30\n",
    "\n",
    "# 创建视频写入器\n",
    "fourcc = cv2.VideoWriter_fourcc(*'mp4v')\n",
    "video_writer = cv2.VideoWriter(VIDEO_FILENAME, fourcc, FPS, (VIDEO_WIDTH, VIDEO_HEIGHT))\n",
    "\n",
    "# 创建空白图片\n",
    "img = Image.new('RGB', (VIDEO_WIDTH, VIDEO_HEIGHT), color='black')\n",
    "draw = ImageDraw.Draw(img)\n",
    "\n",
    "# 加载字体\n",
    "font = ImageFont.truetype(FONT_FILENAME, FONT_SIZE)\n",
    "\n",
    "# 待显示的字符串\n",
    "text = 'Hello, world!'\n",
    "\n",
    "# 逐个绘制字符\n",
    "for i in range(len(text)):\n",
    "    # 绘制当前字符\n",
    "    draw.text((10, 10), text[:i+1], font=font, fill='white')\n",
    "    \n",
    "    # 将图片转换为OpenCV格式并写入视频\n",
    "    img_cv = cv2.cvtColor(np.array(img), cv2.COLOR_RGB2BGR)\n",
    "    video_writer.write(img_cv)\n",
    "    \n",
    "    # 等待一段时间，控制绘制速度\n",
    "    time.sleep(0.1)\n",
    "\n",
    "# 释放资源\n",
    "video_writer.release()"
   ]
  }
 ],
 "metadata": {
  "kernelspec": {
   "display_name": "base",
   "language": "python",
   "name": "python3"
  },
  "language_info": {
   "codemirror_mode": {
    "name": "ipython",
    "version": 3
   },
   "file_extension": ".py",
   "mimetype": "text/x-python",
   "name": "python",
   "nbconvert_exporter": "python",
   "pygments_lexer": "ipython3",
   "version": "3.11.6"
  },
  "orig_nbformat": 4
 },
 "nbformat": 4,
 "nbformat_minor": 2
}
