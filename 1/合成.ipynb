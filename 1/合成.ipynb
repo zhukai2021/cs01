{
 "cells": [
  {
   "cell_type": "code",
   "execution_count": 1,
   "metadata": {},
   "outputs": [],
   "source": [
    "import os\n",
    "\n",
    "# 视频文件路径\n",
    "for f1 in range(500,501):\n",
    "    video_path = \"D:/1/bg1.mp4\"\n",
    "    # 图片文件路径\n",
    "    image_path = f'D:/1/诗词2.png'\n",
    "    # 输出视频文件路径\n",
    "    output_path = f'D:/1/a2.mp4'\n",
    "\n",
    "    # 构建FFmpeg命令\n",
    "    command = f'ffmpeg -i {video_path} -i {image_path} -filter_complex \"overlay=10:100\" {output_path}'\n",
    "\n",
    "    # 执行命令\n",
    "    os.system(command)"
   ]
  },
  {
   "cell_type": "code",
   "execution_count": null,
   "metadata": {},
   "outputs": [],
   "source": [
    "import os\n",
    "\n",
    "# 视频文件路径\n",
    "for f1 in range(500,600):\n",
    "    video_path = \"D:/1/bg1.mp4\"\n",
    "    # 图片文件路径\n",
    "    image_path = f'D:/2/a{str(f1)}.png'\n",
    "    # 输出视频文件路径\n",
    "    output_path = f'D:/33/a{str(f1)}.mp4'\n",
    "\n",
    "    # 构建FFmpeg命令\n",
    "    command = f'ffmpeg -i {video_path} -i {image_path} -filter_complex \"overlay=10:100\" {output_path}'\n",
    "\n",
    "    # 执行命令\n",
    "    os.system(command)"
   ]
  },
  {
   "cell_type": "code",
   "execution_count": 2,
   "metadata": {},
   "outputs": [],
   "source": [
    "import os\n",
    "\n",
    "# 视频文件路径\n",
    "for f1 in range(1,2):\n",
    "    video_path = \"D:/1/lz1.mp4\"\n",
    "    # 图片文件路径\n",
    "    image_path = f'D:/1/121/{str(f1)}.png'\n",
    "    # 输出视频文件路径\n",
    "    output_path = f'D:/33/a{str(f1)}.mp4'\n",
    "\n",
    "    # 构建FFmpeg命令\n",
    "    command = f'ffmpeg -i {video_path} -i {image_path} -filter_complex \"overlay=10:-40\" {output_path}'\n",
    "\n",
    "    # 执行命令\n",
    "    os.system(command)\n"
   ]
  },
  {
   "cell_type": "code",
   "execution_count": 2,
   "metadata": {},
   "outputs": [
    {
     "name": "stderr",
     "output_type": "stream",
     "text": [
      "C:\\Users\\ly1\\AppData\\Local\\Temp\\ipykernel_24768\\3077470436.py:24: DeprecationWarning: ANTIALIAS is deprecated and will be removed in Pillow 10 (2023-07-01). Use LANCZOS or Resampling.LANCZOS instead.\n",
      "  wm = wm.resize(wm_dim, Image.ANTIALIAS)\n"
     ]
    }
   ],
   "source": [
    "from PIL import Image\n",
    "import matplotlib.pyplot as plt\n",
    "import os\n",
    "\n",
    "# 读取原始图片和水印图片\n",
    "for i0 in range(1,237):\n",
    "    img = Image.open('D:/1/bj2.jpg')\n",
    "    wm1=f'C:/Users/ly1/Downloads/1/{str(i0)}.png'\n",
    "    \n",
    "    #判断文件是否存在,不存在跳过本循环\n",
    "    if not os.path.exists(wm1):\n",
    "        print('文件不存在')\n",
    "        continue\n",
    "    wm = Image.open(wm1)\n",
    "\n",
    "   \n",
    "   \n",
    "    # 调整水印图片的大小和透明度\n",
    "    wm_scale = 1 # 水印图片缩放比例\n",
    "    wm_alpha = 1 # 水印图片透明度\n",
    "    wm_width = int(wm.size[0] * wm_scale)\n",
    "    wm_height = int(wm.size[1] * wm_scale)\n",
    "    wm_dim = (wm_width, wm_height)\n",
    "    wm = wm.resize(wm_dim, Image.ANTIALIAS)\n",
    "    wm = wm.convert('RGBA') # 添加alpha通道\n",
    "    r, g, b, a = wm.split() # 分离各个通道\n",
    "    a = a.point(lambda i: i * wm_alpha) # 修改alpha通道的值\n",
    "    wm.putalpha(a) # 重新合并各个通道\n",
    "\n",
    "    # 将水印图片叠加到原始图片的右下角\n",
    "    img = img.convert('RGBA') # 添加alpha通道\n",
    "    w_img, h_img = img.size\n",
    "    w_wm, h_wm = wm.size\n",
    "    top_y = 0 # 水印图片的上边界坐标，10为边距\n",
    "    left_x =  10 # 水印图片的左边界坐标，10为边距\n",
    "    img.paste(wm, (left_x, top_y), wm) # 将水印图片粘贴到原始图片上，使用水印图片的alpha通道作为掩码\n",
    "\n",
    "    # 保存并显示加水印后的图片\n",
    "    img.save(f'D:\\\\3\\\\a{str(i0)}.png')\n",
    "    # plt.imshow(img)\n",
    "    # plt.show()"
   ]
  }
 ],
 "metadata": {
  "kernelspec": {
   "display_name": "base",
   "language": "python",
   "name": "python3"
  },
  "language_info": {
   "codemirror_mode": {
    "name": "ipython",
    "version": 3
   },
   "file_extension": ".py",
   "mimetype": "text/x-python",
   "name": "python",
   "nbconvert_exporter": "python",
   "pygments_lexer": "ipython3",
   "version": "3.11.5"
  }
 },
 "nbformat": 4,
 "nbformat_minor": 2
}
