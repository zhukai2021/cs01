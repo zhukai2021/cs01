{
 "cells": [
  {
   "cell_type": "code",
   "execution_count": null,
   "metadata": {},
   "outputs": [],
   "source": [
    "import os\n",
    "\n",
    "# 视频文件路径\n",
    "def pic2mp4(pic,mp4,out):\n",
    "    video_path = mp4\n",
    "    # 图片文件路径\n",
    "    image_path = pic\n",
    "    # 输出视频文件路径\n",
    "    output_path = out\n",
    "\n",
    "    # 构建FFmpeg命令\n",
    "    command = f'ffmpeg -i {video_path} -i {image_path} -filter_complex \"overlay=10:100\" {output_path}'\n",
    "\n",
    "    # 执行命令\n",
    "    os.system(command)"
   ]
  },
  {
   "cell_type": "code",
   "execution_count": 1,
   "metadata": {},
   "outputs": [
    {
     "name": "stdout",
     "output_type": "stream",
     "text": [
      "C:/Users/ly1/Downloads/24020201/3.png D:/x1/bg1.mp4 D:/x1/2-5/2/a3.mp4\n",
      "C:/Users/ly1/Downloads/24020201/4.png D:/x1/bg1.mp4 D:/x1/2-5/2/a4.mp4\n",
      "C:/Users/ly1/Downloads/24020201/5.png D:/x1/bg1.mp4 D:/x1/2-5/2/a5.mp4\n",
      "C:/Users/ly1/Downloads/24020201/6.png D:/x1/bg1.mp4 D:/x1/2-5/2/a6.mp4\n",
      "C:/Users/ly1/Downloads/24020201/7.png D:/x1/bg1.mp4 D:/x1/2-5/2/a7.mp4\n",
      "C:/Users/ly1/Downloads/24020201/8.png D:/x1/bg1.mp4 D:/x1/2-5/2/a8.mp4\n",
      "C:/Users/ly1/Downloads/24020201/9.png D:/x1/bg1.mp4 D:/x1/2-5/2/a9.mp4\n",
      "C:/Users/ly1/Downloads/24020201/10.png D:/x1/bg1.mp4 D:/x1/2-5/2/a10.mp4\n",
      "C:/Users/ly1/Downloads/24020201/11.png D:/x1/bg1.mp4 D:/x1/2-5/2/a11.mp4\n",
      "C:/Users/ly1/Downloads/24020201/12.png D:/x1/bg1.mp4 D:/x1/2-5/2/a12.mp4\n",
      "C:/Users/ly1/Downloads/24020201/13.png D:/x1/bg1.mp4 D:/x1/2-5/2/a13.mp4\n",
      "C:/Users/ly1/Downloads/24020201/14.png D:/x1/bg1.mp4 D:/x1/2-5/2/a14.mp4\n",
      "C:/Users/ly1/Downloads/24020201/15.png D:/x1/bg1.mp4 D:/x1/2-5/2/a15.mp4\n",
      "C:/Users/ly1/Downloads/24020201/16.png D:/x1/bg1.mp4 D:/x1/2-5/2/a16.mp4\n",
      "C:/Users/ly1/Downloads/24020201/17.png D:/x1/bg1.mp4 D:/x1/2-5/2/a17.mp4\n",
      "C:/Users/ly1/Downloads/24020201/18.png D:/x1/bg1.mp4 D:/x1/2-5/2/a18.mp4\n",
      "C:/Users/ly1/Downloads/24020201/19.png D:/x1/bg1.mp4 D:/x1/2-5/2/a19.mp4\n",
      "C:/Users/ly1/Downloads/24020201/20.png D:/x1/bg1.mp4 D:/x1/2-5/2/a20.mp4\n",
      "C:/Users/ly1/Downloads/24020201/21.png D:/x1/bg1.mp4 D:/x1/2-5/2/a21.mp4\n",
      "C:/Users/ly1/Downloads/24020201/22.png D:/x1/bg1.mp4 D:/x1/2-5/2/a22.mp4\n",
      "C:/Users/ly1/Downloads/24020201/23.png D:/x1/bg1.mp4 D:/x1/2-5/2/a23.mp4\n",
      "C:/Users/ly1/Downloads/24020201/24.png D:/x1/bg1.mp4 D:/x1/2-5/2/a24.mp4\n",
      "C:/Users/ly1/Downloads/24020201/25.png D:/x1/bg1.mp4 D:/x1/2-5/2/a25.mp4\n",
      "C:/Users/ly1/Downloads/24020201/26.png D:/x1/bg1.mp4 D:/x1/2-5/2/a26.mp4\n",
      "C:/Users/ly1/Downloads/24020201/27.png D:/x1/bg1.mp4 D:/x1/2-5/2/a27.mp4\n",
      "C:/Users/ly1/Downloads/24020201/28.png D:/x1/bg1.mp4 D:/x1/2-5/2/a28.mp4\n",
      "C:/Users/ly1/Downloads/24020201/29.png D:/x1/bg1.mp4 D:/x1/2-5/2/a29.mp4\n",
      "C:/Users/ly1/Downloads/24020201/30.png D:/x1/bg1.mp4 D:/x1/2-5/2/a30.mp4\n"
     ]
    }
   ],
   "source": [
    "import os\n",
    "\n",
    "# 视频文件路径\n",
    "def pic2mp4(image_path,video_path,output_path):\n",
    "  \n",
    "    # 输出视频文件路径\n",
    "  \n",
    "\n",
    "    # 构建FFmpeg命令\n",
    "    command = f'ffmpeg -i {video_path} -i {image_path} -filter_complex \"overlay=10:100\" {output_path}'\n",
    "\n",
    "    # 执行命令\n",
    "    os.system(command)\n",
    "\n",
    "# 视频文件路径\n",
    "outlj='D:/x1/2-5/2/'\n",
    "xzlj='C:/Users/ly1/Downloads/24020201/'\n",
    "mp4 = \"D:/x1/bg1.mp4\"\n",
    "for f1 in range(3,31):\n",
    "   pic=f'{xzlj}{f1}.png'\n",
    "   out=f'{outlj}a{f1}.mp4'\n",
    "   print(pic,mp4,out)\n",
    "   pic2mp4(pic,mp4,out)"
   ]
  },
  {
   "cell_type": "code",
   "execution_count": 1,
   "metadata": {},
   "outputs": [
    {
     "data": {
      "text/plain": [
       "-2"
      ]
     },
     "execution_count": 1,
     "metadata": {},
     "output_type": "execute_result"
    }
   ],
   "source": [
    "import os  \n",
    "video_path = \"D:/1/bg1.mp4\"\n",
    "# 图片文件路径\n",
    "image_path = f'a1.gif'\n",
    "# image_path1 = f'1.png'\n",
    "# image_path2 = f'2.png'\n",
    "# 输出视频文件路径\n",
    "output_path = f'D:/33/a01.mp4'\n",
    "\n",
    "# 构建FFmpeg命令\n",
    "command = f'ffmpeg -y -i  {video_path} -i {image_path} -filter_complex \"overlay=10:180\" {output_path}'\n",
    "#command = f'ffmpeg -i {video_path} -i {image_path} -filter_complex \"[0:v]trim=duration=5[v0];[v0][1:v]overlay=10:100\" {output_path}'\n",
    "#command = f'ffmpeg -y -i {video_path} -i {image_path1} -i {image_path2} -filter_complex \"[0:v]trim=duration=5,setpts=PTS-STARTPTS[v0];[0:v]trim=start=5,setpts=PTS-STARTPTS[v1];[v0][1:v]overlay=10:100[v2];[v1][2:v]overlay=20:200[v3];[v2][v3]concat=n=2:v=1:a=0\" {output_path}'\n",
    "# 执行命令\n",
    "os.system(command)"
   ]
  },
  {
   "cell_type": "code",
   "execution_count": 5,
   "metadata": {},
   "outputs": [],
   "source": [
    "import os\n",
    "\n",
    "# 视频文件路径\n",
    "for f1 in range(8,12):\n",
    "    video_path = \"D:/x1/bg1.mp4\"\n",
    "    image_path0='C:/Users/ly1/Downloads/240201/'\n",
    "    # 图片文件路径\n",
    "    image_path = f'{image_path0}{str(f1)}.png'\n",
    "    # 输出视频文件路径\n",
    "    output_path = f'D:/x1/2-5/2/a{str(f1)}.mp4'\n",
    "\n",
    "    if os.path.exists(output_path):  \n",
    "    # 如果已存在，则删除输出文件  \n",
    "        os.remove(output_path)  \n",
    "\n",
    "    # 构建FFmpeg命令\n",
    "    command = f'ffmpeg -i {video_path} -i {image_path} -filter_complex \"overlay=10:100\" {output_path}'\n",
    "\n",
    "    # 执行命令\n",
    "    os.system(command)\n"
   ]
  },
  {
   "cell_type": "code",
   "execution_count": 2,
   "metadata": {},
   "outputs": [
    {
     "name": "stderr",
     "output_type": "stream",
     "text": [
      "C:\\Users\\ly1\\AppData\\Local\\Temp\\ipykernel_24768\\3077470436.py:24: DeprecationWarning: ANTIALIAS is deprecated and will be removed in Pillow 10 (2023-07-01). Use LANCZOS or Resampling.LANCZOS instead.\n",
      "  wm = wm.resize(wm_dim, Image.ANTIALIAS)\n"
     ]
    }
   ],
   "source": [
    "from PIL import Image\n",
    "import matplotlib.pyplot as plt\n",
    "import os\n",
    "\n",
    "# 读取原始图片和水印图片\n",
    "for i0 in range(1,237):\n",
    "    img = Image.open('D:/1/bj2.jpg')\n",
    "    wm1=f'C:/Users/ly1/Downloads/1/{str(i0)}.png'\n",
    "    \n",
    "    #判断文件是否存在,不存在跳过本循环\n",
    "    if not os.path.exists(wm1):\n",
    "        print('文件不存在')\n",
    "        continue\n",
    "    wm = Image.open(wm1)\n",
    "\n",
    "   \n",
    "   \n",
    "    # 调整水印图片的大小和透明度\n",
    "    wm_scale = 1 # 水印图片缩放比例\n",
    "    wm_alpha = 1 # 水印图片透明度\n",
    "    wm_width = int(wm.size[0] * wm_scale)\n",
    "    wm_height = int(wm.size[1] * wm_scale)\n",
    "    wm_dim = (wm_width, wm_height)\n",
    "    wm = wm.resize(wm_dim, Image.ANTIALIAS)\n",
    "    wm = wm.convert('RGBA') # 添加alpha通道\n",
    "    r, g, b, a = wm.split() # 分离各个通道\n",
    "    a = a.point(lambda i: i * wm_alpha) # 修改alpha通道的值\n",
    "    wm.putalpha(a) # 重新合并各个通道\n",
    "\n",
    "    # 将水印图片叠加到原始图片的右下角\n",
    "    img = img.convert('RGBA') # 添加alpha通道\n",
    "    w_img, h_img = img.size\n",
    "    w_wm, h_wm = wm.size\n",
    "    top_y = 0 # 水印图片的上边界坐标，10为边距\n",
    "    left_x =  10 # 水印图片的左边界坐标，10为边距\n",
    "    img.paste(wm, (left_x, top_y), wm) # 将水印图片粘贴到原始图片上，使用水印图片的alpha通道作为掩码\n",
    "\n",
    "    # 保存并显示加水印后的图片\n",
    "    img.save(f'D:\\\\3\\\\a{str(i0)}.png')\n",
    "    # plt.imshow(img)\n",
    "    # plt.show()"
   ]
  },
  {
   "cell_type": "code",
   "execution_count": 7,
   "metadata": {},
   "outputs": [
    {
     "ename": "AttributeError",
     "evalue": "module 'moviepy.video.fx.all' has no attribute 'time_stretch'",
     "output_type": "error",
     "traceback": [
      "\u001b[1;31m---------------------------------------------------------------------------\u001b[0m",
      "\u001b[1;31mAttributeError\u001b[0m                            Traceback (most recent call last)",
      "Cell \u001b[1;32mIn[7], line 15\u001b[0m\n\u001b[0;32m     12\u001b[0m audio \u001b[38;5;241m=\u001b[39m audio\u001b[38;5;241m.\u001b[39msubclip(video\u001b[38;5;241m.\u001b[39mstart, video\u001b[38;5;241m.\u001b[39mend)  \n\u001b[0;32m     14\u001b[0m \u001b[38;5;66;03m# 将视频放慢到原来的20倍  \u001b[39;00m\n\u001b[1;32m---> 15\u001b[0m slowed_video \u001b[38;5;241m=\u001b[39m video\u001b[38;5;241m.\u001b[39mfx(vfx\u001b[38;5;241m.\u001b[39mtime_stretch, \u001b[38;5;241m0.2\u001b[39m) \u001b[38;5;66;03m# 0.05 是新的视频长度相对于原视频长度的比例  \u001b[39;00m\n\u001b[0;32m     17\u001b[0m \u001b[38;5;66;03m# 创建一个新的视频文件，将放慢的视频和音频合并  \u001b[39;00m\n\u001b[0;32m     18\u001b[0m final_clip \u001b[38;5;241m=\u001b[39m concatenate_videoclips([slowed_video, audio])  \n",
      "\u001b[1;31mAttributeError\u001b[0m: module 'moviepy.video.fx.all' has no attribute 'time_stretch'"
     ]
    }
   ],
   "source": [
    "from moviepy.editor import *  \n",
    "  \n",
    "# 输入视频和音频文件  \n",
    "input_video = \"d:/x1/240202/1.mp4\"  \n",
    "input_audio = \"d:/x1/12.MP3\"  \n",
    "  \n",
    "# 读取视频和音频文件  \n",
    "video = VideoFileClip(input_video)  \n",
    "audio = AudioFileClip(input_audio)  \n",
    "  \n",
    "# 确保音频和视频的长度是匹配的  \n",
    "audio = audio.subclip(video.start, video.end)  \n",
    "  \n",
    "# 将视频放慢到原来的20倍  \n",
    "slowed_video = video.fx(vfx.time_stretch, 0.2) # 0.05 是新的视频长度相对于原视频长度的比例  \n",
    "  \n",
    "# 创建一个新的视频文件，将放慢的视频和音频合并  \n",
    "final_clip = concatenate_videoclips([slowed_video, audio])  \n",
    "final_clip.write_videofile(\"d:/x1/output1.mp4\", codec='libx264') # 使用libx264编解码器"
   ]
  },
  {
   "cell_type": "code",
   "execution_count": 13,
   "metadata": {},
   "outputs": [
    {
     "name": "stdout",
     "output_type": "stream",
     "text": [
      "Moviepy - Building video d:/x1/output2.mp4.\n",
      "MoviePy - Writing audio in output2TEMP_MPY_wvf_snd.mp4\n"
     ]
    },
    {
     "name": "stderr",
     "output_type": "stream",
     "text": [
      "                                                                   \r"
     ]
    },
    {
     "name": "stdout",
     "output_type": "stream",
     "text": [
      "MoviePy - Done.\n",
      "Moviepy - Writing video d:/x1/output2.mp4\n",
      "\n"
     ]
    },
    {
     "name": "stderr",
     "output_type": "stream",
     "text": [
      "                                                              \r"
     ]
    },
    {
     "name": "stdout",
     "output_type": "stream",
     "text": [
      "Moviepy - Done !\n",
      "Moviepy - video ready d:/x1/output2.mp4\n",
      "视频处理完成！\n"
     ]
    }
   ],
   "source": [
    "import cv2\n",
    "import moviepy.editor as mp\n",
    "from pydub import AudioSegment\n",
    "\n",
    "# 读取视频\n",
    "video_path =  \"d:/x1/240202/1.mp4\"  \n",
    "video = cv2.VideoCapture(video_path)\n",
    "\n",
    "# 获取视频的帧率和总帧数\n",
    "fps = video.get(cv2.CAP_PROP_FPS)\n",
    "total_frames = int(video.get(cv2.CAP_PROP_FRAME_COUNT))\n",
    "\n",
    "# 计算新的视频长度和每一帧之间的时间间隔\n",
    "new_duration = 20  # 新视频的长度（秒）\n",
    "new_total_frames = int(fps * new_duration)\n",
    "frame_interval = total_frames / new_total_frames\n",
    "\n",
    "\n",
    "\n",
    "# 输出视频的路径和名称\n",
    "output_video_path = \"d:/x1/output1.mp4\"\n",
    "\n",
    "# 创建一个写入视频的对象\n",
    "fourcc = cv2.VideoWriter_fourcc(*\"mp4v\")\n",
    "output_video = cv2.VideoWriter(output_video_path, fourcc, fps, (int(video.get(3)), int(video.get(4))))\n",
    "\n",
    "# 循环读取视频的每一帧并写入新的视频\n",
    "current_frame = 0\n",
    "while True:\n",
    "    # 读取视频的当前帧\n",
    "    ret, frame = video.read()\n",
    "    if not ret:\n",
    "        break\n",
    "\n",
    "    # 写入新的视频\n",
    "    output_video.write(frame)\n",
    "\n",
    "    # 计算下一帧的位置\n",
    "    current_frame += frame_interval\n",
    "    video.set(cv2.CAP_PROP_POS_FRAMES, int(current_frame))\n",
    "\n",
    "# 释放视频对象\n",
    "video.release()\n",
    "output_video.release()\n",
    "\n",
    "\n",
    "\n",
    "# 读取视频和音频\n",
    "video_path = \"d:/x1/output1.mp4\"\n",
    "audio_path = \"d:/x1/12.MP3\"  \n",
    "\n",
    "video = mp.VideoFileClip(video_path)\n",
    "audio = mp.AudioFileClip(audio_path)\n",
    "\n",
    "# 调整音频的长度以适应视频\n",
    "audio = audio.set_duration(video.duration)\n",
    "\n",
    "# 将音频添加到视频中\n",
    "video = video.set_audio(audio)\n",
    "\n",
    "# 输出路径和名称\n",
    "output_path1 = 'd:/x1/output2.mp4'\n",
    "\n",
    "# 保存合并后的视频\n",
    "video.write_videofile(output_path1, codec=\"libx264\", audio_codec=\"aac\")\n",
    "\n",
    "# 打印完成消息\n",
    "print(\"视频处理完成！\")"
   ]
  },
  {
   "cell_type": "code",
   "execution_count": 7,
   "metadata": {},
   "outputs": [
    {
     "name": "stdout",
     "output_type": "stream",
     "text": [
      "Moviepy - Building video d:/x1/2-5/3/a1.mp4.\n",
      "MoviePy - Writing audio in a1TEMP_MPY_wvf_snd.mp4\n"
     ]
    },
    {
     "name": "stderr",
     "output_type": "stream",
     "text": [
      "                                                                   \r"
     ]
    },
    {
     "name": "stdout",
     "output_type": "stream",
     "text": [
      "MoviePy - Done.\n",
      "Moviepy - Writing video d:/x1/2-5/3/a1.mp4\n",
      "\n"
     ]
    },
    {
     "name": "stderr",
     "output_type": "stream",
     "text": [
      "                                                              \r"
     ]
    },
    {
     "name": "stdout",
     "output_type": "stream",
     "text": [
      "Moviepy - Done !\n",
      "Moviepy - video ready d:/x1/2-5/3/a1.mp4\n",
      "视频处理完成！\n",
      "Moviepy - Building video d:/x1/2-5/3/a2.mp4.\n",
      "MoviePy - Writing audio in a2TEMP_MPY_wvf_snd.mp4\n"
     ]
    },
    {
     "name": "stderr",
     "output_type": "stream",
     "text": [
      "                                                                   \r"
     ]
    },
    {
     "name": "stdout",
     "output_type": "stream",
     "text": [
      "MoviePy - Done.\n",
      "Moviepy - Writing video d:/x1/2-5/3/a2.mp4\n",
      "\n"
     ]
    },
    {
     "name": "stderr",
     "output_type": "stream",
     "text": [
      "                                                              \r"
     ]
    },
    {
     "name": "stdout",
     "output_type": "stream",
     "text": [
      "Moviepy - Done !\n",
      "Moviepy - video ready d:/x1/2-5/3/a2.mp4\n",
      "视频处理完成！\n",
      "Moviepy - Building video d:/x1/2-5/3/a3.mp4.\n",
      "MoviePy - Writing audio in a3TEMP_MPY_wvf_snd.mp4\n"
     ]
    },
    {
     "name": "stderr",
     "output_type": "stream",
     "text": [
      "                                                                   \r"
     ]
    },
    {
     "name": "stdout",
     "output_type": "stream",
     "text": [
      "MoviePy - Done.\n",
      "Moviepy - Writing video d:/x1/2-5/3/a3.mp4\n",
      "\n"
     ]
    },
    {
     "name": "stderr",
     "output_type": "stream",
     "text": [
      "                                                              \r"
     ]
    },
    {
     "name": "stdout",
     "output_type": "stream",
     "text": [
      "Moviepy - Done !\n",
      "Moviepy - video ready d:/x1/2-5/3/a3.mp4\n",
      "视频处理完成！\n",
      "Moviepy - Building video d:/x1/2-5/3/a4.mp4.\n",
      "MoviePy - Writing audio in a4TEMP_MPY_wvf_snd.mp4\n"
     ]
    },
    {
     "name": "stderr",
     "output_type": "stream",
     "text": [
      "                                                                   \r"
     ]
    },
    {
     "name": "stdout",
     "output_type": "stream",
     "text": [
      "MoviePy - Done.\n",
      "Moviepy - Writing video d:/x1/2-5/3/a4.mp4\n",
      "\n"
     ]
    },
    {
     "name": "stderr",
     "output_type": "stream",
     "text": [
      "                                                              \r"
     ]
    },
    {
     "name": "stdout",
     "output_type": "stream",
     "text": [
      "Moviepy - Done !\n",
      "Moviepy - video ready d:/x1/2-5/3/a4.mp4\n",
      "视频处理完成！\n",
      "Moviepy - Building video d:/x1/2-5/3/a5.mp4.\n",
      "MoviePy - Writing audio in a5TEMP_MPY_wvf_snd.mp4\n"
     ]
    },
    {
     "name": "stderr",
     "output_type": "stream",
     "text": [
      "                                                                   \r"
     ]
    },
    {
     "name": "stdout",
     "output_type": "stream",
     "text": [
      "MoviePy - Done.\n",
      "Moviepy - Writing video d:/x1/2-5/3/a5.mp4\n",
      "\n"
     ]
    },
    {
     "name": "stderr",
     "output_type": "stream",
     "text": [
      "                                                              \r"
     ]
    },
    {
     "name": "stdout",
     "output_type": "stream",
     "text": [
      "Moviepy - Done !\n",
      "Moviepy - video ready d:/x1/2-5/3/a5.mp4\n",
      "视频处理完成！\n",
      "Moviepy - Building video d:/x1/2-5/3/a6.mp4.\n",
      "MoviePy - Writing audio in a6TEMP_MPY_wvf_snd.mp4\n"
     ]
    },
    {
     "name": "stderr",
     "output_type": "stream",
     "text": [
      "                                                                   \r"
     ]
    },
    {
     "name": "stdout",
     "output_type": "stream",
     "text": [
      "MoviePy - Done.\n",
      "Moviepy - Writing video d:/x1/2-5/3/a6.mp4\n",
      "\n"
     ]
    },
    {
     "name": "stderr",
     "output_type": "stream",
     "text": [
      "                                                              \r"
     ]
    },
    {
     "name": "stdout",
     "output_type": "stream",
     "text": [
      "Moviepy - Done !\n",
      "Moviepy - video ready d:/x1/2-5/3/a6.mp4\n",
      "视频处理完成！\n",
      "Moviepy - Building video d:/x1/2-5/3/a7.mp4.\n",
      "MoviePy - Writing audio in a7TEMP_MPY_wvf_snd.mp4\n"
     ]
    },
    {
     "name": "stderr",
     "output_type": "stream",
     "text": [
      "                                                                   \r"
     ]
    },
    {
     "name": "stdout",
     "output_type": "stream",
     "text": [
      "MoviePy - Done.\n",
      "Moviepy - Writing video d:/x1/2-5/3/a7.mp4\n",
      "\n"
     ]
    },
    {
     "name": "stderr",
     "output_type": "stream",
     "text": [
      "                                                              \r"
     ]
    },
    {
     "name": "stdout",
     "output_type": "stream",
     "text": [
      "Moviepy - Done !\n",
      "Moviepy - video ready d:/x1/2-5/3/a7.mp4\n",
      "视频处理完成！\n",
      "Moviepy - Building video d:/x1/2-5/3/a8.mp4.\n",
      "MoviePy - Writing audio in a8TEMP_MPY_wvf_snd.mp4\n"
     ]
    },
    {
     "name": "stderr",
     "output_type": "stream",
     "text": [
      "                                                                   \r"
     ]
    },
    {
     "name": "stdout",
     "output_type": "stream",
     "text": [
      "MoviePy - Done.\n",
      "Moviepy - Writing video d:/x1/2-5/3/a8.mp4\n",
      "\n"
     ]
    },
    {
     "name": "stderr",
     "output_type": "stream",
     "text": [
      "                                                              \r"
     ]
    },
    {
     "name": "stdout",
     "output_type": "stream",
     "text": [
      "Moviepy - Done !\n",
      "Moviepy - video ready d:/x1/2-5/3/a8.mp4\n",
      "视频处理完成！\n",
      "Moviepy - Building video d:/x1/2-5/3/a9.mp4.\n",
      "MoviePy - Writing audio in a9TEMP_MPY_wvf_snd.mp4\n"
     ]
    },
    {
     "name": "stderr",
     "output_type": "stream",
     "text": [
      "                                                                   \r"
     ]
    },
    {
     "name": "stdout",
     "output_type": "stream",
     "text": [
      "MoviePy - Done.\n",
      "Moviepy - Writing video d:/x1/2-5/3/a9.mp4\n",
      "\n"
     ]
    },
    {
     "name": "stderr",
     "output_type": "stream",
     "text": [
      "                                                              \r"
     ]
    },
    {
     "name": "stdout",
     "output_type": "stream",
     "text": [
      "Moviepy - Done !\n",
      "Moviepy - video ready d:/x1/2-5/3/a9.mp4\n",
      "视频处理完成！\n",
      "Moviepy - Building video d:/x1/2-5/3/a10.mp4.\n",
      "MoviePy - Writing audio in a10TEMP_MPY_wvf_snd.mp4\n"
     ]
    },
    {
     "name": "stderr",
     "output_type": "stream",
     "text": [
      "                                                                   \r"
     ]
    },
    {
     "name": "stdout",
     "output_type": "stream",
     "text": [
      "MoviePy - Done.\n",
      "Moviepy - Writing video d:/x1/2-5/3/a10.mp4\n",
      "\n"
     ]
    },
    {
     "name": "stderr",
     "output_type": "stream",
     "text": [
      "                                                              \r"
     ]
    },
    {
     "name": "stdout",
     "output_type": "stream",
     "text": [
      "Moviepy - Done !\n",
      "Moviepy - video ready d:/x1/2-5/3/a10.mp4\n",
      "视频处理完成！\n",
      "Moviepy - Building video d:/x1/2-5/3/a11.mp4.\n",
      "MoviePy - Writing audio in a11TEMP_MPY_wvf_snd.mp4\n"
     ]
    },
    {
     "name": "stderr",
     "output_type": "stream",
     "text": [
      "                                                                   \r"
     ]
    },
    {
     "name": "stdout",
     "output_type": "stream",
     "text": [
      "MoviePy - Done.\n",
      "Moviepy - Writing video d:/x1/2-5/3/a11.mp4\n",
      "\n"
     ]
    },
    {
     "name": "stderr",
     "output_type": "stream",
     "text": [
      "                                                              \r"
     ]
    },
    {
     "name": "stdout",
     "output_type": "stream",
     "text": [
      "Moviepy - Done !\n",
      "Moviepy - video ready d:/x1/2-5/3/a11.mp4\n",
      "视频处理完成！\n",
      "Moviepy - Building video d:/x1/2-5/3/a12.mp4.\n",
      "MoviePy - Writing audio in a12TEMP_MPY_wvf_snd.mp4\n"
     ]
    },
    {
     "name": "stderr",
     "output_type": "stream",
     "text": [
      "                                                                   \r"
     ]
    },
    {
     "name": "stdout",
     "output_type": "stream",
     "text": [
      "MoviePy - Done.\n",
      "Moviepy - Writing video d:/x1/2-5/3/a12.mp4\n",
      "\n"
     ]
    },
    {
     "name": "stderr",
     "output_type": "stream",
     "text": [
      "                                                              \r"
     ]
    },
    {
     "name": "stdout",
     "output_type": "stream",
     "text": [
      "Moviepy - Done !\n",
      "Moviepy - video ready d:/x1/2-5/3/a12.mp4\n",
      "视频处理完成！\n",
      "Moviepy - Building video d:/x1/2-5/3/a13.mp4.\n",
      "MoviePy - Writing audio in a13TEMP_MPY_wvf_snd.mp4\n"
     ]
    },
    {
     "name": "stderr",
     "output_type": "stream",
     "text": [
      "                                                                    \r"
     ]
    },
    {
     "name": "stdout",
     "output_type": "stream",
     "text": [
      "MoviePy - Done.\n",
      "Moviepy - Writing video d:/x1/2-5/3/a13.mp4\n",
      "\n"
     ]
    },
    {
     "name": "stderr",
     "output_type": "stream",
     "text": [
      "                                                              \r"
     ]
    },
    {
     "name": "stdout",
     "output_type": "stream",
     "text": [
      "Moviepy - Done !\n",
      "Moviepy - video ready d:/x1/2-5/3/a13.mp4\n",
      "视频处理完成！\n",
      "Moviepy - Building video d:/x1/2-5/3/a14.mp4.\n",
      "MoviePy - Writing audio in a14TEMP_MPY_wvf_snd.mp4\n"
     ]
    },
    {
     "name": "stderr",
     "output_type": "stream",
     "text": [
      "                                                                   \r"
     ]
    },
    {
     "name": "stdout",
     "output_type": "stream",
     "text": [
      "MoviePy - Done.\n",
      "Moviepy - Writing video d:/x1/2-5/3/a14.mp4\n",
      "\n"
     ]
    },
    {
     "name": "stderr",
     "output_type": "stream",
     "text": [
      "                                                              \r"
     ]
    },
    {
     "name": "stdout",
     "output_type": "stream",
     "text": [
      "Moviepy - Done !\n",
      "Moviepy - video ready d:/x1/2-5/3/a14.mp4\n",
      "视频处理完成！\n",
      "Moviepy - Building video d:/x1/2-5/3/a15.mp4.\n",
      "MoviePy - Writing audio in a15TEMP_MPY_wvf_snd.mp4\n"
     ]
    },
    {
     "name": "stderr",
     "output_type": "stream",
     "text": [
      "                                                                   \r"
     ]
    },
    {
     "name": "stdout",
     "output_type": "stream",
     "text": [
      "MoviePy - Done.\n",
      "Moviepy - Writing video d:/x1/2-5/3/a15.mp4\n",
      "\n"
     ]
    },
    {
     "name": "stderr",
     "output_type": "stream",
     "text": [
      "                                                              \r"
     ]
    },
    {
     "name": "stdout",
     "output_type": "stream",
     "text": [
      "Moviepy - Done !\n",
      "Moviepy - video ready d:/x1/2-5/3/a15.mp4\n",
      "视频处理完成！\n",
      "Moviepy - Building video d:/x1/2-5/3/a16.mp4.\n",
      "MoviePy - Writing audio in a16TEMP_MPY_wvf_snd.mp4\n"
     ]
    },
    {
     "name": "stderr",
     "output_type": "stream",
     "text": [
      "                                                                    \r"
     ]
    },
    {
     "name": "stdout",
     "output_type": "stream",
     "text": [
      "MoviePy - Done.\n",
      "Moviepy - Writing video d:/x1/2-5/3/a16.mp4\n",
      "\n"
     ]
    },
    {
     "name": "stderr",
     "output_type": "stream",
     "text": [
      "                                                              \r"
     ]
    },
    {
     "name": "stdout",
     "output_type": "stream",
     "text": [
      "Moviepy - Done !\n",
      "Moviepy - video ready d:/x1/2-5/3/a16.mp4\n",
      "视频处理完成！\n",
      "Moviepy - Building video d:/x1/2-5/3/a17.mp4.\n",
      "MoviePy - Writing audio in a17TEMP_MPY_wvf_snd.mp4\n"
     ]
    },
    {
     "name": "stderr",
     "output_type": "stream",
     "text": [
      "                                                                   \r"
     ]
    },
    {
     "name": "stdout",
     "output_type": "stream",
     "text": [
      "MoviePy - Done.\n",
      "Moviepy - Writing video d:/x1/2-5/3/a17.mp4\n",
      "\n"
     ]
    },
    {
     "name": "stderr",
     "output_type": "stream",
     "text": [
      "                                                              \r"
     ]
    },
    {
     "name": "stdout",
     "output_type": "stream",
     "text": [
      "Moviepy - Done !\n",
      "Moviepy - video ready d:/x1/2-5/3/a17.mp4\n",
      "视频处理完成！\n",
      "Moviepy - Building video d:/x1/2-5/3/a18.mp4.\n",
      "MoviePy - Writing audio in a18TEMP_MPY_wvf_snd.mp4\n"
     ]
    },
    {
     "name": "stderr",
     "output_type": "stream",
     "text": [
      "                                                                   \r"
     ]
    },
    {
     "name": "stdout",
     "output_type": "stream",
     "text": [
      "MoviePy - Done.\n",
      "Moviepy - Writing video d:/x1/2-5/3/a18.mp4\n",
      "\n"
     ]
    },
    {
     "name": "stderr",
     "output_type": "stream",
     "text": [
      "                                                              \r"
     ]
    },
    {
     "name": "stdout",
     "output_type": "stream",
     "text": [
      "Moviepy - Done !\n",
      "Moviepy - video ready d:/x1/2-5/3/a18.mp4\n",
      "视频处理完成！\n",
      "Moviepy - Building video d:/x1/2-5/3/a19.mp4.\n",
      "MoviePy - Writing audio in a19TEMP_MPY_wvf_snd.mp4\n"
     ]
    },
    {
     "name": "stderr",
     "output_type": "stream",
     "text": [
      "                                                                   \r"
     ]
    },
    {
     "name": "stdout",
     "output_type": "stream",
     "text": [
      "MoviePy - Done.\n",
      "Moviepy - Writing video d:/x1/2-5/3/a19.mp4\n",
      "\n"
     ]
    },
    {
     "name": "stderr",
     "output_type": "stream",
     "text": [
      "                                                              \r"
     ]
    },
    {
     "name": "stdout",
     "output_type": "stream",
     "text": [
      "Moviepy - Done !\n",
      "Moviepy - video ready d:/x1/2-5/3/a19.mp4\n",
      "视频处理完成！\n",
      "Moviepy - Building video d:/x1/2-5/3/a20.mp4.\n",
      "MoviePy - Writing audio in a20TEMP_MPY_wvf_snd.mp4\n"
     ]
    },
    {
     "name": "stderr",
     "output_type": "stream",
     "text": [
      "                                                                   \r"
     ]
    },
    {
     "name": "stdout",
     "output_type": "stream",
     "text": [
      "MoviePy - Done.\n",
      "Moviepy - Writing video d:/x1/2-5/3/a20.mp4\n",
      "\n"
     ]
    },
    {
     "name": "stderr",
     "output_type": "stream",
     "text": [
      "                                                              \r"
     ]
    },
    {
     "name": "stdout",
     "output_type": "stream",
     "text": [
      "Moviepy - Done !\n",
      "Moviepy - video ready d:/x1/2-5/3/a20.mp4\n",
      "视频处理完成！\n",
      "Moviepy - Building video d:/x1/2-5/3/a21.mp4.\n",
      "MoviePy - Writing audio in a21TEMP_MPY_wvf_snd.mp4\n"
     ]
    },
    {
     "name": "stderr",
     "output_type": "stream",
     "text": [
      "                                                                    \r"
     ]
    },
    {
     "name": "stdout",
     "output_type": "stream",
     "text": [
      "MoviePy - Done.\n",
      "Moviepy - Writing video d:/x1/2-5/3/a21.mp4\n",
      "\n"
     ]
    },
    {
     "name": "stderr",
     "output_type": "stream",
     "text": [
      "                                                              \r"
     ]
    },
    {
     "name": "stdout",
     "output_type": "stream",
     "text": [
      "Moviepy - Done !\n",
      "Moviepy - video ready d:/x1/2-5/3/a21.mp4\n",
      "视频处理完成！\n",
      "Moviepy - Building video d:/x1/2-5/3/a22.mp4.\n",
      "MoviePy - Writing audio in a22TEMP_MPY_wvf_snd.mp4\n"
     ]
    },
    {
     "name": "stderr",
     "output_type": "stream",
     "text": [
      "                                                                   \r"
     ]
    },
    {
     "name": "stdout",
     "output_type": "stream",
     "text": [
      "MoviePy - Done.\n",
      "Moviepy - Writing video d:/x1/2-5/3/a22.mp4\n",
      "\n"
     ]
    },
    {
     "name": "stderr",
     "output_type": "stream",
     "text": [
      "                                                              \r"
     ]
    },
    {
     "name": "stdout",
     "output_type": "stream",
     "text": [
      "Moviepy - Done !\n",
      "Moviepy - video ready d:/x1/2-5/3/a22.mp4\n",
      "视频处理完成！\n",
      "Moviepy - Building video d:/x1/2-5/3/a23.mp4.\n",
      "MoviePy - Writing audio in a23TEMP_MPY_wvf_snd.mp4\n"
     ]
    },
    {
     "name": "stderr",
     "output_type": "stream",
     "text": [
      "                                                                   \r"
     ]
    },
    {
     "name": "stdout",
     "output_type": "stream",
     "text": [
      "MoviePy - Done.\n",
      "Moviepy - Writing video d:/x1/2-5/3/a23.mp4\n",
      "\n"
     ]
    },
    {
     "name": "stderr",
     "output_type": "stream",
     "text": [
      "                                                              \r"
     ]
    },
    {
     "name": "stdout",
     "output_type": "stream",
     "text": [
      "Moviepy - Done !\n",
      "Moviepy - video ready d:/x1/2-5/3/a23.mp4\n",
      "视频处理完成！\n",
      "Moviepy - Building video d:/x1/2-5/3/a24.mp4.\n",
      "MoviePy - Writing audio in a24TEMP_MPY_wvf_snd.mp4\n"
     ]
    },
    {
     "name": "stderr",
     "output_type": "stream",
     "text": [
      "                                                                    \r"
     ]
    },
    {
     "name": "stdout",
     "output_type": "stream",
     "text": [
      "MoviePy - Done.\n",
      "Moviepy - Writing video d:/x1/2-5/3/a24.mp4\n",
      "\n"
     ]
    },
    {
     "name": "stderr",
     "output_type": "stream",
     "text": [
      "                                                              \r"
     ]
    },
    {
     "name": "stdout",
     "output_type": "stream",
     "text": [
      "Moviepy - Done !\n",
      "Moviepy - video ready d:/x1/2-5/3/a24.mp4\n",
      "视频处理完成！\n",
      "Moviepy - Building video d:/x1/2-5/3/a25.mp4.\n",
      "MoviePy - Writing audio in a25TEMP_MPY_wvf_snd.mp4\n"
     ]
    },
    {
     "name": "stderr",
     "output_type": "stream",
     "text": [
      "                                                                    \r"
     ]
    },
    {
     "name": "stdout",
     "output_type": "stream",
     "text": [
      "MoviePy - Done.\n",
      "Moviepy - Writing video d:/x1/2-5/3/a25.mp4\n",
      "\n"
     ]
    },
    {
     "name": "stderr",
     "output_type": "stream",
     "text": [
      "                                                              \r"
     ]
    },
    {
     "name": "stdout",
     "output_type": "stream",
     "text": [
      "Moviepy - Done !\n",
      "Moviepy - video ready d:/x1/2-5/3/a25.mp4\n",
      "视频处理完成！\n",
      "Moviepy - Building video d:/x1/2-5/3/a26.mp4.\n",
      "MoviePy - Writing audio in a26TEMP_MPY_wvf_snd.mp4\n"
     ]
    },
    {
     "name": "stderr",
     "output_type": "stream",
     "text": [
      "                                                                    \r"
     ]
    },
    {
     "name": "stdout",
     "output_type": "stream",
     "text": [
      "MoviePy - Done.\n",
      "Moviepy - Writing video d:/x1/2-5/3/a26.mp4\n",
      "\n"
     ]
    },
    {
     "name": "stderr",
     "output_type": "stream",
     "text": [
      "                                                              \r"
     ]
    },
    {
     "name": "stdout",
     "output_type": "stream",
     "text": [
      "Moviepy - Done !\n",
      "Moviepy - video ready d:/x1/2-5/3/a26.mp4\n",
      "视频处理完成！\n",
      "Moviepy - Building video d:/x1/2-5/3/a27.mp4.\n",
      "MoviePy - Writing audio in a27TEMP_MPY_wvf_snd.mp4\n"
     ]
    },
    {
     "name": "stderr",
     "output_type": "stream",
     "text": [
      "                                                                    \r"
     ]
    },
    {
     "name": "stdout",
     "output_type": "stream",
     "text": [
      "MoviePy - Done.\n",
      "Moviepy - Writing video d:/x1/2-5/3/a27.mp4\n",
      "\n"
     ]
    },
    {
     "name": "stderr",
     "output_type": "stream",
     "text": [
      "                                                              \r"
     ]
    },
    {
     "name": "stdout",
     "output_type": "stream",
     "text": [
      "Moviepy - Done !\n",
      "Moviepy - video ready d:/x1/2-5/3/a27.mp4\n",
      "视频处理完成！\n",
      "Moviepy - Building video d:/x1/2-5/3/a28.mp4.\n",
      "MoviePy - Writing audio in a28TEMP_MPY_wvf_snd.mp4\n"
     ]
    },
    {
     "name": "stderr",
     "output_type": "stream",
     "text": [
      "                                                                    \r"
     ]
    },
    {
     "name": "stdout",
     "output_type": "stream",
     "text": [
      "MoviePy - Done.\n",
      "Moviepy - Writing video d:/x1/2-5/3/a28.mp4\n",
      "\n"
     ]
    },
    {
     "name": "stderr",
     "output_type": "stream",
     "text": [
      "                                                              \r"
     ]
    },
    {
     "name": "stdout",
     "output_type": "stream",
     "text": [
      "Moviepy - Done !\n",
      "Moviepy - video ready d:/x1/2-5/3/a28.mp4\n",
      "视频处理完成！\n",
      "Moviepy - Building video d:/x1/2-5/3/a29.mp4.\n",
      "MoviePy - Writing audio in a29TEMP_MPY_wvf_snd.mp4\n"
     ]
    },
    {
     "name": "stderr",
     "output_type": "stream",
     "text": [
      "                                                                    \r"
     ]
    },
    {
     "name": "stdout",
     "output_type": "stream",
     "text": [
      "MoviePy - Done.\n",
      "Moviepy - Writing video d:/x1/2-5/3/a29.mp4\n",
      "\n"
     ]
    },
    {
     "name": "stderr",
     "output_type": "stream",
     "text": [
      "                                                              \r"
     ]
    },
    {
     "name": "stdout",
     "output_type": "stream",
     "text": [
      "Moviepy - Done !\n",
      "Moviepy - video ready d:/x1/2-5/3/a29.mp4\n",
      "视频处理完成！\n",
      "Moviepy - Building video d:/x1/2-5/3/a30.mp4.\n",
      "MoviePy - Writing audio in a30TEMP_MPY_wvf_snd.mp4\n"
     ]
    },
    {
     "name": "stderr",
     "output_type": "stream",
     "text": [
      "                                                                    \r"
     ]
    },
    {
     "name": "stdout",
     "output_type": "stream",
     "text": [
      "MoviePy - Done.\n",
      "Moviepy - Writing video d:/x1/2-5/3/a30.mp4\n",
      "\n"
     ]
    },
    {
     "name": "stderr",
     "output_type": "stream",
     "text": [
      "                                                              \r"
     ]
    },
    {
     "name": "stdout",
     "output_type": "stream",
     "text": [
      "Moviepy - Done !\n",
      "Moviepy - video ready d:/x1/2-5/3/a30.mp4\n",
      "视频处理完成！\n"
     ]
    }
   ],
   "source": [
    "import cv2\n",
    "import moviepy.editor as mp\n",
    "from pydub import AudioSegment\n",
    "\n",
    "\n",
    "\n",
    "\n",
    "def longandmusic(a1):\n",
    "# 读取视频\n",
    "    video_path =  f\"C:/Users/ly1/Downloads/24020202/{a1}.mp4\"  \n",
    "    output_video_path = \"d:/x1/2-5/3/output1.mp4\"\n",
    "    audio_path = \"d:/x1/12.MP3\"  \n",
    "    output_path1 = f'd:/x1/2-5/3/a{a1}.mp4'#最终\n",
    "    video = cv2.VideoCapture(video_path)\n",
    "\n",
    "    # 获取视频的帧率和总帧数\n",
    "    fps = video.get(cv2.CAP_PROP_FPS)\n",
    "    total_frames = int(video.get(cv2.CAP_PROP_FRAME_COUNT))\n",
    "\n",
    "    # 计算新的视频长度和每一帧之间的时间间隔\n",
    "    new_duration = 20  # 新视频的长度（秒）\n",
    "    new_total_frames = int(fps * new_duration)\n",
    "    frame_interval = total_frames / new_total_frames\n",
    "\n",
    "\n",
    "\n",
    "    # 输出视频的路径和名称\n",
    "\n",
    "\n",
    "    # 创建一个写入视频的对象\n",
    "    fourcc = cv2.VideoWriter_fourcc(*\"mp4v\")\n",
    "    output_video = cv2.VideoWriter(output_video_path, fourcc, fps, (int(video.get(3)), int(video.get(4))))\n",
    "\n",
    "    # 循环读取视频的每一帧并写入新的视频\n",
    "    current_frame = 0\n",
    "    while True:\n",
    "        # 读取视频的当前帧\n",
    "        ret, frame = video.read()\n",
    "        if not ret:\n",
    "            break\n",
    "\n",
    "        # 写入新的视频\n",
    "        output_video.write(frame)\n",
    "\n",
    "        # 计算下一帧的位置\n",
    "        current_frame += frame_interval\n",
    "        video.set(cv2.CAP_PROP_POS_FRAMES, int(current_frame))\n",
    "\n",
    "    # 释放视频对象\n",
    "    video.release()\n",
    "    output_video.release()\n",
    "\n",
    "\n",
    "\n",
    "    # 读取视频和音频\n",
    "    #video_path = \"d:/x1/output1.mp4\"\n",
    "\n",
    "\n",
    "    video = mp.VideoFileClip(output_video_path)\n",
    "    audio = mp.AudioFileClip(audio_path)\n",
    "\n",
    "    # 调整音频的长度以适应视频\n",
    "    audio = audio.set_duration(video.duration)\n",
    "\n",
    "    # 将音频添加到视频中\n",
    "    video = video.set_audio(audio)\n",
    "\n",
    "    # 输出路径和名称\n",
    "    #output_path1 = 'd:/x1/output2.mp4'\n",
    "\n",
    "    # 保存合并后的视频\n",
    "    video.write_videofile(output_path1, codec=\"libx264\", audio_codec=\"aac\")\n",
    "\n",
    "    # 打印完成消息\n",
    "    print(\"视频处理完成！\")\n",
    "\n",
    "for f1 in range(1,31):\n",
    "    longandmusic(f1)"
   ]
  },
  {
   "cell_type": "code",
   "execution_count": 9,
   "metadata": {},
   "outputs": [
    {
     "name": "stdout",
     "output_type": "stream",
     "text": [
      "Looking in indexes: https://pypi.tuna.tsinghua.edu.cn/simpleNote: you may need to restart the kernel to use updated packages.\n",
      "\n",
      "Collecting pydub\n",
      "  Downloading https://pypi.tuna.tsinghua.edu.cn/packages/a6/53/d78dc063216e62fc55f6b2eebb447f6a4b0a59f55c8406376f76bf959b08/pydub-0.25.1-py2.py3-none-any.whl (32 kB)\n",
      "Installing collected packages: pydub\n",
      "Successfully installed pydub-0.25.1\n"
     ]
    }
   ],
   "source": [
    "pip install pydub -i https://pypi.tuna.tsinghua.edu.cn/simple"
   ]
  },
  {
   "cell_type": "code",
   "execution_count": 52,
   "metadata": {},
   "outputs": [],
   "source": [
    "import cv2\n",
    "import os\n",
    "\n",
    "# 图片文件夹路径\n",
    "image_folder = 'd:/2-3/'\n",
    "\n",
    "# 获取图片文件夹中的所有图片文件\n",
    "images = [img for img in os.listdir(image_folder) if img.endswith(\".png\")]\n",
    "\n",
    "# 按照文件名排序（确保图片按照你想要的顺序显示）\n",
    "images.sort()\n",
    "\n",
    "# 获取第一张图片的宽度和高度\n",
    "frame = cv2.imread(os.path.join(image_folder, images[0]))\n",
    "height, width, _ = frame.shape\n",
    "\n",
    "# 设置视频的帧率和显示时长（单位：毫秒）\n",
    "fps = 25  # 帧率（每秒25帧）\n",
    "duration = 4000  # 每张图片显示4秒\n",
    "\n",
    "# 创建视频编写器\n",
    "video = cv2.VideoWriter('d:/2-3/output1.mp4', cv2.VideoWriter_fourcc(*'mp4v'), fps, (width, height))\n",
    "\n",
    "# 逐张读取图片并将其写入视频文件\n",
    "for image in images:\n",
    "    # 读取图片\n",
    "    img_path = os.path.join(image_folder, image)\n",
    "    frame = cv2.imread(img_path)\n",
    "\n",
    "    # 将图片写入视频文件\n",
    "    for _ in range(int(duration / 1000 * fps)):\n",
    "        video.write(frame)\n",
    "\n",
    "# 释放视频编写器\n",
    "video.release()"
   ]
  },
  {
   "cell_type": "code",
   "execution_count": 68,
   "metadata": {},
   "outputs": [],
   "source": [
    "import cv2\n",
    "import os\n",
    "import numpy as np\n",
    "\n",
    "# 图片文件夹路径\n",
    "image_folder = 'd:/2-3/'\n",
    "\n",
    "# 获取图片文件夹中的所有图片文件\n",
    "images = [img for img in os.listdir(image_folder) if img.endswith(\".png\")]\n",
    "\n",
    "# 按照文件名排序（确保图片按照你想要的顺序显示）\n",
    "images.sort()\n",
    "\n",
    "# 获取第一张图片的宽度和高度\n",
    "frame = cv2.imread(os.path.join(image_folder, images[0]))\n",
    "height, width, _ = frame.shape\n",
    "\n",
    "# 设置视频的帧率和显示时长（单位：毫秒）\n",
    "fps = 25  # 帧率（每秒25帧）\n",
    "duration = 3000  # 每张图片显示4秒\n",
    "transition_duration = 1000  # 转场动画的时长为1秒\n",
    "transition_frames = int(transition_duration / 1000 * fps)  # 过渡帧的数量\n",
    "\n",
    "# 创建视频编写器\n",
    "video = cv2.VideoWriter('d:/2-3/output3.mp4', cv2.VideoWriter_fourcc(*'mp4v'), fps, (width, height))\n",
    "\n",
    "# 逐张读取图片并将其写入视频文件\n",
    "for i, image in enumerate(images):\n",
    "    # 读取当前图片\n",
    "    img_path = os.path.join(image_folder, image)\n",
    "    frame = cv2.imread(img_path)\n",
    "\n",
    "    # 写入当前图片\n",
    "    for _ in range(int(duration / 1000 * fps)):\n",
    "        video.write(frame)\n",
    "\n",
    "    # 添加转场动画（淡入淡出效果）\n",
    "    if i < len(images) - 1:\n",
    "        next_img_path = os.path.join(image_folder, images[i + 1])\n",
    "        next_frame = cv2.imread(next_img_path)\n",
    "\n",
    "        # 生成过渡帧\n",
    "        for j in range(transition_frames):\n",
    "            alpha = j / (transition_frames - 1)  # 过渡帧的混合比例\n",
    "            transition_frame = cv2.addWeighted(frame, 1 - alpha, next_frame, alpha, 0)\n",
    "\n",
    "            # 写入过渡帧\n",
    "            video.write(transition_frame)\n",
    "\n",
    "        frame = next_frame\n",
    "\n",
    "# 释放视频编写器\n",
    "video.release()"
   ]
  },
  {
   "cell_type": "code",
   "execution_count": null,
   "metadata": {},
   "outputs": [],
   "source": [
    "from moviepy.editor import VideoFileClip\n",
    "from moviepy.editor import concatenate_videoclips\n",
    "from moviepy.editor import AudioFileClip\n",
    "import cv2\n",
    "import os\n",
    "\n",
    "# 图片文件夹路径\n",
    "image_folder = 'd:/2-3/'\n",
    "\n",
    "# 获取图片文件夹中的所有图片文件\n",
    "images = [img for img in os.listdir(image_folder) if img.endswith(\".png\")]\n",
    "\n",
    "# 按照文件名排序（确保图片按照你想要的顺序显示）\n",
    "images.sort()\n",
    "\n",
    "# 设置视频的帧率和显示时长（单位：毫秒）\n",
    "fps = 25  # 帧率（每秒25帧）\n",
    "duration = 3000  # 每张图片显示4秒\n",
    "transition_duration = 1000  # 转场动画的时长为1秒\n",
    "transition_frames = int(transition_duration / 1000 * fps)  # 过渡帧的数量\n",
    "\n",
    "# 读取背景音乐\n",
    "music_path = 'd:/2-3/11.mp3'\n",
    "background_music = AudioFileClip(music_path)\n",
    "\n",
    "# 获取第一张图片的宽度和高度\n",
    "frame = cv2.imread(os.path.join(image_folder, images[0]))\n",
    "height, width, _ = frame.shape\n",
    "\n",
    "# 创建视频编写器\n",
    "video = cv2.VideoWriter('d:/2-3/output1.mp4', cv2.VideoWriter_fourcc(*'mp4v'), fps, (width, height))\n",
    "\n",
    "# 逐张读取图片并将其写入视频文件\n",
    "for i, image in enumerate(images):\n",
    "    # 读取当前图片\n",
    "    img_path = os.path.join(image_folder, image)\n",
    "    frame = cv2.imread(img_path)\n",
    "\n",
    "    # 写入当前图片\n",
    "    for _ in range(int(duration / 1000 * fps)):\n",
    "        video.write(frame)\n",
    "\n",
    "    # 添加转场动画（淡入淡出效果）\n",
    "    if i < len(images) - 1:\n",
    "        next_img_path = os.path.join(image_folder, images[i + 1])\n",
    "        next_frame = cv2.imread(next_img_path)\n",
    "\n",
    "        # 生成过渡帧\n",
    "        for j in range(transition_frames):\n",
    "            alpha = j / (transition_frames - 1)  # 过渡帧的混合比例\n",
    "            transition_frame = cv2.addWeighted(frame, 1 - alpha, next_frame, alpha, 0)\n",
    "\n",
    "            # 写入过渡帧\n",
    "            video.write(transition_frame)\n",
    "\n",
    "        frame = next_frame\n",
    "\n",
    "# 释放视频编写器\n",
    "video.release()\n",
    "\n",
    "# 获取视频的持续时间\n",
    "video_duration = len(images) * duration + (len(images) - 1) * transition_duration\n",
    "print(video_duration )\n",
    "\n",
    "# 裁剪背景音乐的时长\n",
    "background_music = background_music.subclip(0, video_duration/1000)\n",
    "\n",
    "# 将背景音乐添加到视频\n",
    "video_clip = VideoFileClip('d:/2-3/output1.mp4')\n",
    "video_with_audio = video_clip.set_audio(background_music)\n",
    "\n",
    "# 导出最终视频\n",
    "output_path = 'd:/2-3/output_with_audio.mp4'\n",
    "video_with_audio.write_videofile(output_path, fps=fps, codec='libx264')\n",
    "\n",
    "# 删除原视频文件\n",
    "#os.remove('d:/2-3/output1.mp4')"
   ]
  },
  {
   "cell_type": "code",
   "execution_count": null,
   "metadata": {},
   "outputs": [],
   "source": [
    "import csv  \n",
    "import os\n",
    "  \n",
    "# 打开CSV文件并读取数据  \n",
    "with open('8-1.csv', 'r') as file:  \n",
    "    reader = csv.reader(file)  \n",
    "    data = [row for row in reader]  \n",
    "  \n",
    "# 打印列表  \n",
    "#print(data)\n",
    "#len(data)\n",
    "pic1=[]\n",
    "sz1=[]\n",
    "pic0 = 'd:/2-4/'\n",
    "for i0,i in enumerate(range(1, len(data), 5)): \n",
    "    str0='' \n",
    "    pic2=[]\n",
    "    \n",
    "    for i1,j in enumerate(data[i:i+5]):\n",
    "        str0+=str(i1+1)+','+j[1]+\"\\n\"\n",
    "        pic2.append(pic0+str(i+i1)+'.png')\n",
    "    #print(str0)\n",
    "    sz2=[str(i0+1),(str0)]\n",
    "    sz1.append(sz2)\n",
    "    pic1.append(pic2)\n",
    "    \n",
    "    #print(pic2)\n",
    "print(pic1)\n",
    "from moviepy.editor import VideoFileClip\n",
    "from moviepy.editor import concatenate_videoclips\n",
    "from moviepy.editor import AudioFileClip\n",
    "import cv2\n",
    "import os\n",
    "for i2,pic3 in enumerate(pic1):\n",
    "    print(pic3)\n",
    "    images = pic3\n",
    "\n",
    "   \n",
    "\n",
    "    # 图片文件夹路径\n",
    "    image_folder = 'd:/2-4/'\n",
    "\n",
    "    # # 获取图片文件夹中的所有图片文件\n",
    "    # images = [img for img in os.listdir(image_folder) if img.endswith(\".png\")]\n",
    "\n",
    "    # # 按照文件名排序（确保图片按照你想要的顺序显示）\n",
    "    # images.sort()\n",
    "\n",
    "    # 设置视频的帧率和显示时长（单位：毫秒）\n",
    "    fps = 25  # 帧率（每秒25帧）\n",
    "    duration = 3000  # 每张图片显示4秒\n",
    "    transition_duration = 1000  # 转场动画的时长为1秒\n",
    "    transition_frames = int(transition_duration / 1000 * fps)  # 过渡帧的数量\n",
    "\n",
    "    # 读取背景音乐\n",
    "    music_path = 'd:/2-4/12.MP3'\n",
    "    background_music = AudioFileClip(music_path)\n",
    "\n",
    "    # 获取第一张图片的宽度和高度\n",
    "    frame = cv2.imread(os.path.join(image_folder, images[0]))\n",
    "    height, width, _ = frame.shape\n",
    "\n",
    "    # 创建视频编写器\n",
    "    video = cv2.VideoWriter('d:/2-4/output1.mp4', cv2.VideoWriter_fourcc(*'mp4v'), fps, (width, height))\n",
    "\n",
    "    # 逐张读取图片并将其写入视频文件\n",
    "    for i, image in enumerate(images):\n",
    "        # 读取当前图片\n",
    "        img_path = os.path.join(image_folder, image)\n",
    "        frame = cv2.imread(img_path)\n",
    "\n",
    "        # 写入当前图片\n",
    "        for _ in range(int(duration / 1000 * fps)):\n",
    "            video.write(frame)\n",
    "\n",
    "        # 添加转场动画（淡入淡出效果）\n",
    "        if i < len(images) - 1:\n",
    "            next_img_path = os.path.join(image_folder, images[i + 1])\n",
    "            next_frame = cv2.imread(next_img_path)\n",
    "\n",
    "            # 生成过渡帧\n",
    "            for j in range(transition_frames):\n",
    "                alpha = j / (transition_frames - 1)  # 过渡帧的混合比例\n",
    "                transition_frame = cv2.addWeighted(frame, 1 - alpha, next_frame, alpha, 0)\n",
    "\n",
    "                # 写入过渡帧\n",
    "                video.write(transition_frame)\n",
    "\n",
    "            frame = next_frame\n",
    "\n",
    "    # 释放视频编写器\n",
    "    video.release()\n",
    "\n",
    "    # 获取视频的持续时间\n",
    "    video_duration = len(images) * duration + (len(images) - 1) * transition_duration\n",
    "    print(video_duration )\n",
    "\n",
    "    # 裁剪背景音乐的时长\n",
    "    background_music = background_music.subclip(0, video_duration/1000)\n",
    "\n",
    "    # 将背景音乐添加到视频\n",
    "    video_clip = VideoFileClip('d:/2-4/output1.mp4')\n",
    "    video_with_audio = video_clip.set_audio(background_music)\n",
    "\n",
    "    # 导出最终视频\n",
    "    output_path = f'd:/2-4/a{str(i2+1)}.mp4'\n",
    "    video_with_audio.write_videofile(output_path, fps=fps, codec='libx264')\n",
    "\n",
    "    # 删除原视频文件\n",
    "    #os.remove('d:/2-3/output1.mp4')\n",
    "    \n",
    "    \n",
    "   \n",
    "\n"
   ]
  },
  {
   "cell_type": "code",
   "execution_count": 89,
   "metadata": {},
   "outputs": [
    {
     "name": "stdout",
     "output_type": "stream",
     "text": [
      "[['d:/2-4/1.png', 'd:/2-4/2.png', 'd:/2-4/3.png', 'd:/2-4/4.png', 'd:/2-4/5.png'], ['d:/2-4/6.png', 'd:/2-4/7.png', 'd:/2-4/8.png', 'd:/2-4/9.png', 'd:/2-4/10.png'], ['d:/2-4/11.png', 'd:/2-4/12.png', 'd:/2-4/13.png', 'd:/2-4/14.png', 'd:/2-4/15.png'], ['d:/2-4/16.png', 'd:/2-4/17.png', 'd:/2-4/18.png', 'd:/2-4/19.png', 'd:/2-4/20.png'], ['d:/2-4/21.png', 'd:/2-4/22.png', 'd:/2-4/23.png', 'd:/2-4/24.png', 'd:/2-4/25.png'], ['d:/2-4/26.png', 'd:/2-4/27.png', 'd:/2-4/28.png', 'd:/2-4/29.png', 'd:/2-4/30.png'], ['d:/2-4/31.png', 'd:/2-4/32.png', 'd:/2-4/33.png', 'd:/2-4/34.png', 'd:/2-4/35.png'], ['d:/2-4/36.png', 'd:/2-4/37.png', 'd:/2-4/38.png', 'd:/2-4/39.png', 'd:/2-4/40.png'], ['d:/2-4/41.png', 'd:/2-4/42.png', 'd:/2-4/43.png', 'd:/2-4/44.png', 'd:/2-4/45.png'], ['d:/2-4/46.png', 'd:/2-4/47.png', 'd:/2-4/48.png', 'd:/2-4/49.png', 'd:/2-4/50.png'], ['d:/2-4/51.png', 'd:/2-4/52.png', 'd:/2-4/53.png', 'd:/2-4/54.png', 'd:/2-4/55.png'], ['d:/2-4/56.png', 'd:/2-4/57.png', 'd:/2-4/58.png', 'd:/2-4/59.png', 'd:/2-4/60.png']]\n"
     ]
    }
   ],
   "source": [
    "import csv  \n",
    "import os\n",
    "  \n",
    "# 打开CSV文件并读取数据  \n",
    "with open('8-1.csv', 'r') as file:  \n",
    "    reader = csv.reader(file)  \n",
    "    data = [row for row in reader]  \n",
    "  \n",
    "# 打印列表  \n",
    "#print(data)\n",
    "#len(data)\n",
    "pic1=[]\n",
    "sz1=[]\n",
    "pic0 = 'd:/2-4/'\n",
    "for i0,i in enumerate(range(1, len(data), 5)): \n",
    "    str0='' \n",
    "    pic2=[]\n",
    "    \n",
    "    for i1,j in enumerate(data[i:i+5]):\n",
    "        str0+=str(i1+1)+','+j[1]+\"\\n\"\n",
    "        pic2.append(pic0+str(i+i1)+'.png')\n",
    "    #print(str0)\n",
    "    sz2=[str(i0+1),(str0)]\n",
    "    sz1.append(sz2)\n",
    "    pic1.append(pic2)\n",
    "    \n",
    "    #print(pic2)\n",
    "print(pic1)"
   ]
  }
 ],
 "metadata": {
  "kernelspec": {
   "display_name": "base",
   "language": "python",
   "name": "python3"
  },
  "language_info": {
   "codemirror_mode": {
    "name": "ipython",
    "version": 3
   },
   "file_extension": ".py",
   "mimetype": "text/x-python",
   "name": "python",
   "nbconvert_exporter": "python",
   "pygments_lexer": "ipython3",
   "version": "3.11.5"
  }
 },
 "nbformat": 4,
 "nbformat_minor": 2
}
