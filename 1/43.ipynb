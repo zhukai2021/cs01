{
 "cells": [
  {
   "cell_type": "code",
   "execution_count": 1,
   "metadata": {},
   "outputs": [],
   "source": [
    "import os\n",
    "\n",
    "# 视频文件路径\n",
    "for f1 in range(500,501):\n",
    "    video_path = \"D:/1/bg1.mp4\"\n",
    "    # 图片文件路径\n",
    "    image_path = f'D:/1/诗词2.png'\n",
    "    # 输出视频文件路径\n",
    "    output_path = f'D:/1/a2.mp4'\n",
    "\n",
    "    # 构建FFmpeg命令\n",
    "    command = f'ffmpeg -i {video_path} -i {image_path} -filter_complex \"overlay=10:100\" {output_path}'\n",
    "\n",
    "    # 执行命令\n",
    "    os.system(command)"
   ]
  },
  {
   "cell_type": "code",
   "execution_count": null,
   "metadata": {},
   "outputs": [],
   "source": [
    "import os\n",
    "\n",
    "# 视频文件路径\n",
    "for f1 in range(500,600):\n",
    "    video_path = \"D:/1/bg1.mp4\"\n",
    "    # 图片文件路径\n",
    "    image_path = f'D:/2/a{str(f1)}.png'\n",
    "    # 输出视频文件路径\n",
    "    output_path = f'D:/33/a{str(f1)}.mp4'\n",
    "\n",
    "    # 构建FFmpeg命令\n",
    "    command = f'ffmpeg -i {video_path} -i {image_path} -filter_complex \"overlay=10:100\" {output_path}'\n",
    "\n",
    "    # 执行命令\n",
    "    os.system(command)"
   ]
  },
  {
   "cell_type": "code",
   "execution_count": null,
   "metadata": {},
   "outputs": [],
   "source": [
    "import os\n",
    "\n",
    "# 视频文件路径\n",
    "for f1 in range(500,600):\n",
    "    video_path = \"D:/1/bg1.mp4\"\n",
    "    # 图片文件路径\n",
    "    image_path = f'D:/2/a{str(f1)}.png'\n",
    "    # 输出视频文件路径\n",
    "    output_path = f'D:/33/a{str(f1)}.mp4'\n",
    "\n",
    "    # 构建FFmpeg命令\n",
    "    command = f'ffmpeg -i {video_path} -i {image_path} -filter_complex \"overlay=10:100\" {output_path}'\n",
    "\n",
    "    # 执行命令\n",
    "    os.system(command)\n"
   ]
  }
 ],
 "metadata": {
  "kernelspec": {
   "display_name": "base",
   "language": "python",
   "name": "python3"
  },
  "language_info": {
   "codemirror_mode": {
    "name": "ipython",
    "version": 3
   },
   "file_extension": ".py",
   "mimetype": "text/x-python",
   "name": "python",
   "nbconvert_exporter": "python",
   "pygments_lexer": "ipython3",
   "version": "3.9.13"
  }
 },
 "nbformat": 4,
 "nbformat_minor": 2
}
