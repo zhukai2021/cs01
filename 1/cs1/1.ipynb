{
 "cells": [
  {
   "cell_type": "code",
   "execution_count": 8,
   "metadata": {},
   "outputs": [
    {
     "name": "stdout",
     "output_type": "stream",
     "text": [
      "{'status': 'success', 'data': {'id': '5b8b9572e116fb3714e6fa36', 'content': '江畔何人初见月，江月何年初照人？', 'popularity': 806000, 'origin': {'title': '春江花月夜', 'dynasty': '唐代', 'author': '张若虚', 'content': ['春江潮水连海平，海上明月共潮生。', '滟滟随波千万里，何处春江无月明！', '江流宛转绕芳甸，月照花林皆似霰。', '空里流霜不觉飞，汀上白沙看不见。', '江天一色无纤尘，皎皎空中孤月轮。', '江畔何人初见月，江月何年初照人？', '人生代代无穷已，江月年年只相似。', '不知江月待何人，但见长江送流水。', '白云一片去悠悠，青枫浦上不胜愁。', '谁家今夜扁舟子，何处相思明月楼？', '可怜楼上月徘徊，应照离人妆镜台。', '玉户帘中卷不去，捣衣砧上拂还来。', '此时相望不相闻，愿逐月华流照君。', '鸿雁长飞光不度，鱼龙潜跃水成文。', '昨夜闲潭梦落花，可怜春半不还家。', '江水流春去欲尽，江潭落月复西斜。', '斜月沉沉藏海雾，碣石潇湘无限路。', '不知乘月几人归，落月摇情满江树。'], 'translate': ['春天的江潮水势浩荡，与大海连成一片，一轮明月从海上升起，好像与潮水一起涌出来。', '月光照耀着春江，随着波浪闪耀千万里，所有地方的春江都有明亮的月光。', '江水曲曲折折地绕着花草丛生的原野流淌，月光照射着开遍鲜花的树林好像细密的雪珠在闪烁。', '月色如霜，所以霜飞无从觉察。洲上的白沙和月色融合在一起，看不分明。', '江水、天空成一色，没有一点微小灰尘，明亮的天空中只有一轮孤月高悬空中。', '江边上什么人最初看见月亮，江上的月亮哪一年最初照耀着人？', '人生一代代地无穷无尽，只有江上的月亮一年年地总是相像。', '不知江上的月亮等待着什么人，只见长江不断地一直运输着流水。', '游子像一片白云缓缓地离去，只剩下思妇站在离别的青枫浦不胜忧愁。', '哪家的游子今晚坐着小船在漂流？什么地方有人在明月照耀的楼上相思？', '可怜楼上不停移动的月光，应该照耀着离人的梳妆台。', '月光照进思妇的门帘，卷不走，照在她的捣衣砧上，拂不掉。', '这时互相望着月亮可是互相听不到声音，我希望随着月光流去照耀着您。', '鸿雁不停地飞翔，而不能飞出无边的月光；月照江面，鱼龙在水中跳跃，激起阵阵波纹。', '昨天夜里梦见花落闲潭，可惜的是春天过了一半自己还不能回家。', '江水带着春光将要流尽，水潭上的月亮又要西落。', '斜月慢慢下沉，藏在海雾里，碣石与潇湘的离人距离无限遥远。', '不知有几人能趁着月光回家，唯有那西落的月亮摇荡着离情，洒满了江边的树林。']}, 'matchTags': [], 'recommendedReason': '', 'cacheAt': '2023-06-11T23:31:16.981965333'}, 'token': 'npSPmqCpedEgaSoUFf1f23HOO/DgmvLX', 'ipAddress': '223.89.209.250', 'warning': '接口侦测到来自您 IP 的异常流量，已主动下调推荐效果，请正确配置接口，携带 Token 并正常发送请求。一小时内自动恢复。'}\n"
     ]
    }
   ],
   "source": [
    "import requests\n",
    "import csv\n",
    "\n",
    "# 发送HTTP GET请求，获取接口返回的数据\n",
    "headers = { 'User-Agent': 'Mozilla/5.0 (Windows NT 10.0; Win64; x64) AppleWebKit/537.36 \\   (KHTML, like Gecko) Chrome/89.0.4389.82 Safari/537.36' ,\n",
    "     'X-User-Token': \"npSPmqCpedEgaSoUFf1f23HOO/DgmvLX\"   }\n",
    "response = requests.get('https://v2.jinrishici.com/sentence',headers=headers)\n",
    "\n",
    "# 从返回的JSON数据中提取诗句、作者和来源分类\n",
    "data = response.json()\n",
    "print(data)\n",
    "title = data['data']['origin']['title']\n",
    "\n",
    "dynasty = data['data']['origin']['dynasty']\n",
    "author = data['data']['origin']['author']\n",
    "content = data['data']['origin']['content']\n",
    "translate = data['data']['origin']['translate']\n",
    "\n",
    "# category = data['data']['matchTags'][0]\n",
    "\n",
    "# 将数据保存到CSV文件中\n",
    "with open('poem.csv', 'a', newline='', encoding='utf-8') as csvfile:\n",
    "    writer = csv.writer(csvfile)\n",
    "    writer.writerow([dynasty,author,title,content,translate])"
   ]
  },
  {
   "cell_type": "code",
   "execution_count": 10,
   "metadata": {},
   "outputs": [
    {
     "name": "stdout",
     "output_type": "stream",
     "text": [
      "{'status': 'success', 'data': {'id': '5b8b9572e116fb3714e6fa42', 'content': '不知乘月几人归，落月摇情满江树。', 'popularity': 390000, 'origin': {'title': '春江花月夜', 'dynasty': '唐代', 'author': '张若虚', 'content': ['春江潮水连海平，海上明月共潮生。', '滟滟随波千万里，何处春江无月明！', '江流宛转绕芳甸，月照花林皆似霰。', '空里流霜不觉飞，汀上白沙看不见。', '江天一色无纤尘，皎皎空中孤月轮。', '江畔何人初见月，江月何年初照人？', '人生代代无穷已，江月年年只相似。', '不知江月待何人，但见长江送流水。', '白云一片去悠悠，青枫浦上不胜愁。', '谁家今夜扁舟子，何处相思明月楼？', '可怜楼上月徘徊，应照离人妆镜台。', '玉户帘中卷不去，捣衣砧上拂还来。', '此时相望不相闻，愿逐月华流照君。', '鸿雁长飞光不度，鱼龙潜跃水成文。', '昨夜闲潭梦落花，可怜春半不还家。', '江水流春去欲尽，江潭落月复西斜。', '斜月沉沉藏海雾，碣石潇湘无限路。', '不知乘月几人归，落月摇情满江树。'], 'translate': ['春天的江潮水势浩荡，与大海连成一片，一轮明月从海上升起，好像与潮水一起涌出来。', '月光照耀着春江，随着波浪闪耀千万里，所有地方的春江都有明亮的月光。', '江水曲曲折折地绕着花草丛生的原野流淌，月光照射着开遍鲜花的树林好像细密的雪珠在闪烁。', '月色如霜，所以霜飞无从觉察。洲上的白沙和月色融合在一起，看不分明。', '江水、天空成一色，没有一点微小灰尘，明亮的天空中只有一轮孤月高悬空中。', '江边上什么人最初看见月亮，江上的月亮哪一年最初照耀着人？', '人生一代代地无穷无尽，只有江上的月亮一年年地总是相像。', '不知江上的月亮等待着什么人，只见长江不断地一直运输着流水。', '游子像一片白云缓缓地离去，只剩下思妇站在离别的青枫浦不胜忧愁。', '哪家的游子今晚坐着小船在漂流？什么地方有人在明月照耀的楼上相思？', '可怜楼上不停移动的月光，应该照耀着离人的梳妆台。', '月光照进思妇的门帘，卷不走，照在她的捣衣砧上，拂不掉。', '这时互相望着月亮可是互相听不到声音，我希望随着月光流去照耀着您。', '鸿雁不停地飞翔，而不能飞出无边的月光；月照江面，鱼龙在水中跳跃，激起阵阵波纹。', '昨天夜里梦见花落闲潭，可惜的是春天过了一半自己还不能回家。', '江水带着春光将要流尽，水潭上的月亮又要西落。', '斜月慢慢下沉，藏在海雾里，碣石与潇湘的离人距离无限遥远。', '不知有几人能趁着月光回家，唯有那西落的月亮摇荡着离情，洒满了江边的树林。']}, 'matchTags': [], 'recommendedReason': '', 'cacheAt': '2023-06-11T23:33:58.757177859'}, 'token': 'npSPmqCpedEgaSoUFf1f23HOO/DgmvLX', 'ipAddress': '223.89.209.250', 'warning': '接口侦测到来自您 IP 的异常流量，已主动下调推荐效果，请正确配置接口，携带 Token 并正常发送请求。一小时内自动恢复。'}\n"
     ]
    },
    {
     "ename": "",
     "evalue": "",
     "output_type": "error",
     "traceback": [
      "\u001b[1;31m在当前单元格或上一个单元格中执行代码时 Kernel 崩溃。请查看单元格中的代码，以确定故障的可能原因。有关详细信息，请单击 <a href='https://aka.ms/vscodeJupyterKernelCrash'>此处</a>。有关更多详细信息，请查看 Jupyter <a href='command:jupyter.viewOutput'>log</a>。"
     ]
    }
   ],
   "source": [
    "import requests\n",
    "import csv\n",
    "\n",
    "# 发送HTTP GET请求，获取接口返回的数据\n",
    "headers = {\n",
    "    'User-Agent': 'Mozilla/5.0 (Windows NT 10.0; Win64; x64) AppleWebKit/537.36 (KHTML, like Gecko) Chrome/89.0.4389.82 Safari/537.36',\n",
    "    'X-User-Token': \"npSPmqCpedEgaSoUFf1f23HOO/DgmvLX\"\n",
    "}\n",
    "response = requests.get('https://v2.jinrishici.com/sentence', headers=headers)\n",
    "\n",
    "# 从返回的JSON数据中提取诗句、作者和来源分类\n",
    "data = response.json()\n",
    "print(data)\n",
    "\n",
    "# 处理作者和标题\n",
    "origin = data['data']['origin']\n",
    "title = origin.get('title', '')\n",
    "if not title:\n",
    "    title = origin.get('content', '')[:10] + '...'\n",
    "author = origin.get('author', '')\n",
    "\n",
    "# 提取朝代、内容和翻译\n",
    "dynasty = origin.get('dynasty', '')\n",
    "content = origin.get('content', '')\n",
    "translate = origin.get('translate', '')\n",
    "\n",
    "# 将数据保存到CSV文件中\n",
    "with open('poem.csv', 'a', newline='', encoding='utf-8') as csvfile:\n",
    "    writer = csv.writer(csvfile)\n",
    "    writer.writerow([dynasty, author, title, content, translate])"
   ]
  },
  {
   "cell_type": "code",
   "execution_count": 1,
   "metadata": {},
   "outputs": [
    {
     "name": "stdout",
     "output_type": "stream",
     "text": [
      "{'status': 'success', 'data': {'id': '5b8b9572e116fb3714e72d40', 'content': '一番荷芰生池沼，槛前风送馨香。', 'popularity': 51700, 'origin': {'title': '临江仙·一番荷芰生池沼', 'dynasty': '五代', 'author': '尹鹗', 'content': ['一番荷芰生池沼，槛前风送馨香。昔年于此伴萧娘。相偎伫立，牵惹叙衷肠。', '时逞笑容无限态，还如菡萏争芳。别来虚遣思悠飏。慵窥往事，金锁小兰房。'], 'translate': None}, 'matchTags': ['荷花', '风', '夏'], 'recommendedReason': '', 'cacheAt': '2023-06-15T07:12:14.600381304'}, 'token': 'npSPmqCpedEgaSoUFf1f23HOO/DgmvLX', 'ipAddress': '223.89.237.125', 'warning': None}\n"
     ]
    }
   ],
   "source": [
    "import requests\n",
    "import csv\n",
    "\n",
    "# 发送HTTP GET请求，获取接口返回的数据\n",
    "headers = {\n",
    "    'User-Agent': 'Mozilla/5.0 (Windows NT 10.0; Win64; x64) AppleWebKit/537.36 (KHTML, like Gecko) Chrome/89.0.4389.82 Safari/537.36',\n",
    "    'X-User-Token': \"npSPmqCpedEgaSoUFf1f23HOO/DgmvLX\"\n",
    "}\n",
    "response = requests.get('https://v2.jinrishici.com/sentence', headers=headers)\n",
    "\n",
    "# 从返回的JSON数据中提取诗句信息\n",
    "data = response.json()\n",
    "print(data)\n",
    "\n",
    "origin = data['data']['origin']\n",
    "title = origin.get('title', '')\n",
    "if not title:\n",
    "    title = origin.get('content', '')[:10] + '...'\n",
    "author = origin.get('author', '')\n",
    "dynasty = origin.get('dynasty', '')\n",
    "content = origin.get('content', '')\n",
    "translate = origin.get('translate', '')\n",
    "\n",
    "# 定义HTML模板\n",
    "html_template = '''\n",
    "<!DOCTYPE html>\n",
    "<html>\n",
    "<head>\n",
    "    <meta charset=\"utf-8\">\n",
    "    <title>{title}</title>\n",
    "</head>\n",
    "<body>\n",
    "    <h1>{title}</h1>\n",
    "    <p><strong>{author}</strong> ({dynasty})</p>\n",
    "    <p>{content}</p>\n",
    "    <p>{translate}</p>\n",
    "</body>\n",
    "</html>\n",
    "'''\n",
    "\n",
    "# 将诗句信息插入到HTML模板中\n",
    "html_content = html_template.format(title=title, author=author, dynasty=dynasty, content=content, translate=translate)\n",
    "\n",
    "# 将生成的HTML内容保存到文件中\n",
    "with open('poem1.html', 'w', encoding='utf-8') as f:\n",
    "    f.write(html_content)"
   ]
  },
  {
   "cell_type": "code",
   "execution_count": 10,
   "metadata": {},
   "outputs": [
    {
     "name": "stdout",
     "output_type": "stream",
     "text": [
      "{'status': 'success', 'data': {'id': '5b8b9572e116fb3714e6faa8', 'content': '接天莲叶无穷碧，映日荷花别样红。', 'popularity': 3710000, 'origin': {'title': '晓出净慈寺送林子方', 'dynasty': '宋代', 'author': '杨万里', 'content': ['毕竟西湖六月中，风光不与四时同。', '接天莲叶无穷碧，映日荷花别样红。'], 'translate': None}, 'matchTags': ['荷花', '夏'], 'recommendedReason': '', 'cacheAt': '2023-06-15T07:22:12.926030506'}, 'token': 'npSPmqCpedEgaSoUFf1f23HOO/DgmvLX', 'ipAddress': '223.89.237.125', 'warning': None}\n"
     ]
    }
   ],
   "source": [
    "import requests\n",
    "\n",
    "# 发送HTTP GET请求，获取接口返回的数据\n",
    "headers = {\n",
    "    'User-Agent': 'Mozilla/5.0 (Windows NT 10.0; Win64; x64) AppleWebKit/537.36 (KHTML, like Gecko) Chrome/89.0.4389.82 Safari/537.36',\n",
    "    'X-User-Token': \"npSPmqCpedEgaSoUFf1f23HOO/DgmvLX\"\n",
    "}\n",
    "response = requests.get('https://v2.jinrishici.com/sentence', headers=headers)\n",
    "\n",
    "# 从返回的JSON数据中提取诗句信息\n",
    "data = response.json()\n",
    "print(data)\n",
    "\n",
    "origin = data['data']['origin']\n",
    "title = origin.get('title', '')\n",
    "if not title:\n",
    "    title = origin.get('content', '')[:10] + '...'\n",
    "author = origin.get('author', '')\n",
    "dynasty = origin.get('dynasty', '')\n",
    "content = origin.get('content', [])\n",
    "translate = origin.get('translate', [])\n",
    "\n",
    "# 定义HTML模板\n",
    "html_template = '''\n",
    "<!DOCTYPE html>\n",
    "<html>\n",
    "<head>\n",
    "    <meta charset=\"utf-8\">\n",
    "    <title>{title}</title>\n",
    "</head>\n",
    "<body>\n",
    "    <h1>{title}</h1>\n",
    "    <p><strong>{author}</strong> ({dynasty})</p>\n",
    "    <h2>诗句内容：</h2>\n",
    "    {content}\n",
    "    <h2>翻译：</h2>\n",
    "    {translate}\n",
    "</body>\n",
    "</html>\n",
    "'''\n",
    "\n",
    "# 遍历content和translate数组，将每个元素放在一个HTML段落中\n",
    "content_lines = ''\n",
    "if content:\n",
    "    for line in content:\n",
    "        content_lines += f'{line}</br>'\n",
    "\n",
    "translate_lines = ''\n",
    "if translate:\n",
    "    for line in translate:\n",
    "        translate_lines += f'{line}</br>'\n",
    "\n",
    "# 将诗句信息插入到HTML模板中\n",
    "html_content = html_template.format(title=title, author=author, dynasty=dynasty, content=content_lines, translate=translate_lines)\n",
    "\n",
    "# 将生成的HTML内容保存到文件中\n",
    "with open('poem.html', 'w', encoding='utf-8') as f:\n",
    "    f.write(html_content)"
   ]
  },
  {
   "cell_type": "code",
   "execution_count": 2,
   "metadata": {},
   "outputs": [
    {
     "ename": "",
     "evalue": "",
     "output_type": "error",
     "traceback": [
      "\u001b[1;31m在当前单元格或上一个单元格中执行代码时 Kernel 崩溃。请查看单元格中的代码，以确定故障的可能原因。有关详细信息，请单击 <a href='https://aka.ms/vscodeJupyterKernelCrash'>此处</a>。有关更多详细信息，请查看 Jupyter <a href='command:jupyter.viewOutput'>log</a>。"
     ]
    }
   ],
   "source": [
    "from selenium import webdriver\n",
    "from selenium.webdriver.chrome.service import Service\n",
    "from selenium.webdriver.chrome.options import Options\n",
    "from webdriver_manager.chrome import ChromeDriverManager\n",
    "import os\n",
    "# 设置 ChromeDriver 的路径和启动参数\n",
    "s = Service(ChromeDriverManager().install())\n",
    "chrome_options = Options()\n",
    "chrome_options.add_argument(\"--headless\")\n",
    "chrome_options.add_argument(\"--disable-extensions\")\n",
    "chrome_options.add_argument(\"--disable-gpu\")\n",
    "chrome_options.add_argument(\"--no-sandbox\")\n",
    "chrome_options.add_argument(\"--disable-dev-shm-usage\")\n",
    "chrome_options.add_argument(\"--user-agent=Mozilla/5.0 (Linux; Android 11; Pixel 4 XL) AppleWebKit/537.36 (KHTML, like Gecko) Chrome/89.0.4389.82 Mobile Safari/537.36\")\n",
    "\n",
    "# 创建 Chrome 浏览器对象\n",
    "driver = webdriver.Chrome(service=s, options=chrome_options)\n",
    "\n",
    "\n",
    "# 设置网页的大小为 360 x 640\n",
    "driver.set_window_size(720, 1280*1.079)\n",
    "\n",
    "# 创建一个 HTML 文件\n",
    "# with open('index.html', 'w') as f:\n",
    "#     f.write('<html><head><title>Example</title></head><body><h1>Hello, World!</h1></body></html>')\n",
    "\n",
    "# 打开生成的 HTML 文件\n",
    "driver.get('http://127.0.0.1/8.html')\n",
    "\n",
    "# 等待页面加载完成\n",
    "driver.implicitly_wait(10)\n",
    "\n",
    "# 截取整个网页的截图并保存\n",
    "driver.save_screenshot('screenshot.png')\n",
    "\n",
    "# 关闭浏览器\n",
    "driver.quit()"
   ]
  },
  {
   "cell_type": "code",
   "execution_count": null,
   "metadata": {},
   "outputs": [],
   "source": [
    "from bs4 import BeautifulSoup\n",
    "\n",
    "# 读取HTML文件内容\n",
    "with open('9.html', 'r') as f:\n",
    "    html_doc = f.read()\n",
    "\n",
    "# 创建BeautifulSoup对象\n",
    "soup = BeautifulSoup(html_doc, 'html.parser')\n",
    "\n",
    "# 找到ID为111的div元素，并将其内容设置为新的文本\n",
    "div = soup.find(id='analysis')\n",
    "div.string = '新的内容新的内容新的内容新的内容新的内容新的内容新的内容新的内容新的内容新的内容新的内容新的内容新的内容新的内容'\n",
    "\n",
    "# 找到head标签，并在其内部添加一个新的meta标签\n",
    "head = soup.find('head')\n",
    "new_meta = soup.new_tag('meta', charset='UTF-8')\n",
    "head.append(new_meta)\n",
    "\n",
    "# 将修改后的HTML内容保存到原文件中\n",
    "with open('10.html', 'w') as f:\n",
    "    f.write(str(soup))"
   ]
  },
  {
   "cell_type": "code",
   "execution_count": 1,
   "metadata": {},
   "outputs": [
    {
     "name": "stdout",
     "output_type": "stream",
     "text": [
      "a\n"
     ]
    }
   ],
   "source": [
    "print('a')"
   ]
  }
 ],
 "metadata": {
  "kernelspec": {
   "display_name": "base",
   "language": "python",
   "name": "python3"
  },
  "language_info": {
   "codemirror_mode": {
    "name": "ipython",
    "version": 3
   },
   "file_extension": ".py",
   "mimetype": "text/x-python",
   "name": "python",
   "nbconvert_exporter": "python",
   "pygments_lexer": "ipython3",
   "version": "3.9.13"
  },
  "orig_nbformat": 4
 },
 "nbformat": 4,
 "nbformat_minor": 2
}
