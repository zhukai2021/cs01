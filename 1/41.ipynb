{
 "cells": [
  {
   "cell_type": "code",
   "execution_count": 2,
   "metadata": {},
   "outputs": [
    {
     "name": "stdout",
     "output_type": "stream",
     "text": [
      "转换完成！\n"
     ]
    }
   ],
   "source": [
    "\n",
    "\n",
    "import subprocess\n",
    "\n",
    "\n",
    "input_video_path = \"D:cs01/cs01/cj2/x2/A1-1.mp4\"\n",
    "output_video_path = \"D:1/output_926.mp4\"\n",
    "background_image_path = \"D:1/9242.png\"\n",
    "\n",
    "# 设置目标宽度和高度\n",
    "target_width = 1080\n",
    "target_height = 1920\n",
    "\n",
    "# 构建FFmpeg命令\n",
    "ffmpeg_cmd = f'ffmpeg -i {input_video_path} -i {background_image_path} -filter_complex \"[0:v]scale={target_width}:{target_height}:force_original_aspect_ratio=decrease,pad={target_width}:{target_height}:(ow-iw)/2:(oh-ih)/2 [v0]; [v0][1:v]overlay=(main_w-overlay_w)/2:(main_h-overlay_h)/2\" -c:a copy {output_video_path}'\n",
    "\n",
    "# 执行FFmpeg命令\n",
    "subprocess.call(ffmpeg_cmd, shell=True)\n",
    "\n",
    "print(\"转换完成！\")"
   ]
  },
  {
   "cell_type": "code",
   "execution_count": null,
   "metadata": {},
   "outputs": [],
   "source": []
  },
  {
   "cell_type": "code",
   "execution_count": 3,
   "metadata": {},
   "outputs": [
    {
     "name": "stdout",
     "output_type": "stream",
     "text": [
      "转换完成！\n"
     ]
    }
   ],
   "source": [
    "\n",
    "import subprocess\n",
    "\n",
    "\n",
    "input_video_path = \"D:/1/1.mp4\"\n",
    "output_video_path = \"D:/1/output_1.mp4\"\n",
    "background_image_path = \"D:/1/a1.png\"\n",
    "\n",
    "# 设置目标宽度和高度\n",
    "target_width = 1080\n",
    "target_height = 1920\n",
    "\n",
    "# 构建FFmpeg命令\n",
    "ffmpeg_cmd = f'ffmpeg -i {input_video_path} -i {background_image_path} -filter_complex \"[0:v]scale={target_width}:{target_height}:force_original_aspect_ratio=decrease,pad={target_width}:{target_height}:(ow-iw)/2:(oh-ih)/2 [v0]; [v0][1:v]overlay=(main_w-overlay_w)/2:(main_h-overlay_h)/2\" -c:a copy {output_video_path}'\n",
    "\n",
    "# 执行FFmpeg命令\n",
    "subprocess.call(ffmpeg_cmd, shell=True)\n",
    "\n",
    "print(\"转换完成！\")"
   ]
  },
  {
   "cell_type": "code",
   "execution_count": 1,
   "metadata": {},
   "outputs": [
    {
     "ename": "WebDriverException",
     "evalue": "Message: unknown error: cannot connect to chrome at 127.0.0.1:9527\nfrom chrome not reachable\nStacktrace:\n\tGetHandleVerifier [0x00007FF6854F7892+54818]\n\t(No symbol) [0x00007FF685466AC2]\n\t(No symbol) [0x00007FF68531D8ED]\n\t(No symbol) [0x00007FF68530F4F0]\n\t(No symbol) [0x00007FF68534FCC4]\n\t(No symbol) [0x00007FF685348A81]\n\t(No symbol) [0x00007FF6853867FB]\n\t(No symbol) [0x00007FF68537E883]\n\t(No symbol) [0x00007FF685353691]\n\t(No symbol) [0x00007FF6853548D4]\n\tGetHandleVerifier [0x00007FF68585B992+3610402]\n\tGetHandleVerifier [0x00007FF6858B1860+3962352]\n\tGetHandleVerifier [0x00007FF6858A9D4F+3930847]\n\tGetHandleVerifier [0x00007FF685593646+693206]\n\t(No symbol) [0x00007FF685471628]\n\t(No symbol) [0x00007FF68546D934]\n\t(No symbol) [0x00007FF68546DA62]\n\t(No symbol) [0x00007FF68545E113]\n\tBaseThreadInitThunk [0x00007FFE5F8F257D+29]\n\tRtlUserThreadStart [0x00007FFE602EAA78+40]\n",
     "output_type": "error",
     "traceback": [
      "\u001b[1;31m---------------------------------------------------------------------------\u001b[0m",
      "\u001b[1;31mWebDriverException\u001b[0m                        Traceback (most recent call last)",
      "\u001b[1;32md:\\onedriver1t\\OneDrive - 356h31\\桌面\\cs01\\1\\41.ipynb 单元格 4\u001b[0m line \u001b[0;36m2\n\u001b[0;32m     <a href='vscode-notebook-cell:/d%3A/onedriver1t/OneDrive%20-%20356h31/%E6%A1%8C%E9%9D%A2/cs01/1/41.ipynb#W3sZmlsZQ%3D%3D?line=16'>17</a>\u001b[0m \u001b[39m# options.add_argument('--headless')# 无界面\u001b[39;00m\n\u001b[0;32m     <a href='vscode-notebook-cell:/d%3A/onedriver1t/OneDrive%20-%20356h31/%E6%A1%8C%E9%9D%A2/cs01/1/41.ipynb#W3sZmlsZQ%3D%3D?line=17'>18</a>\u001b[0m \u001b[39m# options.add_argument('--disable-gpu')#禁用GPU\u001b[39;00m\n\u001b[0;32m     <a href='vscode-notebook-cell:/d%3A/onedriver1t/OneDrive%20-%20356h31/%E6%A1%8C%E9%9D%A2/cs01/1/41.ipynb#W3sZmlsZQ%3D%3D?line=18'>19</a>\u001b[0m \u001b[39m# options.add_experimental_option('excludeSwitches', ['enable-automation'])# 设置为开发者模式\u001b[39;00m\n\u001b[0;32m     <a href='vscode-notebook-cell:/d%3A/onedriver1t/OneDrive%20-%20356h31/%E6%A1%8C%E9%9D%A2/cs01/1/41.ipynb#W3sZmlsZQ%3D%3D?line=19'>20</a>\u001b[0m \u001b[39m# options.add_argument(\"--disable-blink-features=AutomationControlled\")#防止检测\u001b[39;00m\n\u001b[0;32m     <a href='vscode-notebook-cell:/d%3A/onedriver1t/OneDrive%20-%20356h31/%E6%A1%8C%E9%9D%A2/cs01/1/41.ipynb#W3sZmlsZQ%3D%3D?line=20'>21</a>\u001b[0m options\u001b[39m.\u001b[39madd_experimental_option(\u001b[39m\"\u001b[39m\u001b[39mdebuggerAddress\u001b[39m\u001b[39m\"\u001b[39m, \u001b[39m\"\u001b[39m\u001b[39m127.0.0.1:9527\u001b[39m\u001b[39m\"\u001b[39m)\n\u001b[1;32m---> <a href='vscode-notebook-cell:/d%3A/onedriver1t/OneDrive%20-%20356h31/%E6%A1%8C%E9%9D%A2/cs01/1/41.ipynb#W3sZmlsZQ%3D%3D?line=21'>22</a>\u001b[0m web \u001b[39m=\u001b[39m webdriver\u001b[39m.\u001b[39;49mChrome(options\u001b[39m=\u001b[39;49moptions)\n\u001b[0;32m     <a href='vscode-notebook-cell:/d%3A/onedriver1t/OneDrive%20-%20356h31/%E6%A1%8C%E9%9D%A2/cs01/1/41.ipynb#W3sZmlsZQ%3D%3D?line=22'>23</a>\u001b[0m headers \u001b[39m=\u001b[39m {\n\u001b[0;32m     <a href='vscode-notebook-cell:/d%3A/onedriver1t/OneDrive%20-%20356h31/%E6%A1%8C%E9%9D%A2/cs01/1/41.ipynb#W3sZmlsZQ%3D%3D?line=23'>24</a>\u001b[0m     \u001b[39m'\u001b[39m\u001b[39mUser-Agent\u001b[39m\u001b[39m'\u001b[39m: \u001b[39m\"\u001b[39m\u001b[39mMozilla/5.0 (Linux; Android 6.0; Nexus 5 Build/MRA58N) AppleWebKit/537.36 (KHTML, like Gecko) Chrome/98.0.4758.80 Mobile Safari/537.36 Edg/98.0.1108.43\u001b[39m\u001b[39m\"\u001b[39m\n\u001b[0;32m     <a href='vscode-notebook-cell:/d%3A/onedriver1t/OneDrive%20-%20356h31/%E6%A1%8C%E9%9D%A2/cs01/1/41.ipynb#W3sZmlsZQ%3D%3D?line=24'>25</a>\u001b[0m }\n\u001b[0;32m     <a href='vscode-notebook-cell:/d%3A/onedriver1t/OneDrive%20-%20356h31/%E6%A1%8C%E9%9D%A2/cs01/1/41.ipynb#W3sZmlsZQ%3D%3D?line=27'>28</a>\u001b[0m \u001b[39m# 点击图片上传按钮\u001b[39;00m\n",
      "File \u001b[1;32mc:\\Users\\guang\\anaconda3\\lib\\site-packages\\selenium\\webdriver\\chrome\\webdriver.py:84\u001b[0m, in \u001b[0;36mWebDriver.__init__\u001b[1;34m(self, executable_path, port, options, service_args, desired_capabilities, service_log_path, chrome_options, service, keep_alive)\u001b[0m\n\u001b[0;32m     81\u001b[0m     service \u001b[39m=\u001b[39m Service(executable_path, port, service_args, service_log_path)\n\u001b[0;32m     82\u001b[0m service\u001b[39m.\u001b[39mpath \u001b[39m=\u001b[39m DriverFinder\u001b[39m.\u001b[39mget_path(service, options)\n\u001b[1;32m---> 84\u001b[0m \u001b[39msuper\u001b[39;49m()\u001b[39m.\u001b[39;49m\u001b[39m__init__\u001b[39;49m(\n\u001b[0;32m     85\u001b[0m     DesiredCapabilities\u001b[39m.\u001b[39;49mCHROME[\u001b[39m\"\u001b[39;49m\u001b[39mbrowserName\u001b[39;49m\u001b[39m\"\u001b[39;49m],\n\u001b[0;32m     86\u001b[0m     \u001b[39m\"\u001b[39;49m\u001b[39mgoog\u001b[39;49m\u001b[39m\"\u001b[39;49m,\n\u001b[0;32m     87\u001b[0m     port,\n\u001b[0;32m     88\u001b[0m     options,\n\u001b[0;32m     89\u001b[0m     service_args,\n\u001b[0;32m     90\u001b[0m     desired_capabilities,\n\u001b[0;32m     91\u001b[0m     service_log_path,\n\u001b[0;32m     92\u001b[0m     service,\n\u001b[0;32m     93\u001b[0m     keep_alive,\n\u001b[0;32m     94\u001b[0m )\n",
      "File \u001b[1;32mc:\\Users\\guang\\anaconda3\\lib\\site-packages\\selenium\\webdriver\\chromium\\webdriver.py:104\u001b[0m, in \u001b[0;36mChromiumDriver.__init__\u001b[1;34m(self, browser_name, vendor_prefix, port, options, service_args, desired_capabilities, service_log_path, service, keep_alive)\u001b[0m\n\u001b[0;32m    101\u001b[0m \u001b[39mself\u001b[39m\u001b[39m.\u001b[39mservice\u001b[39m.\u001b[39mstart()\n\u001b[0;32m    103\u001b[0m \u001b[39mtry\u001b[39;00m:\n\u001b[1;32m--> 104\u001b[0m     \u001b[39msuper\u001b[39;49m()\u001b[39m.\u001b[39;49m\u001b[39m__init__\u001b[39;49m(\n\u001b[0;32m    105\u001b[0m         command_executor\u001b[39m=\u001b[39;49mChromiumRemoteConnection(\n\u001b[0;32m    106\u001b[0m             remote_server_addr\u001b[39m=\u001b[39;49m\u001b[39mself\u001b[39;49m\u001b[39m.\u001b[39;49mservice\u001b[39m.\u001b[39;49mservice_url,\n\u001b[0;32m    107\u001b[0m             browser_name\u001b[39m=\u001b[39;49mbrowser_name,\n\u001b[0;32m    108\u001b[0m             vendor_prefix\u001b[39m=\u001b[39;49mvendor_prefix,\n\u001b[0;32m    109\u001b[0m             keep_alive\u001b[39m=\u001b[39;49mkeep_alive,\n\u001b[0;32m    110\u001b[0m             ignore_proxy\u001b[39m=\u001b[39;49m_ignore_proxy,\n\u001b[0;32m    111\u001b[0m         ),\n\u001b[0;32m    112\u001b[0m         options\u001b[39m=\u001b[39;49moptions,\n\u001b[0;32m    113\u001b[0m     )\n\u001b[0;32m    114\u001b[0m \u001b[39mexcept\u001b[39;00m \u001b[39mException\u001b[39;00m:\n\u001b[0;32m    115\u001b[0m     \u001b[39mself\u001b[39m\u001b[39m.\u001b[39mquit()\n",
      "File \u001b[1;32mc:\\Users\\guang\\anaconda3\\lib\\site-packages\\selenium\\webdriver\\remote\\webdriver.py:286\u001b[0m, in \u001b[0;36mWebDriver.__init__\u001b[1;34m(self, command_executor, desired_capabilities, browser_profile, proxy, keep_alive, file_detector, options)\u001b[0m\n\u001b[0;32m    284\u001b[0m \u001b[39mself\u001b[39m\u001b[39m.\u001b[39m_authenticator_id \u001b[39m=\u001b[39m \u001b[39mNone\u001b[39;00m\n\u001b[0;32m    285\u001b[0m \u001b[39mself\u001b[39m\u001b[39m.\u001b[39mstart_client()\n\u001b[1;32m--> 286\u001b[0m \u001b[39mself\u001b[39;49m\u001b[39m.\u001b[39;49mstart_session(capabilities, browser_profile)\n",
      "File \u001b[1;32mc:\\Users\\guang\\anaconda3\\lib\\site-packages\\selenium\\webdriver\\remote\\webdriver.py:378\u001b[0m, in \u001b[0;36mWebDriver.start_session\u001b[1;34m(self, capabilities, browser_profile)\u001b[0m\n\u001b[0;32m    376\u001b[0m w3c_caps \u001b[39m=\u001b[39m _make_w3c_caps(capabilities)\n\u001b[0;32m    377\u001b[0m parameters \u001b[39m=\u001b[39m {\u001b[39m\"\u001b[39m\u001b[39mcapabilities\u001b[39m\u001b[39m\"\u001b[39m: w3c_caps}\n\u001b[1;32m--> 378\u001b[0m response \u001b[39m=\u001b[39m \u001b[39mself\u001b[39;49m\u001b[39m.\u001b[39;49mexecute(Command\u001b[39m.\u001b[39;49mNEW_SESSION, parameters)\n\u001b[0;32m    379\u001b[0m \u001b[39mif\u001b[39;00m \u001b[39m\"\u001b[39m\u001b[39msessionId\u001b[39m\u001b[39m\"\u001b[39m \u001b[39mnot\u001b[39;00m \u001b[39min\u001b[39;00m response:\n\u001b[0;32m    380\u001b[0m     response \u001b[39m=\u001b[39m response[\u001b[39m\"\u001b[39m\u001b[39mvalue\u001b[39m\u001b[39m\"\u001b[39m]\n",
      "File \u001b[1;32mc:\\Users\\guang\\anaconda3\\lib\\site-packages\\selenium\\webdriver\\remote\\webdriver.py:440\u001b[0m, in \u001b[0;36mWebDriver.execute\u001b[1;34m(self, driver_command, params)\u001b[0m\n\u001b[0;32m    438\u001b[0m response \u001b[39m=\u001b[39m \u001b[39mself\u001b[39m\u001b[39m.\u001b[39mcommand_executor\u001b[39m.\u001b[39mexecute(driver_command, params)\n\u001b[0;32m    439\u001b[0m \u001b[39mif\u001b[39;00m response:\n\u001b[1;32m--> 440\u001b[0m     \u001b[39mself\u001b[39;49m\u001b[39m.\u001b[39;49merror_handler\u001b[39m.\u001b[39;49mcheck_response(response)\n\u001b[0;32m    441\u001b[0m     response[\u001b[39m\"\u001b[39m\u001b[39mvalue\u001b[39m\u001b[39m\"\u001b[39m] \u001b[39m=\u001b[39m \u001b[39mself\u001b[39m\u001b[39m.\u001b[39m_unwrap_value(response\u001b[39m.\u001b[39mget(\u001b[39m\"\u001b[39m\u001b[39mvalue\u001b[39m\u001b[39m\"\u001b[39m, \u001b[39mNone\u001b[39;00m))\n\u001b[0;32m    442\u001b[0m     \u001b[39mreturn\u001b[39;00m response\n",
      "File \u001b[1;32mc:\\Users\\guang\\anaconda3\\lib\\site-packages\\selenium\\webdriver\\remote\\errorhandler.py:245\u001b[0m, in \u001b[0;36mErrorHandler.check_response\u001b[1;34m(self, response)\u001b[0m\n\u001b[0;32m    243\u001b[0m         alert_text \u001b[39m=\u001b[39m value[\u001b[39m\"\u001b[39m\u001b[39malert\u001b[39m\u001b[39m\"\u001b[39m]\u001b[39m.\u001b[39mget(\u001b[39m\"\u001b[39m\u001b[39mtext\u001b[39m\u001b[39m\"\u001b[39m)\n\u001b[0;32m    244\u001b[0m     \u001b[39mraise\u001b[39;00m exception_class(message, screen, stacktrace, alert_text)  \u001b[39m# type: ignore[call-arg]  # mypy is not smart enough here\u001b[39;00m\n\u001b[1;32m--> 245\u001b[0m \u001b[39mraise\u001b[39;00m exception_class(message, screen, stacktrace)\n",
      "\u001b[1;31mWebDriverException\u001b[0m: Message: unknown error: cannot connect to chrome at 127.0.0.1:9527\nfrom chrome not reachable\nStacktrace:\n\tGetHandleVerifier [0x00007FF6854F7892+54818]\n\t(No symbol) [0x00007FF685466AC2]\n\t(No symbol) [0x00007FF68531D8ED]\n\t(No symbol) [0x00007FF68530F4F0]\n\t(No symbol) [0x00007FF68534FCC4]\n\t(No symbol) [0x00007FF685348A81]\n\t(No symbol) [0x00007FF6853867FB]\n\t(No symbol) [0x00007FF68537E883]\n\t(No symbol) [0x00007FF685353691]\n\t(No symbol) [0x00007FF6853548D4]\n\tGetHandleVerifier [0x00007FF68585B992+3610402]\n\tGetHandleVerifier [0x00007FF6858B1860+3962352]\n\tGetHandleVerifier [0x00007FF6858A9D4F+3930847]\n\tGetHandleVerifier [0x00007FF685593646+693206]\n\t(No symbol) [0x00007FF685471628]\n\t(No symbol) [0x00007FF68546D934]\n\t(No symbol) [0x00007FF68546DA62]\n\t(No symbol) [0x00007FF68545E113]\n\tBaseThreadInitThunk [0x00007FFE5F8F257D+29]\n\tRtlUserThreadStart [0x00007FFE602EAA78+40]\n"
     ]
    }
   ],
   "source": [
    "from selenium.webdriver import Chrome\n",
    "from lxml import etree\n",
    "import time\n",
    "import json\n",
    "from selenium.webdriver.common.by import By\n",
    "from selenium import webdriver\n",
    "import re\n",
    "from bs4 import BeautifulSoup\n",
    "import csv\n",
    "from selenium.webdriver.common.keys import Keys\n",
    "import requests\n",
    "import json\n",
    "import csv\n",
    "from urllib import parse\n",
    "\n",
    "options = webdriver.ChromeOptions()\n",
    "# options.add_argument('--headless')# 无界面\n",
    "# options.add_argument('--disable-gpu')#禁用GPU\n",
    "# options.add_experimental_option('excludeSwitches', ['enable-automation'])# 设置为开发者模式\n",
    "# options.add_argument(\"--disable-blink-features=AutomationControlled\")#防止检测\n",
    "options.add_experimental_option(\"debuggerAddress\", \"127.0.0.1:9527\")\n",
    "web = webdriver.Chrome(options=options)\n",
    "headers = {\n",
    "    'User-Agent': \"Mozilla/5.0 (Linux; Android 6.0; Nexus 5 Build/MRA58N) AppleWebKit/537.36 (KHTML, like Gecko) Chrome/98.0.4758.80 Mobile Safari/537.36 Edg/98.0.1108.43\"\n",
    "}\n",
    "\n",
    "\n",
    "# 点击图片上传按钮\n",
    "web.find_element(By.CLASS_NAME, 'soutu-btn').click()\n",
    "time.sleep(5)\n",
    "# 找到上传图片元素\n",
    "upload_pic_input = web.find_element(By.CLASS_NAME, 'upload-pic')\n",
    "# 直接上传\n",
    "upload_pic_input.send_keys(r'D:/1/9242.png')\n",
    "\n",
    "time.sleep(5)"
   ]
  },
  {
   "cell_type": "code",
   "execution_count": 5,
   "metadata": {},
   "outputs": [
    {
     "name": "stdout",
     "output_type": "stream",
     "text": [
      "Moviepy - Building video D:/1/output_3.mp4.\n",
      "Moviepy - Writing video D:/1/output_3.mp4\n",
      "\n"
     ]
    },
    {
     "name": "stderr",
     "output_type": "stream",
     "text": [
      "                                                                 "
     ]
    },
    {
     "name": "stdout",
     "output_type": "stream",
     "text": [
      "Moviepy - Done !\n",
      "Moviepy - video ready D:/1/output_3.mp4\n"
     ]
    },
    {
     "name": "stderr",
     "output_type": "stream",
     "text": [
      "\r"
     ]
    },
    {
     "ename": "",
     "evalue": "",
     "output_type": "error",
     "traceback": [
      "\u001b[1;31m在当前单元格或上一个单元格中执行代码时 Kernel 崩溃。请查看单元格中的代码，以确定故障的可能原因。有关详细信息，请单击 <a href='https://aka.ms/vscodeJupyterKernelCrash'>此处</a>。有关更多详细信息，请查看 Jupyter <a href='command:jupyter.viewOutput'>log</a>。"
     ]
    }
   ],
   "source": [
    "input_file= \"D:/1/1.mp4\"\n",
    "output_file = \"D:/1/output_3.mp4\"\n",
    "x= 0\n",
    "y= 0\n",
    "width= 160\n",
    "height= 480\n",
    "from moviepy.editor import VideoFileClip\n",
    "\n",
    "def crop_video(input_file, output_file, x, y, width, height):\n",
    "    # 打开视频文件\n",
    "    video = VideoFileClip(input_file)\n",
    "\n",
    "    # 裁剪视频的指定区域\n",
    "    cropped_video = video.crop(x1=x, y1=y, x2=x+width, y2=y+height)\n",
    "\n",
    "    # 保存裁剪后的视频\n",
    "    cropped_video.write_videofile(output_file)\n",
    "\n",
    "# 调用函数进行视频裁剪\n",
    "crop_video(input_file, output_file, 100, 100, 400, 300)"
   ]
  },
  {
   "cell_type": "code",
   "execution_count": 4,
   "metadata": {},
   "outputs": [
    {
     "name": "stdout",
     "output_type": "stream",
     "text": [
      "微博热搜榜单：\n"
     ]
    },
    {
     "ename": "",
     "evalue": "",
     "output_type": "error",
     "traceback": [
      "\u001b[1;31m在当前单元格或上一个单元格中执行代码时 Kernel 崩溃。请查看单元格中的代码，以确定故障的可能原因。有关详细信息，请单击 <a href='https://aka.ms/vscodeJupyterKernelCrash'>此处</a>。有关更多详细信息，请查看 Jupyter <a href='command:jupyter.viewOutput'>log</a>。"
     ]
    }
   ],
   "source": [
    "import requests\n",
    "from bs4 import BeautifulSoup\n",
    "\n",
    "# 发送GET请求获取微博热搜页面\n",
    "response = requests.get('https://s.weibo.com/top/summary?cate=realtimehot')\n",
    "soup = BeautifulSoup(response.text, 'html.parser')\n",
    "\n",
    "# 解析页面获取热搜榜单列表\n",
    "hot_topics = soup.find_all('td', class_='td-02')\n",
    "\n",
    "# 输出热搜榜单\n",
    "print(\"微博热搜榜单：\")\n",
    "for topic in hot_topics:\n",
    "    rank = topic.find('span', class_='ic-rank').text.strip()\n",
    "    title = topic.find('a').text.strip()\n",
    "    print(f\"{rank}: {title}\")"
   ]
  }
 ],
 "metadata": {
  "kernelspec": {
   "display_name": "Python 3",
   "language": "python",
   "name": "python3"
  },
  "language_info": {
   "codemirror_mode": {
    "name": "ipython",
    "version": 3
   },
   "file_extension": ".py",
   "mimetype": "text/x-python",
   "name": "python",
   "nbconvert_exporter": "python",
   "pygments_lexer": "ipython3",
   "version": "3.9.13"
  },
  "orig_nbformat": 4
 },
 "nbformat": 4,
 "nbformat_minor": 2
}
