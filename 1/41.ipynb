{
 "cells": [
  {
   "cell_type": "code",
   "execution_count": null,
   "metadata": {},
   "outputs": [],
   "source": []
  },
  {
   "cell_type": "code",
   "execution_count": 5,
   "metadata": {},
   "outputs": [
    {
     "name": "stderr",
     "output_type": "stream",
     "text": [
      "Exception managing chrome: error sending request for url (https://googlechromelabs.github.io/chrome-for-testing/known-good-versions-with-downloads.json): error trying to connect: 远程主机强迫关闭了一个现有的连接。 (os error 10054)\n"
     ]
    },
    {
     "ename": "NoSuchElementException",
     "evalue": "Message: no such element: Unable to locate element: {\"method\":\"css selector\",\"selector\":\".soutu-btn\"}\n  (Session info: chrome=117.0.5938.92); For documentation on this error, please visit: https://www.selenium.dev/documentation/webdriver/troubleshooting/errors#no-such-element-exception\nStacktrace:\n\tGetHandleVerifier [0x00007FF6F3E27892+54818]\n\t(No symbol) [0x00007FF6F3D96AC2]\n\t(No symbol) [0x00007FF6F3C4DA3B]\n\t(No symbol) [0x00007FF6F3C8E4FC]\n\t(No symbol) [0x00007FF6F3C8E67C]\n\t(No symbol) [0x00007FF6F3CC9627]\n\t(No symbol) [0x00007FF6F3CAEAEF]\n\t(No symbol) [0x00007FF6F3CC75A2]\n\t(No symbol) [0x00007FF6F3CAE883]\n\t(No symbol) [0x00007FF6F3C83691]\n\t(No symbol) [0x00007FF6F3C848D4]\n\tGetHandleVerifier [0x00007FF6F418B992+3610402]\n\tGetHandleVerifier [0x00007FF6F41E1860+3962352]\n\tGetHandleVerifier [0x00007FF6F41D9D4F+3930847]\n\tGetHandleVerifier [0x00007FF6F3EC3646+693206]\n\t(No symbol) [0x00007FF6F3DA1628]\n\t(No symbol) [0x00007FF6F3D9D934]\n\t(No symbol) [0x00007FF6F3D9DA62]\n\t(No symbol) [0x00007FF6F3D8E113]\n\tBaseThreadInitThunk [0x00007FF82EEE7344+20]\n\tRtlUserThreadStart [0x00007FF82F3A26B1+33]\n",
     "output_type": "error",
     "traceback": [
      "\u001b[1;31m---------------------------------------------------------------------------\u001b[0m",
      "\u001b[1;31mNoSuchElementException\u001b[0m                    Traceback (most recent call last)",
      "\u001b[1;32md:\\cs01\\1\\41.ipynb 单元格 4\u001b[0m line \u001b[0;36m2\n\u001b[0;32m     <a href='vscode-notebook-cell:/d%3A/cs01/1/41.ipynb#W3sZmlsZQ%3D%3D?line=22'>23</a>\u001b[0m headers \u001b[39m=\u001b[39m {\n\u001b[0;32m     <a href='vscode-notebook-cell:/d%3A/cs01/1/41.ipynb#W3sZmlsZQ%3D%3D?line=23'>24</a>\u001b[0m     \u001b[39m'\u001b[39m\u001b[39mUser-Agent\u001b[39m\u001b[39m'\u001b[39m: \u001b[39m\"\u001b[39m\u001b[39mMozilla/5.0 (Linux; Android 6.0; Nexus 5 Build/MRA58N) AppleWebKit/537.36 (KHTML, like Gecko) Chrome/98.0.4758.80 Mobile Safari/537.36 Edg/98.0.1108.43\u001b[39m\u001b[39m\"\u001b[39m\n\u001b[0;32m     <a href='vscode-notebook-cell:/d%3A/cs01/1/41.ipynb#W3sZmlsZQ%3D%3D?line=24'>25</a>\u001b[0m }\n\u001b[0;32m     <a href='vscode-notebook-cell:/d%3A/cs01/1/41.ipynb#W3sZmlsZQ%3D%3D?line=27'>28</a>\u001b[0m \u001b[39m# 点击图片上传按钮\u001b[39;00m\n\u001b[1;32m---> <a href='vscode-notebook-cell:/d%3A/cs01/1/41.ipynb#W3sZmlsZQ%3D%3D?line=28'>29</a>\u001b[0m web\u001b[39m.\u001b[39;49mfind_element(By\u001b[39m.\u001b[39;49mCLASS_NAME, \u001b[39m'\u001b[39;49m\u001b[39msoutu-btn\u001b[39;49m\u001b[39m'\u001b[39;49m)\u001b[39m.\u001b[39mclick()\n\u001b[0;32m     <a href='vscode-notebook-cell:/d%3A/cs01/1/41.ipynb#W3sZmlsZQ%3D%3D?line=29'>30</a>\u001b[0m time\u001b[39m.\u001b[39msleep(\u001b[39m5\u001b[39m)\n\u001b[0;32m     <a href='vscode-notebook-cell:/d%3A/cs01/1/41.ipynb#W3sZmlsZQ%3D%3D?line=30'>31</a>\u001b[0m \u001b[39m# 找到上传图片元素\u001b[39;00m\n",
      "File \u001b[1;32m~\\AppData\\Local\\Packages\\PythonSoftwareFoundation.Python.3.11_qbz5n2kfra8p0\\LocalCache\\local-packages\\Python311\\site-packages\\selenium\\webdriver\\remote\\webdriver.py:738\u001b[0m, in \u001b[0;36mWebDriver.find_element\u001b[1;34m(self, by, value)\u001b[0m\n\u001b[0;32m    735\u001b[0m     by \u001b[39m=\u001b[39m By\u001b[39m.\u001b[39mCSS_SELECTOR\n\u001b[0;32m    736\u001b[0m     value \u001b[39m=\u001b[39m \u001b[39mf\u001b[39m\u001b[39m'\u001b[39m\u001b[39m[name=\u001b[39m\u001b[39m\"\u001b[39m\u001b[39m{\u001b[39;00mvalue\u001b[39m}\u001b[39;00m\u001b[39m\"\u001b[39m\u001b[39m]\u001b[39m\u001b[39m'\u001b[39m\n\u001b[1;32m--> 738\u001b[0m \u001b[39mreturn\u001b[39;00m \u001b[39mself\u001b[39;49m\u001b[39m.\u001b[39;49mexecute(Command\u001b[39m.\u001b[39;49mFIND_ELEMENT, {\u001b[39m\"\u001b[39;49m\u001b[39musing\u001b[39;49m\u001b[39m\"\u001b[39;49m: by, \u001b[39m\"\u001b[39;49m\u001b[39mvalue\u001b[39;49m\u001b[39m\"\u001b[39;49m: value})[\u001b[39m\"\u001b[39m\u001b[39mvalue\u001b[39m\u001b[39m\"\u001b[39m]\n",
      "File \u001b[1;32m~\\AppData\\Local\\Packages\\PythonSoftwareFoundation.Python.3.11_qbz5n2kfra8p0\\LocalCache\\local-packages\\Python311\\site-packages\\selenium\\webdriver\\remote\\webdriver.py:344\u001b[0m, in \u001b[0;36mWebDriver.execute\u001b[1;34m(self, driver_command, params)\u001b[0m\n\u001b[0;32m    342\u001b[0m response \u001b[39m=\u001b[39m \u001b[39mself\u001b[39m\u001b[39m.\u001b[39mcommand_executor\u001b[39m.\u001b[39mexecute(driver_command, params)\n\u001b[0;32m    343\u001b[0m \u001b[39mif\u001b[39;00m response:\n\u001b[1;32m--> 344\u001b[0m     \u001b[39mself\u001b[39;49m\u001b[39m.\u001b[39;49merror_handler\u001b[39m.\u001b[39;49mcheck_response(response)\n\u001b[0;32m    345\u001b[0m     response[\u001b[39m\"\u001b[39m\u001b[39mvalue\u001b[39m\u001b[39m\"\u001b[39m] \u001b[39m=\u001b[39m \u001b[39mself\u001b[39m\u001b[39m.\u001b[39m_unwrap_value(response\u001b[39m.\u001b[39mget(\u001b[39m\"\u001b[39m\u001b[39mvalue\u001b[39m\u001b[39m\"\u001b[39m, \u001b[39mNone\u001b[39;00m))\n\u001b[0;32m    346\u001b[0m     \u001b[39mreturn\u001b[39;00m response\n",
      "File \u001b[1;32m~\\AppData\\Local\\Packages\\PythonSoftwareFoundation.Python.3.11_qbz5n2kfra8p0\\LocalCache\\local-packages\\Python311\\site-packages\\selenium\\webdriver\\remote\\errorhandler.py:229\u001b[0m, in \u001b[0;36mErrorHandler.check_response\u001b[1;34m(self, response)\u001b[0m\n\u001b[0;32m    227\u001b[0m         alert_text \u001b[39m=\u001b[39m value[\u001b[39m\"\u001b[39m\u001b[39malert\u001b[39m\u001b[39m\"\u001b[39m]\u001b[39m.\u001b[39mget(\u001b[39m\"\u001b[39m\u001b[39mtext\u001b[39m\u001b[39m\"\u001b[39m)\n\u001b[0;32m    228\u001b[0m     \u001b[39mraise\u001b[39;00m exception_class(message, screen, stacktrace, alert_text)  \u001b[39m# type: ignore[call-arg]  # mypy is not smart enough here\u001b[39;00m\n\u001b[1;32m--> 229\u001b[0m \u001b[39mraise\u001b[39;00m exception_class(message, screen, stacktrace)\n",
      "\u001b[1;31mNoSuchElementException\u001b[0m: Message: no such element: Unable to locate element: {\"method\":\"css selector\",\"selector\":\".soutu-btn\"}\n  (Session info: chrome=117.0.5938.92); For documentation on this error, please visit: https://www.selenium.dev/documentation/webdriver/troubleshooting/errors#no-such-element-exception\nStacktrace:\n\tGetHandleVerifier [0x00007FF6F3E27892+54818]\n\t(No symbol) [0x00007FF6F3D96AC2]\n\t(No symbol) [0x00007FF6F3C4DA3B]\n\t(No symbol) [0x00007FF6F3C8E4FC]\n\t(No symbol) [0x00007FF6F3C8E67C]\n\t(No symbol) [0x00007FF6F3CC9627]\n\t(No symbol) [0x00007FF6F3CAEAEF]\n\t(No symbol) [0x00007FF6F3CC75A2]\n\t(No symbol) [0x00007FF6F3CAE883]\n\t(No symbol) [0x00007FF6F3C83691]\n\t(No symbol) [0x00007FF6F3C848D4]\n\tGetHandleVerifier [0x00007FF6F418B992+3610402]\n\tGetHandleVerifier [0x00007FF6F41E1860+3962352]\n\tGetHandleVerifier [0x00007FF6F41D9D4F+3930847]\n\tGetHandleVerifier [0x00007FF6F3EC3646+693206]\n\t(No symbol) [0x00007FF6F3DA1628]\n\t(No symbol) [0x00007FF6F3D9D934]\n\t(No symbol) [0x00007FF6F3D9DA62]\n\t(No symbol) [0x00007FF6F3D8E113]\n\tBaseThreadInitThunk [0x00007FF82EEE7344+20]\n\tRtlUserThreadStart [0x00007FF82F3A26B1+33]\n"
     ]
    }
   ],
   "source": [
    "from selenium.webdriver import Chrome\n",
    "from lxml import etree\n",
    "import time\n",
    "import json\n",
    "from selenium.webdriver.common.by import By\n",
    "from selenium import webdriver\n",
    "import re\n",
    "from bs4 import BeautifulSoup\n",
    "import csv\n",
    "from selenium.webdriver.common.keys import Keys\n",
    "import requests\n",
    "import json\n",
    "import csv\n",
    "from urllib import parse\n",
    "\n",
    "options = webdriver.ChromeOptions()\n",
    "# options.add_argument('--headless')# 无界面\n",
    "# options.add_argument('--disable-gpu')#禁用GPU\n",
    "# options.add_experimental_option('excludeSwitches', ['enable-automation'])# 设置为开发者模式\n",
    "# options.add_argument(\"--disable-blink-features=AutomationControlled\")#防止检测\n",
    "options.add_experimental_option(\"debuggerAddress\", \"127.0.0.1:9527\")\n",
    "web = webdriver.Chrome(options=options)\n",
    "headers = {\n",
    "    'User-Agent': \"Mozilla/5.0 (Linux; Android 6.0; Nexus 5 Build/MRA58N) AppleWebKit/537.36 (KHTML, like Gecko) Chrome/98.0.4758.80 Mobile Safari/537.36 Edg/98.0.1108.43\"\n",
    "}\n",
    "\n",
    "\n",
    "# 点击图片上传按钮\n",
    "web.find_element(By.CLASS_NAME, 'soutu-btn').click()\n",
    "time.sleep(5)\n",
    "# 找到上传图片元素\n",
    "upload_pic_input = web.find_element(By.CLASS_NAME, 'upload-pic')\n",
    "# 直接上传\n",
    "upload_pic_input.send_keys(r'D:/1/9242.png')\n",
    "\n",
    "time.sleep(5)"
   ]
  },
  {
   "cell_type": "code",
   "execution_count": 5,
   "metadata": {},
   "outputs": [
    {
     "name": "stdout",
     "output_type": "stream",
     "text": [
      "Moviepy - Building video D:/1/output_3.mp4.\n",
      "Moviepy - Writing video D:/1/output_3.mp4\n",
      "\n"
     ]
    },
    {
     "name": "stderr",
     "output_type": "stream",
     "text": [
      "                                                                 "
     ]
    },
    {
     "name": "stdout",
     "output_type": "stream",
     "text": [
      "Moviepy - Done !\n",
      "Moviepy - video ready D:/1/output_3.mp4\n"
     ]
    },
    {
     "name": "stderr",
     "output_type": "stream",
     "text": [
      "\r"
     ]
    },
    {
     "ename": "",
     "evalue": "",
     "output_type": "error",
     "traceback": [
      "\u001b[1;31m在当前单元格或上一个单元格中执行代码时 Kernel 崩溃。请查看单元格中的代码，以确定故障的可能原因。有关详细信息，请单击 <a href='https://aka.ms/vscodeJupyterKernelCrash'>此处</a>。有关更多详细信息，请查看 Jupyter <a href='command:jupyter.viewOutput'>log</a>。"
     ]
    }
   ],
   "source": [
    "input_file= \"D:/1/1.mp4\"\n",
    "output_file = \"D:/1/output_3.mp4\"\n",
    "x= 0\n",
    "y= 0\n",
    "width= 160\n",
    "height= 480\n",
    "from moviepy.editor import VideoFileClip\n",
    "\n",
    "def crop_video(input_file, output_file, x, y, width, height):\n",
    "    # 打开视频文件\n",
    "    video = VideoFileClip(input_file)\n",
    "\n",
    "    # 裁剪视频的指定区域\n",
    "    cropped_video = video.crop(x1=x, y1=y, x2=x+width, y2=y+height)\n",
    "\n",
    "    # 保存裁剪后的视频\n",
    "    cropped_video.write_videofile(output_file)\n",
    "\n",
    "# 调用函数进行视频裁剪\n",
    "crop_video(input_file, output_file, 100, 100, 400, 300)"
   ]
  }
 ],
 "metadata": {
  "kernelspec": {
   "display_name": "Python 3",
   "language": "python",
   "name": "python3"
  },
  "language_info": {
   "codemirror_mode": {
    "name": "ipython",
    "version": 3
   },
   "file_extension": ".py",
   "mimetype": "text/x-python",
   "name": "python",
   "nbconvert_exporter": "python",
   "pygments_lexer": "ipython3",
   "version": "3.11.5"
  },
  "orig_nbformat": 4
 },
 "nbformat": 4,
 "nbformat_minor": 2
}
