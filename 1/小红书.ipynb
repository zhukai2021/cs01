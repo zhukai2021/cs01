{
 "cells": [
  {
   "cell_type": "code",
   "execution_count": 2,
   "metadata": {},
   "outputs": [
    {
     "name": "stdout",
     "output_type": "stream",
     "text": [
      "['https://www.xiaohongshu.com/explore/657ac9060000000038025f41', 'https://www.xiaohongshu.com/explore/655366e20000000017036632', 'https://www.xiaohongshu.com/explore/6597ef3900000000150020d2', 'https://www.xiaohongshu.com/explore/659544be000000001c0132a8', 'https://www.xiaohongshu.com/explore/659400a7000000001e009081', 'https://www.xiaohongshu.com/explore/658e3c1c0000000015001ae3', 'https://www.xiaohongshu.com/explore/658d64b600000000110334a2', 'https://www.xiaohongshu.com/explore/658c1cbf000000001e0093ee', 'https://www.xiaohongshu.com/explore/658bc69a000000001c010eb2', 'https://www.xiaohongshu.com/explore/658aa5d7000000001a000625', 'https://www.xiaohongshu.com/explore/6587b1480000000038017ca5', 'https://www.xiaohongshu.com/explore/658657d1000000003802e4ef', 'https://www.xiaohongshu.com/explore/65842fc3000000003c012e25', 'https://www.xiaohongshu.com/explore/6583b723000000003802733c', 'https://www.xiaohongshu.com/explore/6582dcc50000000038020a50', 'https://www.xiaohongshu.com/explore/65816b07000000003c0126c2', 'https://www.xiaohongshu.com/explore/65812ce500000000380297f3', 'https://www.xiaohongshu.com/explore/6580388b000000003403733a', 'https://www.xiaohongshu.com/explore/657d6a00000000003903055a', 'https://www.xiaohongshu.com/explore/657819d900000000380178d8', 'https://www.xiaohongshu.com/explore/657849e400000000160057c6', 'https://www.xiaohongshu.com/explore/6576f757000000003a00c40d', 'https://www.xiaohongshu.com/explore/65758b76000000003a0085f2', 'https://www.xiaohongshu.com/explore/65742381000000003a00ee02', 'https://www.xiaohongshu.com/explore/657288ac0000000039031192', 'https://www.xiaohongshu.com/explore/657134830000000016005216', 'https://www.xiaohongshu.com/explore/657066df000000003802d177', 'https://www.xiaohongshu.com/explore/656f0aeb000000003802ff17', 'https://www.xiaohongshu.com/explore/656d948d000000003802d861', 'https://www.xiaohongshu.com/explore/656a91350000000038033e6c', 'https://www.xiaohongshu.com/explore/6569a75a000000003802bb09', 'https://www.xiaohongshu.com/explore/6568819f000000003801fcfe']\n"
     ]
    },
    {
     "ename": "IndexError",
     "evalue": "list index out of range",
     "output_type": "error",
     "traceback": [
      "\u001b[1;31m---------------------------------------------------------------------------\u001b[0m",
      "\u001b[1;31mIndexError\u001b[0m                                Traceback (most recent call last)",
      "Cell \u001b[1;32mIn[2], line 52\u001b[0m\n\u001b[0;32m     50\u001b[0m description \u001b[38;5;241m=\u001b[39m html\u001b[38;5;241m.\u001b[39mxpath(\u001b[38;5;124m'\u001b[39m\u001b[38;5;124m//meta [@name=\u001b[39m\u001b[38;5;124m\"\u001b[39m\u001b[38;5;124mdescription\u001b[39m\u001b[38;5;124m\"\u001b[39m\u001b[38;5;124m]/@content\u001b[39m\u001b[38;5;124m'\u001b[39m) \u001b[38;5;66;03m# 得到一个列表，包含description的content\u001b[39;00m\n\u001b[0;32m     51\u001b[0m \u001b[38;5;66;03m# 列表中只有一个元素，取出来赋值给一个变量\u001b[39;00m\n\u001b[1;32m---> 52\u001b[0m title \u001b[38;5;241m=\u001b[39m title[\u001b[38;5;241m0\u001b[39m]\n\u001b[0;32m     53\u001b[0m description \u001b[38;5;241m=\u001b[39m description[\u001b[38;5;241m0\u001b[39m]\n\u001b[0;32m     54\u001b[0m \u001b[38;5;28mprint\u001b[39m(title)\n",
      "\u001b[1;31mIndexError\u001b[0m: list index out of range"
     ]
    }
   ],
   "source": [
    "# 导入库\n",
    "import requests\n",
    "from bs4 import BeautifulSoup\n",
    "import pandas as pd\n",
    "import re\n",
    "from lxml import etree # 导入etree模块\n",
    "\n",
    "# 定义请求头\n",
    "headers = {\n",
    "    'User-Agent': 'Mozilla/5.0 (Windows NT 10.0; Win64; x64) AppleWebKit/537.36 (KHTML, like Gecko) Chrome/89.0.4389.82 Safari/537.36'\n",
    "}\n",
    "\n",
    "# 定义初始网址\n",
    "start_url = 'https://www.xiaohongshu.com/user/profile/581535d16a6a694890abae38'\n",
    "\n",
    "# 定义空列表，用于存储数据\n",
    "note_links = [] # 笔记链接\n",
    "\n",
    "# 发送请求，获取响应\n",
    "response = requests.get(start_url, headers=headers)\n",
    "# 解析响应，得到HTML文本\n",
    "html = response.text\n",
    "#print(html)\n",
    "# 使用BeautifulSoup解析HTML文本\n",
    "pattern = r'href=\"/explore/(\\w+)\"'  # 匹配 href=\"/explore/\" 后面的一串字符\n",
    "\n",
    "matches = re.findall(pattern, html)  # 使用 findall 方法找到所有匹配项\n",
    "#新建空数组\n",
    "wz1 = []\n",
    "if matches:\n",
    "    # 打印所有匹配项\n",
    "    for match in matches:\n",
    "        url = \"https://www.xiaohongshu.com/explore/\" + match\n",
    "        #print(url)\n",
    "        wz1.append(url)\n",
    "        #print(match)\n",
    "else:\n",
    "    print(\"没有找到匹配项\")\n",
    "print(wz1)    \n",
    "\n",
    "#遍历数组wz1\n",
    "for wz2 in wz1:\n",
    "\n",
    "    # 发送请求，获取响应\n",
    "    response = requests.get(wz2, headers=headers)\n",
    "    # 解析响应，得到_Element对象\n",
    "    html = etree.HTML(response.text) # 使用etree.HTML()函数解析HTML文本\n",
    "    # 提取description的content，使用html.xpath()方法\n",
    "    title = html.xpath('//meta [@name=\"title\"]/@content') # 得到一个列表，包含description的content\n",
    "    description = html.xpath('//meta [@name=\"description\"]/@content') # 得到一个列表，包含description的content\n",
    "    # 列表中只有一个元素，取出来赋值给一个变量\n",
    "    title = title[0]\n",
    "    description = description[0]\n",
    "    print(title)\n",
    "\n",
    "    # 打印description的content\n",
    "    print(title+'--'+description)\n",
    "    # description保存到1.csv\n",
    "    with open('1.csv', 'a', encoding='utf-8') as f:\n",
    "        f.write(title+'--'+description + '\\n')\n",
    "        "
   ]
  },
  {
   "cell_type": "code",
   "execution_count": 14,
   "metadata": {},
   "outputs": [
    {
     "name": "stdout",
     "output_type": "stream",
     "text": [
      "自1958年法国第五共和国(五共)制宪以来，法国建立了半总统制，实现制度层面在稳定和效率间的相对平衡。 \t - 合法性来源： 五共总统由全民选举直接选出，总统拥有人民主权授予的合法性。(1962宪法第6条) \t - 内阁任免： 总统实际控制行政权，并任命内阁和总理，但总统颁布命令需得到总理和内阁的签字。同时，总理对议会负责。 \t - 不信任投票程序修正： 总理需在部长会议审核后提交法案给议会，如议会否决该案即会发起不信任投票。若投票通过，宪法习惯要求总统强迫总理辞职，以防止议会解散或产生政治僵局。 \t - 事实多数(fait majoritaire)： 五共会在总统选举后立刻进行议会选举，以尽量确保行政和立法机构由同一政党控制，避免党争导致的政治动荡。 \t - 紧急状态权： 五共的紧急状态由总统发布。2008年宪法修正案后，总统有权利在海外开展军事行动后3天内通知议会。议会可以因此进行辩论，但不会立刻进行投票。如果干预持续超过四个月，政府必须将延长行动的提案提交给议会审核授权。(宪法第35条c) \t 白话翻译： 通过建立宪法传统和赋予总统强大的行政权力，五共实现了制度层面的权力制衡，避免了四共出现的政治僵局和宪法危机。 \t 参考资料： G. Allen-Mestrallet \"INTRODUCTION TO COMPARATIVE POLITICAL INSTITUTIONS AND CONSTITUTIONAL LAW\" Autumn 2017. \t #巴黎政治学院  #国际关系  #政治  #法国  #法国政治  #第五共和国  #五共  #宪法  #西方政治制度  #比较政治  #权力平衡  #三权分立  #社科达人激励计划  #社科  #人文  #人文科普  #名词解释  #人文社科类  #AP比较政治\n"
     ]
    }
   ],
   "source": [
    "# 导入库\n",
    "import requests\n",
    "from lxml import etree # 导入etree模块\n",
    "\n",
    "# 定义请求头\n",
    "headers = {\n",
    "    'User-Agent': 'Mozilla/5.0 (Windows NT 10.0; Win64; x64) AppleWebKit/537.36 (KHTML, like Gecko) Chrome/89.0.4389.82 Safari/537.36'\n",
    "}\n",
    "\n",
    "# 定义要采集的网址，这里以百度为例\n",
    "url = 'https://www.xiaohongshu.com/explore/6571873200000000340358ce'\n",
    "\n",
    "# 发送请求，获取响应\n",
    "response = requests.get(url, headers=headers)\n",
    "# 解析响应，得到_Element对象\n",
    "html = etree.HTML(response.text) # 使用etree.HTML()函数解析HTML文本\n",
    "# 提取description的content，使用html.xpath()方法\n",
    "description = html.xpath('//meta [@name=\"description\"]/@content') # 得到一个列表，包含description的content\n",
    "# 列表中只有一个元素，取出来赋值给一个变量\n",
    "description = description[0]\n",
    "\n",
    "# 打印description的content\n",
    "print(description)\n"
   ]
  }
 ],
 "metadata": {
  "kernelspec": {
   "display_name": "base",
   "language": "python",
   "name": "python3"
  },
  "language_info": {
   "codemirror_mode": {
    "name": "ipython",
    "version": 3
   },
   "file_extension": ".py",
   "mimetype": "text/x-python",
   "name": "python",
   "nbconvert_exporter": "python",
   "pygments_lexer": "ipython3",
   "version": "3.11.5"
  }
 },
 "nbformat": 4,
 "nbformat_minor": 2
}
