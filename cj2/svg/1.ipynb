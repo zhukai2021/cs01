{
 "cells": [
  {
   "cell_type": "code",
   "execution_count": 4,
   "metadata": {},
   "outputs": [
    {
     "ename": "OSError",
     "evalue": "no library called \"cairo-2\" was found\nno library called \"cairo\" was found\nno library called \"libcairo-2\" was found\ncannot load library 'libcairo.so.2': error 0x7e.  Additionally, ctypes.util.find_library() did not manage to locate a library called 'libcairo.so.2'\ncannot load library 'libcairo.2.dylib': error 0x7e.  Additionally, ctypes.util.find_library() did not manage to locate a library called 'libcairo.2.dylib'\ncannot load library 'libcairo-2.dll': error 0x7e.  Additionally, ctypes.util.find_library() did not manage to locate a library called 'libcairo-2.dll'",
     "output_type": "error",
     "traceback": [
      "\u001b[1;31m---------------------------------------------------------------------------\u001b[0m",
      "\u001b[1;31mOSError\u001b[0m                                   Traceback (most recent call last)",
      "Cell \u001b[1;32mIn[4], line 1\u001b[0m\n\u001b[1;32m----> 1\u001b[0m \u001b[38;5;28;01mimport\u001b[39;00m \u001b[38;5;21;01mcairosvg\u001b[39;00m\n\u001b[0;32m      3\u001b[0m \u001b[38;5;28;01mdef\u001b[39;00m \u001b[38;5;21mconvert_svg_to_png\u001b[39m(svg_file, png_file):\n\u001b[0;32m      4\u001b[0m \u001b[38;5;250m    \u001b[39m\u001b[38;5;124;03m\"\"\"\u001b[39;00m\n\u001b[0;32m      5\u001b[0m \u001b[38;5;124;03m    将SVG文件转换为PNG图像\u001b[39;00m\n\u001b[0;32m      6\u001b[0m \u001b[38;5;124;03m    :param svg_file: 输入的SVG文件路径\u001b[39;00m\n\u001b[0;32m      7\u001b[0m \u001b[38;5;124;03m    :param png_file: 输出的PNG文件路径\u001b[39;00m\n\u001b[0;32m      8\u001b[0m \u001b[38;5;124;03m    \"\"\"\u001b[39;00m\n",
      "File \u001b[1;32mc:\\Users\\guang\\anaconda3\\Lib\\site-packages\\cairosvg\\__init__.py:26\u001b[0m\n\u001b[0;32m     22\u001b[0m VERSION \u001b[38;5;241m=\u001b[39m __version__ \u001b[38;5;241m=\u001b[39m (ROOT \u001b[38;5;241m/\u001b[39m \u001b[38;5;124m'\u001b[39m\u001b[38;5;124mVERSION\u001b[39m\u001b[38;5;124m'\u001b[39m)\u001b[38;5;241m.\u001b[39mread_text()\u001b[38;5;241m.\u001b[39mstrip()\n\u001b[0;32m     25\u001b[0m \u001b[38;5;66;03m# VERSION is used in the \"url\" module imported by \"surface\"\u001b[39;00m\n\u001b[1;32m---> 26\u001b[0m \u001b[38;5;28;01mfrom\u001b[39;00m \u001b[38;5;21;01m.\u001b[39;00m \u001b[38;5;28;01mimport\u001b[39;00m surface  \u001b[38;5;66;03m# noqa isort:skip\u001b[39;00m\n\u001b[0;32m     29\u001b[0m SURFACES \u001b[38;5;241m=\u001b[39m {\n\u001b[0;32m     30\u001b[0m     \u001b[38;5;124m'\u001b[39m\u001b[38;5;124mPDF\u001b[39m\u001b[38;5;124m'\u001b[39m: surface\u001b[38;5;241m.\u001b[39mPDFSurface,\n\u001b[0;32m     31\u001b[0m     \u001b[38;5;124m'\u001b[39m\u001b[38;5;124mPNG\u001b[39m\u001b[38;5;124m'\u001b[39m: surface\u001b[38;5;241m.\u001b[39mPNGSurface,\n\u001b[1;32m   (...)\u001b[0m\n\u001b[0;32m     34\u001b[0m     \u001b[38;5;124m'\u001b[39m\u001b[38;5;124mSVG\u001b[39m\u001b[38;5;124m'\u001b[39m: surface\u001b[38;5;241m.\u001b[39mSVGSurface,\n\u001b[0;32m     35\u001b[0m }\n\u001b[0;32m     38\u001b[0m \u001b[38;5;28;01mdef\u001b[39;00m \u001b[38;5;21msvg2svg\u001b[39m(bytestring\u001b[38;5;241m=\u001b[39m\u001b[38;5;28;01mNone\u001b[39;00m, \u001b[38;5;241m*\u001b[39m, file_obj\u001b[38;5;241m=\u001b[39m\u001b[38;5;28;01mNone\u001b[39;00m, url\u001b[38;5;241m=\u001b[39m\u001b[38;5;28;01mNone\u001b[39;00m, dpi\u001b[38;5;241m=\u001b[39m\u001b[38;5;241m96\u001b[39m,\n\u001b[0;32m     39\u001b[0m             parent_width\u001b[38;5;241m=\u001b[39m\u001b[38;5;28;01mNone\u001b[39;00m, parent_height\u001b[38;5;241m=\u001b[39m\u001b[38;5;28;01mNone\u001b[39;00m, scale\u001b[38;5;241m=\u001b[39m\u001b[38;5;241m1\u001b[39m, unsafe\u001b[38;5;241m=\u001b[39m\u001b[38;5;28;01mFalse\u001b[39;00m,\n\u001b[0;32m     40\u001b[0m             background_color\u001b[38;5;241m=\u001b[39m\u001b[38;5;28;01mNone\u001b[39;00m, negate_colors\u001b[38;5;241m=\u001b[39m\u001b[38;5;28;01mFalse\u001b[39;00m, invert_images\u001b[38;5;241m=\u001b[39m\u001b[38;5;28;01mFalse\u001b[39;00m,\n\u001b[0;32m     41\u001b[0m             write_to\u001b[38;5;241m=\u001b[39m\u001b[38;5;28;01mNone\u001b[39;00m, output_width\u001b[38;5;241m=\u001b[39m\u001b[38;5;28;01mNone\u001b[39;00m, output_height\u001b[38;5;241m=\u001b[39m\u001b[38;5;28;01mNone\u001b[39;00m):\n",
      "File \u001b[1;32mc:\\Users\\guang\\anaconda3\\Lib\\site-packages\\cairosvg\\surface.py:9\u001b[0m\n\u001b[0;32m      6\u001b[0m \u001b[38;5;28;01mimport\u001b[39;00m \u001b[38;5;21;01mcopy\u001b[39;00m\n\u001b[0;32m      7\u001b[0m \u001b[38;5;28;01mimport\u001b[39;00m \u001b[38;5;21;01mio\u001b[39;00m\n\u001b[1;32m----> 9\u001b[0m \u001b[38;5;28;01mimport\u001b[39;00m \u001b[38;5;21;01mcairocffi\u001b[39;00m \u001b[38;5;28;01mas\u001b[39;00m \u001b[38;5;21;01mcairo\u001b[39;00m\n\u001b[0;32m     11\u001b[0m \u001b[38;5;28;01mfrom\u001b[39;00m \u001b[38;5;21;01m.\u001b[39;00m\u001b[38;5;21;01mcolors\u001b[39;00m \u001b[38;5;28;01mimport\u001b[39;00m color, negate_color\n\u001b[0;32m     12\u001b[0m \u001b[38;5;28;01mfrom\u001b[39;00m \u001b[38;5;21;01m.\u001b[39;00m\u001b[38;5;21;01mdefs\u001b[39;00m \u001b[38;5;28;01mimport\u001b[39;00m (\n\u001b[0;32m     13\u001b[0m     apply_filter_after_painting, apply_filter_before_painting, clip_path,\n\u001b[0;32m     14\u001b[0m     filter_, gradient_or_pattern, linear_gradient, marker, mask, paint_mask,\n\u001b[0;32m     15\u001b[0m     parse_all_defs, pattern, prepare_filter, radial_gradient, use)\n",
      "File \u001b[1;32mc:\\Users\\guang\\anaconda3\\Lib\\site-packages\\cairocffi\\__init__.py:60\u001b[0m\n\u001b[0;32m     55\u001b[0m     error_message \u001b[38;5;241m=\u001b[39m \u001b[38;5;124m'\u001b[39m\u001b[38;5;130;01m\\n\u001b[39;00m\u001b[38;5;124m'\u001b[39m\u001b[38;5;241m.\u001b[39mjoin(  \u001b[38;5;66;03m# pragma: no cover\u001b[39;00m\n\u001b[0;32m     56\u001b[0m         \u001b[38;5;28mstr\u001b[39m(exception) \u001b[38;5;28;01mfor\u001b[39;00m exception \u001b[38;5;129;01min\u001b[39;00m exceptions)\n\u001b[0;32m     57\u001b[0m     \u001b[38;5;28;01mraise\u001b[39;00m \u001b[38;5;167;01mOSError\u001b[39;00m(error_message)  \u001b[38;5;66;03m# pragma: no cover\u001b[39;00m\n\u001b[1;32m---> 60\u001b[0m cairo \u001b[38;5;241m=\u001b[39m dlopen(\n\u001b[0;32m     61\u001b[0m     ffi, (\u001b[38;5;124m'\u001b[39m\u001b[38;5;124mcairo-2\u001b[39m\u001b[38;5;124m'\u001b[39m, \u001b[38;5;124m'\u001b[39m\u001b[38;5;124mcairo\u001b[39m\u001b[38;5;124m'\u001b[39m, \u001b[38;5;124m'\u001b[39m\u001b[38;5;124mlibcairo-2\u001b[39m\u001b[38;5;124m'\u001b[39m),\n\u001b[0;32m     62\u001b[0m     (\u001b[38;5;124m'\u001b[39m\u001b[38;5;124mlibcairo.so.2\u001b[39m\u001b[38;5;124m'\u001b[39m, \u001b[38;5;124m'\u001b[39m\u001b[38;5;124mlibcairo.2.dylib\u001b[39m\u001b[38;5;124m'\u001b[39m, \u001b[38;5;124m'\u001b[39m\u001b[38;5;124mlibcairo-2.dll\u001b[39m\u001b[38;5;124m'\u001b[39m))\n\u001b[0;32m     65\u001b[0m \u001b[38;5;28;01mclass\u001b[39;00m \u001b[38;5;21;01m_keepref\u001b[39;00m(\u001b[38;5;28mobject\u001b[39m):  \u001b[38;5;66;03m# noqa: N801\u001b[39;00m\n\u001b[0;32m     66\u001b[0m \u001b[38;5;250m    \u001b[39m\u001b[38;5;124;03m\"\"\"Function wrapper that keeps a reference to another object.\"\"\"\u001b[39;00m\n",
      "File \u001b[1;32mc:\\Users\\guang\\anaconda3\\Lib\\site-packages\\cairocffi\\__init__.py:57\u001b[0m, in \u001b[0;36mdlopen\u001b[1;34m(ffi, library_names, filenames)\u001b[0m\n\u001b[0;32m     53\u001b[0m         exceptions\u001b[38;5;241m.\u001b[39mappend(exception)\n\u001b[0;32m     55\u001b[0m error_message \u001b[38;5;241m=\u001b[39m \u001b[38;5;124m'\u001b[39m\u001b[38;5;130;01m\\n\u001b[39;00m\u001b[38;5;124m'\u001b[39m\u001b[38;5;241m.\u001b[39mjoin(  \u001b[38;5;66;03m# pragma: no cover\u001b[39;00m\n\u001b[0;32m     56\u001b[0m     \u001b[38;5;28mstr\u001b[39m(exception) \u001b[38;5;28;01mfor\u001b[39;00m exception \u001b[38;5;129;01min\u001b[39;00m exceptions)\n\u001b[1;32m---> 57\u001b[0m \u001b[38;5;28;01mraise\u001b[39;00m \u001b[38;5;167;01mOSError\u001b[39;00m(error_message)\n",
      "\u001b[1;31mOSError\u001b[0m: no library called \"cairo-2\" was found\nno library called \"cairo\" was found\nno library called \"libcairo-2\" was found\ncannot load library 'libcairo.so.2': error 0x7e.  Additionally, ctypes.util.find_library() did not manage to locate a library called 'libcairo.so.2'\ncannot load library 'libcairo.2.dylib': error 0x7e.  Additionally, ctypes.util.find_library() did not manage to locate a library called 'libcairo.2.dylib'\ncannot load library 'libcairo-2.dll': error 0x7e.  Additionally, ctypes.util.find_library() did not manage to locate a library called 'libcairo-2.dll'"
     ]
    }
   ],
   "source": [
    "import cairosvg\n",
    "\n",
    "def convert_svg_to_png(svg_file, png_file):\n",
    "    \"\"\"\n",
    "    将SVG文件转换为PNG图像\n",
    "    :param svg_file: 输入的SVG文件路径\n",
    "    :param png_file: 输出的PNG文件路径\n",
    "    \"\"\"\n",
    "    try:\n",
    "        # 使用cairosvg将SVG转换为PNG\n",
    "        cairosvg.svg2png(url=svg_file, write_to=png_file)\n",
    "        print(f\"转换成功！PNG文件已保存为: {png_file}\")\n",
    "    except Exception as e:\n",
    "        print(f\"转换失败: {e}\")\n",
    "\n",
    "# 示例用法\n",
    "\n",
    "# 输入SVG文件路径\n",
    "input_svg = \"2.svg\"  # 替换为你的SVG文件路径\n",
    "# 输出PNG文件路径\n",
    "output_png = \"output.png\"  # 替换为你想要的PNG文件路径\n",
    "\n",
    "# 调用函数进行转换\n",
    "convert_svg_to_png(input_svg, output_png)"
   ]
  },
  {
   "cell_type": "code",
   "execution_count": 3,
   "metadata": {},
   "outputs": [],
   "source": [
    "import time\n",
    "from selenium import webdriver\n",
    "from PIL import Image\n",
    "\n",
    "# 启动浏览器\n",
    "driver = webdriver.Chrome()\n",
    "\n",
    "# 打开HTML文件\n",
    "driver.get(\"D:\\onedriver1t\\OneDrive - 356h31\\桌面\\cs01\\cj2\\svg\\\\2.svg\")  # 替换为你的 HTML 文件路径\n",
    "\n",
    "# 等待页面加载完成\n",
    "time.sleep(2)  # 根据实际情况调整等待时间\n",
    "\n",
    "# 截屏并保存为图片\n",
    "driver.save_screenshot(\"output.png\")\n",
    "\n",
    "# 使用Pillow库调整图像（可选）\n",
    "img = Image.open(\"output.png\")\n",
    "img = img.convert(\"RGB\")  # 转换为RGB格式，以便支持更多图像处理操作\n",
    "img.save(\"output.jpg\", \"JPEG\")  # 保存为JPEG格式\n",
    "\n",
    "# 关闭浏览器\n",
    "driver.quit()"
   ]
  },
  {
   "cell_type": "code",
   "execution_count": 20,
   "metadata": {},
   "outputs": [
    {
     "name": "stdout",
     "output_type": "stream",
     "text": [
      "转换完成！PNG 文件已保存到：example.png\n"
     ]
    }
   ],
   "source": [
    "import cairosvg\n",
    "\n",
    "def convert_svg_to_png(input_svg_path, output_png_path):\n",
    "    try:\n",
    "        # 将 SVG 转换为 PNG，并指定默认字体为 “Microsoft YaHei”（微软雅黑）\n",
    "        cairosvg.svg2png(\n",
    "            url=input_svg_path,\n",
    "            write_to=output_png_path\n",
    "        )\n",
    "        print(f\"转换完成！PNG 文件已保存到：{output_png_path}\")\n",
    "    except Exception as e:\n",
    "        print(f\"转换失败：{e}\")\n",
    "\n",
    "# 示例用法\n",
    "\n",
    "# 输入 SVG 文件路径\n",
    "input_svg = \"2.svg\"  # 替换为你的 SVG 文件路径\n",
    "# 输出 PNG 文件路径\n",
    "output_png = \"example.png\"  # 替换为你想要保存的 PNG 文件路径\n",
    "# 调用转换函数\n",
    "convert_svg_to_png(input_svg, output_png)"
   ]
  },
  {
   "cell_type": "code",
   "execution_count": 24,
   "metadata": {},
   "outputs": [
    {
     "name": "stdout",
     "output_type": "stream",
     "text": [
      "转换完成！PNG 文件已保存到：example.png\n"
     ]
    }
   ],
   "source": [
    "import cairosvg\n",
    "\n",
    "def convert_svg_to_png(input_svg_path, output_png_path):\n",
    "    try:\n",
    "        # 将 SVG 转换为 PNG\n",
    "        cairosvg.svg2png(url=input_svg_path, write_to=output_png_path)\n",
    "        print(f\"转换完成！PNG 文件已保存到：{output_png_path}\")\n",
    "    except Exception as e:\n",
    "        print(f\"转换失败：{e}\")\n",
    "\n",
    "# 示例用法\n",
    "\n",
    "# 输入 SVG 文件路径\n",
    "input_svg = \"1.1.svg\"  # 替换为你的 SVG 文件路径\n",
    "# 输出 PNG 文件路径\n",
    "output_png = \"example.png\"  # 替换为你想要保存的 PNG 文件路径\n",
    "# 调用转换函数\n",
    "convert_svg_to_png(input_svg, output_png)"
   ]
  }
 ],
 "metadata": {
  "kernelspec": {
   "display_name": "base",
   "language": "python",
   "name": "python3"
  },
  "language_info": {
   "codemirror_mode": {
    "name": "ipython",
    "version": 3
   },
   "file_extension": ".py",
   "mimetype": "text/x-python",
   "name": "python",
   "nbconvert_exporter": "python",
   "pygments_lexer": "ipython3",
   "version": "3.9.13"
  }
 },
 "nbformat": 4,
 "nbformat_minor": 2
}
