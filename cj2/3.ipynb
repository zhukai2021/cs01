{
 "cells": [
  {
   "cell_type": "code",
   "execution_count": 1,
   "metadata": {},
   "outputs": [
    {
     "name": "stdout",
     "output_type": "stream",
     "text": [
      "Response content: \n",
      "{\"status\":200,\"msg\":\"OK\",\"result\":{\"name\":\"\\u68a6\",\"pinyin\":\"m\\u00e8ng\",\"bihua\":11,\"bushou\":\"\\u5915\",\"jiegou\":\"\\u4e0a\\u4e0b\\u7ed3\\u6784\",\"bishun\":\"\\u4e00\\u4e28\\u30ce\\u4e36\\u4e00\\u4e28\\u30ce\\u4e36\\u30ce\\u30d5\\u4e36\",\"wubi\":\"SSQU\",\"english\":[\"CL:\\u573a, \\u4e2a; dream\"],\"explain\":[{\"pinyin\":\"m\\u00e8ng\",\"content\":\"\\n\\u7761\\u7720\\u65f6\\u8eab\\u4f53\\u5185\\u5916\\u5404\\u79cd\\u523a\\u6fc0\\u6216\\u6b8b\\u7559\\u5728\\u5927\\u8111\\u91cc\\u7684\\u5916\\u754c\\u523a\\u6fc0\\u5f15\\u8d77\\u7684\\u666f\\u8c61\\u6d3b\\u52a8\\uff1a\\u505a\\uff5e\\u3002\\uff5e\\u5e7b\\u3002\\uff5e\\u4e61\\u3002\\uff5e\\u9b47\\u3002\\uff5e\\u5453\\uff08\\u68a6\\u8bdd\\uff09\\u3002\\uff5e\\u60f3\\u3002\\uff5e\\u5bd0\\u4ee5\\u6c42\\u3002\\u540c\\u5e8a\\u5f02\\uff5e\\u3002\\n\"}]},\"ordersign\":{\"userid\":\"5851\",\"apiid\":\"53\",\"nums\":\"100\"}}\n"
     ]
    }
   ],
   "source": [
    "import requests  \n",
    "  \n",
    "# API的URL  \n",
    "api_url = 'http://open.liupai.net/zidian/query?appkey=0d42a3f0148bcaa3&word=%E6%A2%A6'  \n",
    "  \n",
    "# 发送GET请求  \n",
    "response = requests.get(api_url)  \n",
    "  \n",
    "# 检查响应状态码  \n",
    "if response.status_code == 200:  \n",
    "    # 请求成功，打印返回的内容  \n",
    "    print('Response content:', response.text)  \n",
    "    # 或者，如果API返回的是JSON格式数据，可以使用response.json()方法解析  \n",
    "    # print('Response JSON:', response.json())  \n",
    "else:  \n",
    "    # 请求失败，打印错误信息  \n",
    "    print('Error:', response.status_code, response.text)"
   ]
  },
  {
   "cell_type": "code",
   "execution_count": 1,
   "metadata": {},
   "outputs": [
    {
     "ename": "",
     "evalue": "",
     "output_type": "error",
     "traceback": [
      "\u001b[1;31m在当前单元格或上一个单元格中执行代码时 Kernel 崩溃。请查看单元格中的代码，以确定故障的可能原因。有关详细信息，请单击 <a href='https://aka.ms/vscodeJupyterKernelCrash'>此处</a>。有关更多详细信息，请查看 Jupyter <a href='command:jupyter.viewOutput'>log</a>。"
     ]
    }
   ],
   "source": [
    "import cv2\n",
    "import os\n",
    "\n",
    "# 图像路径\n",
    "img_folder = 'images/'\n",
    "\n",
    "# 定义视频编解码器\n",
    "fourcc = cv2.VideoWriter_fourcc(*'mp4v')\n",
    "\n",
    "# 输出视频名称\n",
    "out_name = 'output.mp4'\n",
    "\n",
    "# 获取图像列表\n",
    "img_list = sorted(os.listdir(img_folder))\n",
    "\n",
    "# 读取第一张图像，获取图像宽高\n",
    "img = cv2.imread(os.path.join(img_folder, img_list[0]))\n",
    "height, width = img.shape[:2]\n",
    "\n",
    "# 创建输出视频对象\n",
    "out = cv2.VideoWriter(out_name, fourcc, 30.0, (width, height))\n",
    "\n",
    "# 遍历图像列表，写入视频帧\n",
    "for img_name in img_list:\n",
    "    img_path = os.path.join(img_folder, img_name)\n",
    "    img = cv2.imread(img_path)\n",
    "    out.write(img)\n",
    "\n",
    "# 释放资源\n",
    "out.release()\n"
   ]
  },
  {
   "cell_type": "code",
   "execution_count": 2,
   "metadata": {},
   "outputs": [],
   "source": [
    "import requests\n",
    "import time\n",
    "\n",
    "# 定义要监控的网页URL和要监控的关键字\n",
    "url = \"http://www.sqrsks.cn/\"\n",
    "keyword = \"商丘市职位体检公告\"\n",
    "\n",
    "while True:\n",
    "    # 获取最新页面内容\n",
    "    response = requests.get(url)\n",
    "    content = response.content.decode(\"utf-8\")\n",
    "\n",
    "    # 如果页面中包含关键字，则停止监控\n",
    "    if keyword in content:\n",
    "        print(\"已检测到关键字，停止监控。\")\n",
    "        break\n",
    "\n",
    "    # 等待一段时间再检查页面是否更新\n",
    "    time.sleep(60)\n",
    "print(content)\n",
    "url = \"http://wxpusher.zjiecode.com/api/send/message/?appToken=AT_GRDG2ZQu57APwWcSxZpavjK3qNl9tCfO&content=sq&uid=UID_JNz25wHNb8ExLeaoWTMY98BFuIcL&url=http%3a%2f%2fwxpusher.zjiecode.com\"\n",
    "\n",
    "\n",
    "response = requests.get(url)\n",
    "print(response.text)\n"
   ]
  },
  {
   "cell_type": "code",
   "execution_count": 1,
   "metadata": {},
   "outputs": [
    {
     "name": "stdout",
     "output_type": "stream",
     "text": [
      "{\"code\":1000,\"msg\":\"处理成功\",\"data\":[{\"uid\":\"UID_JNz25wHNb8ExLeaoWTMY98BFuIcL\",\"topicId\":null,\"messageId\":603015964,\"messageContentId\":488330142,\"sendRecordId\":603015964,\"code\":1000,\"status\":\"创建发送任务成功\"}],\"success\":true}\n"
     ]
    }
   ],
   "source": [
    "import requests\n",
    "\n",
    "url = \"http://wxpusher.zjiecode.com/api/send/message/?appToken=AT_GRDG2ZQu57APwWcSxZpavjK3qNl9tCfO&content=sq&uid=UID_JNz25wHNb8ExLeaoWTMY98BFuIcL&url=http%3a%2f%2fwxpusher.zjiecode.com\"\n",
    "\n",
    "\n",
    "response = requests.get(url)\n",
    "print(response.text)"
   ]
  }
 ],
 "metadata": {
  "kernelspec": {
   "display_name": "base",
   "language": "python",
   "name": "python3"
  },
  "language_info": {
   "codemirror_mode": {
    "name": "ipython",
    "version": 3
   },
   "file_extension": ".py",
   "mimetype": "text/x-python",
   "name": "python",
   "nbconvert_exporter": "python",
   "pygments_lexer": "ipython3",
   "version": "3.9.13"
  },
  "orig_nbformat": 4
 },
 "nbformat": 4,
 "nbformat_minor": 2
}
