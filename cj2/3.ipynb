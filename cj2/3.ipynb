{
 "cells": [
  {
   "cell_type": "code",
   "execution_count": 5,
   "metadata": {},
   "outputs": [
    {
     "ename": "error",
     "evalue": "OpenCV(4.7.0) D:\\a\\opencv-python\\opencv-python\\opencv\\modules\\imgcodecs\\src\\loadsave.cpp:692: error: (-2:Unspecified error) could not find a writer for the specified extension in function 'cv::imwrite_'\n",
     "output_type": "error",
     "traceback": [
      "\u001b[1;31m---------------------------------------------------------------------------\u001b[0m",
      "\u001b[1;31merror\u001b[0m                                     Traceback (most recent call last)",
      "\u001b[1;32m~\\AppData\\Local\\Temp\\ipykernel_4932\\2146086494.py\u001b[0m in \u001b[0;36m<module>\u001b[1;34m\u001b[0m\n\u001b[0;32m     43\u001b[0m \u001b[1;33m\u001b[0m\u001b[0m\n\u001b[0;32m     44\u001b[0m \u001b[1;33m\u001b[0m\u001b[0m\n\u001b[1;32m---> 45\u001b[1;33m \u001b[0mcv2\u001b[0m\u001b[1;33m.\u001b[0m\u001b[0mimwrite\u001b[0m\u001b[1;33m(\u001b[0m\u001b[1;34m\"21.mp4\"\u001b[0m\u001b[1;33m,\u001b[0m \u001b[0mimg1\u001b[0m\u001b[1;33m)\u001b[0m\u001b[1;33m\u001b[0m\u001b[1;33m\u001b[0m\u001b[0m\n\u001b[0m\u001b[0;32m     46\u001b[0m \u001b[1;33m\u001b[0m\u001b[0m\n\u001b[0;32m     47\u001b[0m \u001b[1;31m# '''关闭窗口'''\u001b[0m\u001b[1;33m\u001b[0m\u001b[1;33m\u001b[0m\u001b[0m\n",
      "\u001b[1;31merror\u001b[0m: OpenCV(4.7.0) D:\\a\\opencv-python\\opencv-python\\opencv\\modules\\imgcodecs\\src\\loadsave.cpp:692: error: (-2:Unspecified error) could not find a writer for the specified extension in function 'cv::imwrite_'\n"
     ]
    }
   ],
   "source": [
    "import cv2\n",
    "import numpy as np\n",
    "\n",
    "\n",
    "def percent_func_gen(a, b, time, n, mode):\n",
    "    \"\"\"\n",
    "    高次多项式计算函数生成器\n",
    "    :param a: 起始百分比（如：0.25）\n",
    "    :param b: 结束百分比\n",
    "    :param time: 动画持续时间\n",
    "    :param n: 多项式次数\n",
    "    :param mode: faster（越来越快）、slower（越来越慢）\n",
    "    :return: 每个时刻到达百分比的计算函数\n",
    "    \"\"\"\n",
    "    if mode == \"slower\":\n",
    "        a, b = b, a\n",
    "    delta = abs(a - b)\n",
    "    sgn = 1 if b - a > 0 else (-1 if b - a < 0 else 0)\n",
    "\n",
    "    def percent_calc(ti):\n",
    "        if mode == \"slower\":\n",
    "            ti = time - ti\n",
    "        return sgn * delta / (time ** n) * (ti ** n) + a\n",
    "\n",
    "    return percent_calc\n",
    "\n",
    "\n",
    "'''读入图像'''\n",
    "img1 = cv2.imread(\"1.jpg\")\n",
    "img2 = cv2.imread(\"2.jpg\")\n",
    "rows, cols = img1.shape[:2]\n",
    "\n",
    "'''特效展示'''\n",
    "load_f = 20\n",
    "tim = 0.3\n",
    "percent_func = percent_func_gen(a=0, b=1, time=tim, n=1, mode=\"null\")\n",
    "for t in range(int(tim * 1000) // load_f + 1):\n",
    "    percent = percent_func(t * load_f / 1000)\n",
    "    height = int(percent * rows)\n",
    "    img1[:height, :] = img2[:height, :]\n",
    "    # cv2.imshow(\"show\", img1)\n",
    "    # cv2.waitKey(load_f)\n",
    "\n",
    "\n",
    "cv2.imwrite(\"21.mp4\", img1)\n",
    "\n",
    "# '''关闭窗口'''\n",
    "# cv2.waitKey(1500)\n",
    "# cv2.destroyAllWindows()"
   ]
  },
  {
   "cell_type": "code",
   "execution_count": 1,
   "metadata": {},
   "outputs": [
    {
     "name": "stdout",
     "output_type": "stream",
     "text": [
      "除以零异常： division by zero\n"
     ]
    }
   ],
   "source": [
    "try:\n",
    "    a = 10 / 0\n",
    "except ZeroDivisionError as e:\n",
    "    print(\"除以零异常：\", e)"
   ]
  },
  {
   "cell_type": "code",
   "execution_count": 1,
   "metadata": {},
   "outputs": [
    {
     "ename": "",
     "evalue": "",
     "output_type": "error",
     "traceback": [
      "\u001b[1;31m在当前单元格或上一个单元格中执行代码时 Kernel 崩溃。请查看单元格中的代码，以确定故障的可能原因。有关详细信息，请单击 <a href='https://aka.ms/vscodeJupyterKernelCrash'>此处</a>。有关更多详细信息，请查看 Jupyter <a href='command:jupyter.viewOutput'>log</a>。"
     ]
    }
   ],
   "source": [
    "import cv2\n",
    "import os\n",
    "\n",
    "# 图像路径\n",
    "img_folder = 'images/'\n",
    "\n",
    "# 定义视频编解码器\n",
    "fourcc = cv2.VideoWriter_fourcc(*'mp4v')\n",
    "\n",
    "# 输出视频名称\n",
    "out_name = 'output.mp4'\n",
    "\n",
    "# 获取图像列表\n",
    "img_list = sorted(os.listdir(img_folder))\n",
    "\n",
    "# 读取第一张图像，获取图像宽高\n",
    "img = cv2.imread(os.path.join(img_folder, img_list[0]))\n",
    "height, width = img.shape[:2]\n",
    "\n",
    "# 创建输出视频对象\n",
    "out = cv2.VideoWriter(out_name, fourcc, 30.0, (width, height))\n",
    "\n",
    "# 遍历图像列表，写入视频帧\n",
    "for img_name in img_list:\n",
    "    img_path = os.path.join(img_folder, img_name)\n",
    "    img = cv2.imread(img_path)\n",
    "    out.write(img)\n",
    "\n",
    "# 释放资源\n",
    "out.release()\n"
   ]
  },
  {
   "cell_type": "code",
   "execution_count": 2,
   "metadata": {},
   "outputs": [],
   "source": [
    "import requests\n",
    "import time\n",
    "\n",
    "# 定义要监控的网页URL和要监控的关键字\n",
    "url = \"http://www.sqrsks.cn/\"\n",
    "keyword = \"商丘市职位体检公告\"\n",
    "\n",
    "while True:\n",
    "    # 获取最新页面内容\n",
    "    response = requests.get(url)\n",
    "    content = response.content.decode(\"utf-8\")\n",
    "\n",
    "    # 如果页面中包含关键字，则停止监控\n",
    "    if keyword in content:\n",
    "        print(\"已检测到关键字，停止监控。\")\n",
    "        break\n",
    "\n",
    "    # 等待一段时间再检查页面是否更新\n",
    "    time.sleep(60)\n",
    "print(content)\n",
    "url = \"http://wxpusher.zjiecode.com/api/send/message/?appToken=AT_GRDG2ZQu57APwWcSxZpavjK3qNl9tCfO&content=sq&uid=UID_JNz25wHNb8ExLeaoWTMY98BFuIcL&url=http%3a%2f%2fwxpusher.zjiecode.com\"\n",
    "\n",
    "\n",
    "response = requests.get(url)\n",
    "print(response.text)\n"
   ]
  },
  {
   "cell_type": "code",
   "execution_count": 1,
   "metadata": {},
   "outputs": [
    {
     "name": "stdout",
     "output_type": "stream",
     "text": [
      "{\"code\":1000,\"msg\":\"处理成功\",\"data\":[{\"uid\":\"UID_JNz25wHNb8ExLeaoWTMY98BFuIcL\",\"topicId\":null,\"messageId\":603015964,\"messageContentId\":488330142,\"sendRecordId\":603015964,\"code\":1000,\"status\":\"创建发送任务成功\"}],\"success\":true}\n"
     ]
    }
   ],
   "source": [
    "import requests\n",
    "\n",
    "url = \"http://wxpusher.zjiecode.com/api/send/message/?appToken=AT_GRDG2ZQu57APwWcSxZpavjK3qNl9tCfO&content=sq&uid=UID_JNz25wHNb8ExLeaoWTMY98BFuIcL&url=http%3a%2f%2fwxpusher.zjiecode.com\"\n",
    "\n",
    "\n",
    "response = requests.get(url)\n",
    "print(response.text)"
   ]
  }
 ],
 "metadata": {
  "kernelspec": {
   "display_name": "base",
   "language": "python",
   "name": "python3"
  },
  "language_info": {
   "codemirror_mode": {
    "name": "ipython",
    "version": 3
   },
   "file_extension": ".py",
   "mimetype": "text/x-python",
   "name": "python",
   "nbconvert_exporter": "python",
   "pygments_lexer": "ipython3",
   "version": "3.9.13"
  },
  "orig_nbformat": 4
 },
 "nbformat": 4,
 "nbformat_minor": 2
}
