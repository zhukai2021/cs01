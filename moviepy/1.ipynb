import json
import requests
r = requests.get(url='https://api.iculture.cc/api/images/?url=https://v.douyin.com/SwQ7H5W/')
    # 输出访问状态，如为<200>即为访问成功
    # print("初始访问状态:", r)
    # 使用json解析获取的网页内容
data_json = json.loads(r.text)
print(data_json['images'])
